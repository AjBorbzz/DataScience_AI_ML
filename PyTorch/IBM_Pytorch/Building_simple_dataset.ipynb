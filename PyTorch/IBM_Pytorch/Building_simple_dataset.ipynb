{
 "cells": [
  {
   "cell_type": "markdown",
   "id": "9b7c02da",
   "metadata": {},
   "source": [
    "## Simple Dataset\n",
    "In this notebook, I will demonstrate how to create a simple dataset in PyTorch and how to perform transformations in the dataset.\n"
   ]
  },
  {
   "cell_type": "code",
   "execution_count": 1,
   "id": "d9a3c539",
   "metadata": {},
   "outputs": [
    {
     "data": {
      "text/plain": [
       "<torch._C.Generator at 0x10ef15370>"
      ]
     },
     "execution_count": 1,
     "metadata": {},
     "output_type": "execute_result"
    }
   ],
   "source": [
    "import torch\n",
    "from torch.utils.data import Dataset\n",
    "torch.manual_seed(1)"
   ]
  },
  {
   "cell_type": "markdown",
   "id": "12eeb894",
   "metadata": {},
   "source": [
    "#### Create Simple Dataset Class"
   ]
  },
  {
   "cell_type": "code",
   "execution_count": null,
   "id": "0a15c366",
   "metadata": {},
   "outputs": [],
   "source": [
    "class toy_set(Dataset):\n",
    "    \n",
    "    def __init__(self, length = 100, transform = None):\n",
    "        self.len = length\n",
    "        self.x = 2 * torch.ones(length, 2)\n",
    "        self.y = torch.ones(length, 1)\n",
    "        self.transform = transform\n",
    "     \n",
    "    # Getter\n",
    "    def __getitem__(self, index):\n",
    "        sample = self.x[index], self.y[index]\n",
    "        if self.transform:\n",
    "            sample = self.transform(sample)     \n",
    "        return sample\n",
    "    \n",
    "    # Get Length\n",
    "    def __len__(self):\n",
    "        return self.len"
   ]
  },
  {
   "cell_type": "markdown",
   "id": "b5a81fe0",
   "metadata": {},
   "source": [
    "#### Test the `toy_set()` class"
   ]
  },
  {
   "cell_type": "code",
   "execution_count": 3,
   "id": "444a30ec",
   "metadata": {},
   "outputs": [
    {
     "name": "stdout",
     "output_type": "stream",
     "text": [
      "Our toy_set object:  <__main__.toy_set object at 0x11ebf1fd0>\n",
      "Value on index 0 of our toy_set object:  (tensor([2., 2.]), tensor([1.]))\n",
      "Our toy_set length:  100\n"
     ]
    }
   ],
   "source": [
    "our_dataset = toy_set()\n",
    "print(\"Our toy_set object: \", our_dataset)\n",
    "print(\"Value on index 0 of our toy_set object: \", our_dataset[0])\n",
    "print(\"Our toy_set length: \", len(our_dataset))"
   ]
  },
  {
   "cell_type": "code",
   "execution_count": 4,
   "id": "2885e386",
   "metadata": {},
   "outputs": [
    {
     "name": "stdout",
     "output_type": "stream",
     "text": [
      "index:  0 ; x: tensor([2., 2.]) ; y: tensor([1.])\n",
      "index:  1 ; x: tensor([2., 2.]) ; y: tensor([1.])\n",
      "index:  2 ; x: tensor([2., 2.]) ; y: tensor([1.])\n"
     ]
    }
   ],
   "source": [
    "for i in range(3):\n",
    "    x, y=our_dataset[i]\n",
    "    print(\"index: \", i, '; x:', x, '; y:', y)"
   ]
  },
  {
   "cell_type": "code",
   "execution_count": 5,
   "id": "838d4225",
   "metadata": {},
   "outputs": [
    {
     "name": "stdout",
     "output_type": "stream",
     "text": [
      " x: tensor([2., 2.]) y: tensor([1.])\n",
      " x: tensor([2., 2.]) y: tensor([1.])\n",
      " x: tensor([2., 2.]) y: tensor([1.])\n",
      " x: tensor([2., 2.]) y: tensor([1.])\n",
      " x: tensor([2., 2.]) y: tensor([1.])\n",
      " x: tensor([2., 2.]) y: tensor([1.])\n",
      " x: tensor([2., 2.]) y: tensor([1.])\n",
      " x: tensor([2., 2.]) y: tensor([1.])\n",
      " x: tensor([2., 2.]) y: tensor([1.])\n",
      " x: tensor([2., 2.]) y: tensor([1.])\n",
      " x: tensor([2., 2.]) y: tensor([1.])\n",
      " x: tensor([2., 2.]) y: tensor([1.])\n",
      " x: tensor([2., 2.]) y: tensor([1.])\n",
      " x: tensor([2., 2.]) y: tensor([1.])\n",
      " x: tensor([2., 2.]) y: tensor([1.])\n",
      " x: tensor([2., 2.]) y: tensor([1.])\n",
      " x: tensor([2., 2.]) y: tensor([1.])\n",
      " x: tensor([2., 2.]) y: tensor([1.])\n",
      " x: tensor([2., 2.]) y: tensor([1.])\n",
      " x: tensor([2., 2.]) y: tensor([1.])\n",
      " x: tensor([2., 2.]) y: tensor([1.])\n",
      " x: tensor([2., 2.]) y: tensor([1.])\n",
      " x: tensor([2., 2.]) y: tensor([1.])\n",
      " x: tensor([2., 2.]) y: tensor([1.])\n",
      " x: tensor([2., 2.]) y: tensor([1.])\n",
      " x: tensor([2., 2.]) y: tensor([1.])\n",
      " x: tensor([2., 2.]) y: tensor([1.])\n",
      " x: tensor([2., 2.]) y: tensor([1.])\n",
      " x: tensor([2., 2.]) y: tensor([1.])\n",
      " x: tensor([2., 2.]) y: tensor([1.])\n",
      " x: tensor([2., 2.]) y: tensor([1.])\n",
      " x: tensor([2., 2.]) y: tensor([1.])\n",
      " x: tensor([2., 2.]) y: tensor([1.])\n",
      " x: tensor([2., 2.]) y: tensor([1.])\n",
      " x: tensor([2., 2.]) y: tensor([1.])\n",
      " x: tensor([2., 2.]) y: tensor([1.])\n",
      " x: tensor([2., 2.]) y: tensor([1.])\n",
      " x: tensor([2., 2.]) y: tensor([1.])\n",
      " x: tensor([2., 2.]) y: tensor([1.])\n",
      " x: tensor([2., 2.]) y: tensor([1.])\n",
      " x: tensor([2., 2.]) y: tensor([1.])\n",
      " x: tensor([2., 2.]) y: tensor([1.])\n",
      " x: tensor([2., 2.]) y: tensor([1.])\n",
      " x: tensor([2., 2.]) y: tensor([1.])\n",
      " x: tensor([2., 2.]) y: tensor([1.])\n",
      " x: tensor([2., 2.]) y: tensor([1.])\n",
      " x: tensor([2., 2.]) y: tensor([1.])\n",
      " x: tensor([2., 2.]) y: tensor([1.])\n",
      " x: tensor([2., 2.]) y: tensor([1.])\n",
      " x: tensor([2., 2.]) y: tensor([1.])\n",
      " x: tensor([2., 2.]) y: tensor([1.])\n",
      " x: tensor([2., 2.]) y: tensor([1.])\n",
      " x: tensor([2., 2.]) y: tensor([1.])\n",
      " x: tensor([2., 2.]) y: tensor([1.])\n",
      " x: tensor([2., 2.]) y: tensor([1.])\n",
      " x: tensor([2., 2.]) y: tensor([1.])\n",
      " x: tensor([2., 2.]) y: tensor([1.])\n",
      " x: tensor([2., 2.]) y: tensor([1.])\n",
      " x: tensor([2., 2.]) y: tensor([1.])\n",
      " x: tensor([2., 2.]) y: tensor([1.])\n",
      " x: tensor([2., 2.]) y: tensor([1.])\n",
      " x: tensor([2., 2.]) y: tensor([1.])\n",
      " x: tensor([2., 2.]) y: tensor([1.])\n",
      " x: tensor([2., 2.]) y: tensor([1.])\n",
      " x: tensor([2., 2.]) y: tensor([1.])\n",
      " x: tensor([2., 2.]) y: tensor([1.])\n",
      " x: tensor([2., 2.]) y: tensor([1.])\n",
      " x: tensor([2., 2.]) y: tensor([1.])\n",
      " x: tensor([2., 2.]) y: tensor([1.])\n",
      " x: tensor([2., 2.]) y: tensor([1.])\n",
      " x: tensor([2., 2.]) y: tensor([1.])\n",
      " x: tensor([2., 2.]) y: tensor([1.])\n",
      " x: tensor([2., 2.]) y: tensor([1.])\n",
      " x: tensor([2., 2.]) y: tensor([1.])\n",
      " x: tensor([2., 2.]) y: tensor([1.])\n",
      " x: tensor([2., 2.]) y: tensor([1.])\n",
      " x: tensor([2., 2.]) y: tensor([1.])\n",
      " x: tensor([2., 2.]) y: tensor([1.])\n",
      " x: tensor([2., 2.]) y: tensor([1.])\n",
      " x: tensor([2., 2.]) y: tensor([1.])\n",
      " x: tensor([2., 2.]) y: tensor([1.])\n",
      " x: tensor([2., 2.]) y: tensor([1.])\n",
      " x: tensor([2., 2.]) y: tensor([1.])\n",
      " x: tensor([2., 2.]) y: tensor([1.])\n",
      " x: tensor([2., 2.]) y: tensor([1.])\n",
      " x: tensor([2., 2.]) y: tensor([1.])\n",
      " x: tensor([2., 2.]) y: tensor([1.])\n",
      " x: tensor([2., 2.]) y: tensor([1.])\n",
      " x: tensor([2., 2.]) y: tensor([1.])\n",
      " x: tensor([2., 2.]) y: tensor([1.])\n",
      " x: tensor([2., 2.]) y: tensor([1.])\n",
      " x: tensor([2., 2.]) y: tensor([1.])\n",
      " x: tensor([2., 2.]) y: tensor([1.])\n",
      " x: tensor([2., 2.]) y: tensor([1.])\n",
      " x: tensor([2., 2.]) y: tensor([1.])\n",
      " x: tensor([2., 2.]) y: tensor([1.])\n",
      " x: tensor([2., 2.]) y: tensor([1.])\n",
      " x: tensor([2., 2.]) y: tensor([1.])\n",
      " x: tensor([2., 2.]) y: tensor([1.])\n",
      " x: tensor([2., 2.]) y: tensor([1.])\n"
     ]
    }
   ],
   "source": [
    "for x,y in our_dataset:\n",
    "    print(' x:', x, 'y:', y)"
   ]
  },
  {
   "cell_type": "markdown",
   "id": "87a2d446",
   "metadata": {},
   "source": [
    "### Alternative `toy_set()` object with length 50."
   ]
  },
  {
   "cell_type": "code",
   "execution_count": 7,
   "id": "df1f0610",
   "metadata": {},
   "outputs": [
    {
     "name": "stdout",
     "output_type": "stream",
     "text": [
      "My toy_set length:  50\n"
     ]
    }
   ],
   "source": [
    "my_dataset = toy_set(length=50)\n",
    "print(\"My toy_set length: \", len(my_dataset))"
   ]
  },
  {
   "cell_type": "markdown",
   "id": "be31e1aa",
   "metadata": {},
   "source": [
    "### Transforms\n",
    "Create a class for transforming data. For example, add 1 to x and multiply y by 2."
   ]
  },
  {
   "cell_type": "code",
   "execution_count": 8,
   "id": "6ec9e662",
   "metadata": {},
   "outputs": [],
   "source": [
    "class add_mult(object):\n",
    "    def __init__(self, addx=1, multy = 2):\n",
    "        self.addx = addx\n",
    "        self.multy = multy\n",
    "\n",
    "\n",
    "    def __call__(self, sample):\n",
    "        x = sample[0]\n",
    "        y = sample[1]\n",
    "        x = x + self.addx\n",
    "        y = y * self.multy\n",
    "        sample = x, y\n",
    "        return sample"
   ]
  },
  {
   "cell_type": "markdown",
   "id": "e0934a34",
   "metadata": {},
   "source": [
    "### Test the transformer class\n"
   ]
  },
  {
   "cell_type": "code",
   "execution_count": 9,
   "id": "e0355178",
   "metadata": {},
   "outputs": [],
   "source": [
    "a_m = add_mult()\n",
    "data_set = toy_set()"
   ]
  },
  {
   "cell_type": "code",
   "execution_count": 10,
   "id": "e2407404",
   "metadata": {},
   "outputs": [
    {
     "name": "stdout",
     "output_type": "stream",
     "text": [
      "Index:  0 Original x:  tensor([2., 2.]) Original y:  tensor([1.])\n",
      "Index:  0 Transformed x_: tensor([3., 3.]) Transformed y_: tensor([2.])\n",
      "Index:  1 Original x:  tensor([2., 2.]) Original y:  tensor([1.])\n",
      "Index:  1 Transformed x_: tensor([3., 3.]) Transformed y_: tensor([2.])\n",
      "Index:  2 Original x:  tensor([2., 2.]) Original y:  tensor([1.])\n",
      "Index:  2 Transformed x_: tensor([3., 3.]) Transformed y_: tensor([2.])\n",
      "Index:  3 Original x:  tensor([2., 2.]) Original y:  tensor([1.])\n",
      "Index:  3 Transformed x_: tensor([3., 3.]) Transformed y_: tensor([2.])\n",
      "Index:  4 Original x:  tensor([2., 2.]) Original y:  tensor([1.])\n",
      "Index:  4 Transformed x_: tensor([3., 3.]) Transformed y_: tensor([2.])\n",
      "Index:  5 Original x:  tensor([2., 2.]) Original y:  tensor([1.])\n",
      "Index:  5 Transformed x_: tensor([3., 3.]) Transformed y_: tensor([2.])\n",
      "Index:  6 Original x:  tensor([2., 2.]) Original y:  tensor([1.])\n",
      "Index:  6 Transformed x_: tensor([3., 3.]) Transformed y_: tensor([2.])\n",
      "Index:  7 Original x:  tensor([2., 2.]) Original y:  tensor([1.])\n",
      "Index:  7 Transformed x_: tensor([3., 3.]) Transformed y_: tensor([2.])\n",
      "Index:  8 Original x:  tensor([2., 2.]) Original y:  tensor([1.])\n",
      "Index:  8 Transformed x_: tensor([3., 3.]) Transformed y_: tensor([2.])\n",
      "Index:  9 Original x:  tensor([2., 2.]) Original y:  tensor([1.])\n",
      "Index:  9 Transformed x_: tensor([3., 3.]) Transformed y_: tensor([2.])\n"
     ]
    }
   ],
   "source": [
    "for i in range(10):\n",
    "    x, y = data_set[i]\n",
    "    print('Index: ', i, 'Original x: ', x, 'Original y: ', y)\n",
    "    x_, y_ = a_m(data_set[i])\n",
    "    print('Index: ', i, 'Transformed x_:', x_, 'Transformed y_:', y_)"
   ]
  },
  {
   "cell_type": "markdown",
   "id": "e3ae4f04",
   "metadata": {},
   "source": [
    "c"
   ]
  }
 ],
 "metadata": {
  "kernelspec": {
   "display_name": "venv",
   "language": "python",
   "name": "python3"
  },
  "language_info": {
   "codemirror_mode": {
    "name": "ipython",
    "version": 3
   },
   "file_extension": ".py",
   "mimetype": "text/x-python",
   "name": "python",
   "nbconvert_exporter": "python",
   "pygments_lexer": "ipython3",
   "version": "3.13.2"
  }
 },
 "nbformat": 4,
 "nbformat_minor": 5
}
