{
 "cells": [
  {
   "cell_type": "markdown",
   "id": "b20725b7",
   "metadata": {},
   "source": [
    "# **Direct Preference Optimization (DPO) Using Hugging Face**"
   ]
  },
  {
   "cell_type": "markdown",
   "id": "b6d664a3",
   "metadata": {},
   "source": [
    "The direct preference optimization (DPO) method comes in place which directly optimizes LLMs based models on user preferences, enhancing their alignment with human expectations."
   ]
  },
  {
   "cell_type": "code",
   "execution_count": 1,
   "id": "b83f8d37",
   "metadata": {},
   "outputs": [
    {
     "name": "stdout",
     "output_type": "stream",
     "text": [
      "Requirement already satisfied: torch==2.3.1 in /Users/ajborbz/.pyenv/versions/3.11.9/lib/python3.11/site-packages (2.3.1)\n",
      "Requirement already satisfied: filelock in /Users/ajborbz/.pyenv/versions/3.11.9/lib/python3.11/site-packages (from torch==2.3.1) (3.18.0)\n",
      "Requirement already satisfied: typing-extensions>=4.8.0 in /Users/ajborbz/.pyenv/versions/3.11.9/lib/python3.11/site-packages (from torch==2.3.1) (4.14.0)\n",
      "Requirement already satisfied: sympy in /Users/ajborbz/.pyenv/versions/3.11.9/lib/python3.11/site-packages (from torch==2.3.1) (1.14.0)\n",
      "Requirement already satisfied: networkx in /Users/ajborbz/.pyenv/versions/3.11.9/lib/python3.11/site-packages (from torch==2.3.1) (3.5)\n",
      "Requirement already satisfied: jinja2 in /Users/ajborbz/.pyenv/versions/3.11.9/lib/python3.11/site-packages (from torch==2.3.1) (3.1.6)\n",
      "Requirement already satisfied: fsspec in /Users/ajborbz/.local/lib/python3.11/site-packages (from torch==2.3.1) (2024.5.0)\n",
      "Requirement already satisfied: MarkupSafe>=2.0 in /Users/ajborbz/.pyenv/versions/3.11.9/lib/python3.11/site-packages (from jinja2->torch==2.3.1) (3.0.2)\n",
      "Requirement already satisfied: mpmath<1.4,>=1.1.0 in /Users/ajborbz/.pyenv/versions/3.11.9/lib/python3.11/site-packages (from sympy->torch==2.3.1) (1.3.0)\n",
      "Collecting trl==0.11.4\n",
      "  Downloading trl-0.11.4-py3-none-any.whl.metadata (12 kB)\n",
      "Requirement already satisfied: torch>=1.4.0 in /Users/ajborbz/.pyenv/versions/3.11.9/lib/python3.11/site-packages (from trl==0.11.4) (2.3.1)\n",
      "Requirement already satisfied: transformers>=4.40.0 in /Users/ajborbz/.pyenv/versions/3.11.9/lib/python3.11/site-packages (from trl==0.11.4) (4.53.3)\n",
      "Requirement already satisfied: accelerate in /Users/ajborbz/.local/lib/python3.11/site-packages (from trl==0.11.4) (1.8.1)\n",
      "Requirement already satisfied: datasets in /Users/ajborbz/.local/lib/python3.11/site-packages (from trl==0.11.4) (3.2.0)\n",
      "Requirement already satisfied: tyro>=0.5.11 in /Users/ajborbz/.local/lib/python3.11/site-packages (from trl==0.11.4) (0.9.26)\n",
      "Requirement already satisfied: numpy>=1.18.2 in /Users/ajborbz/.pyenv/versions/3.11.9/lib/python3.11/site-packages (from trl==0.11.4) (1.24.4)\n",
      "Requirement already satisfied: filelock in /Users/ajborbz/.pyenv/versions/3.11.9/lib/python3.11/site-packages (from torch>=1.4.0->trl==0.11.4) (3.18.0)\n",
      "Requirement already satisfied: typing-extensions>=4.8.0 in /Users/ajborbz/.pyenv/versions/3.11.9/lib/python3.11/site-packages (from torch>=1.4.0->trl==0.11.4) (4.14.0)\n",
      "Requirement already satisfied: sympy in /Users/ajborbz/.pyenv/versions/3.11.9/lib/python3.11/site-packages (from torch>=1.4.0->trl==0.11.4) (1.14.0)\n",
      "Requirement already satisfied: networkx in /Users/ajborbz/.pyenv/versions/3.11.9/lib/python3.11/site-packages (from torch>=1.4.0->trl==0.11.4) (3.5)\n",
      "Requirement already satisfied: jinja2 in /Users/ajborbz/.pyenv/versions/3.11.9/lib/python3.11/site-packages (from torch>=1.4.0->trl==0.11.4) (3.1.6)\n",
      "Requirement already satisfied: fsspec in /Users/ajborbz/.local/lib/python3.11/site-packages (from torch>=1.4.0->trl==0.11.4) (2024.5.0)\n",
      "Requirement already satisfied: huggingface-hub<1.0,>=0.30.0 in /Users/ajborbz/.pyenv/versions/3.11.9/lib/python3.11/site-packages (from transformers>=4.40.0->trl==0.11.4) (0.33.4)\n",
      "Requirement already satisfied: packaging>=20.0 in /Users/ajborbz/.pyenv/versions/3.11.9/lib/python3.11/site-packages (from transformers>=4.40.0->trl==0.11.4) (25.0)\n",
      "Requirement already satisfied: pyyaml>=5.1 in /Users/ajborbz/.local/lib/python3.11/site-packages (from transformers>=4.40.0->trl==0.11.4) (6.0.2)\n",
      "Requirement already satisfied: regex!=2019.12.17 in /Users/ajborbz/.local/lib/python3.11/site-packages (from transformers>=4.40.0->trl==0.11.4) (2024.11.6)\n",
      "Requirement already satisfied: requests in /Users/ajborbz/.local/lib/python3.11/site-packages (from transformers>=4.40.0->trl==0.11.4) (2.32.4)\n",
      "Requirement already satisfied: tokenizers<0.22,>=0.21 in /Users/ajborbz/.pyenv/versions/3.11.9/lib/python3.11/site-packages (from transformers>=4.40.0->trl==0.11.4) (0.21.2)\n",
      "Requirement already satisfied: safetensors>=0.4.3 in /Users/ajborbz/.local/lib/python3.11/site-packages (from transformers>=4.40.0->trl==0.11.4) (0.5.3)\n",
      "Requirement already satisfied: tqdm>=4.27 in /Users/ajborbz/.local/lib/python3.11/site-packages (from transformers>=4.40.0->trl==0.11.4) (4.66.4)\n",
      "Requirement already satisfied: hf-xet<2.0.0,>=1.1.2 in /Users/ajborbz/.local/lib/python3.11/site-packages (from huggingface-hub<1.0,>=0.30.0->transformers>=4.40.0->trl==0.11.4) (1.1.5)\n",
      "Requirement already satisfied: docstring-parser>=0.15 in /Users/ajborbz/.local/lib/python3.11/site-packages (from tyro>=0.5.11->trl==0.11.4) (0.16)\n",
      "Requirement already satisfied: rich>=11.1.0 in /Users/ajborbz/.local/lib/python3.11/site-packages (from tyro>=0.5.11->trl==0.11.4) (14.0.0)\n",
      "Requirement already satisfied: shtab>=1.5.6 in /Users/ajborbz/.local/lib/python3.11/site-packages (from tyro>=0.5.11->trl==0.11.4) (1.7.2)\n",
      "Requirement already satisfied: typeguard>=4.0.0 in /Users/ajborbz/.local/lib/python3.11/site-packages (from tyro>=0.5.11->trl==0.11.4) (4.4.4)\n",
      "Requirement already satisfied: markdown-it-py>=2.2.0 in /Users/ajborbz/.local/lib/python3.11/site-packages (from rich>=11.1.0->tyro>=0.5.11->trl==0.11.4) (3.0.0)\n",
      "Requirement already satisfied: pygments<3.0.0,>=2.13.0 in /Users/ajborbz/.pyenv/versions/3.11.9/lib/python3.11/site-packages (from rich>=11.1.0->tyro>=0.5.11->trl==0.11.4) (2.19.2)\n",
      "Requirement already satisfied: mdurl~=0.1 in /Users/ajborbz/.local/lib/python3.11/site-packages (from markdown-it-py>=2.2.0->rich>=11.1.0->tyro>=0.5.11->trl==0.11.4) (0.1.2)\n",
      "Requirement already satisfied: psutil in /Users/ajborbz/.pyenv/versions/3.11.9/lib/python3.11/site-packages (from accelerate->trl==0.11.4) (7.0.0)\n",
      "Requirement already satisfied: pyarrow>=15.0.0 in /Users/ajborbz/.local/lib/python3.11/site-packages (from datasets->trl==0.11.4) (20.0.0)\n",
      "Requirement already satisfied: dill<0.3.9,>=0.3.0 in /Users/ajborbz/.local/lib/python3.11/site-packages (from datasets->trl==0.11.4) (0.3.8)\n",
      "Requirement already satisfied: pandas in /Users/ajborbz/.local/lib/python3.11/site-packages (from datasets->trl==0.11.4) (2.2.2)\n",
      "Requirement already satisfied: xxhash in /Users/ajborbz/.local/lib/python3.11/site-packages (from datasets->trl==0.11.4) (3.5.0)\n",
      "Requirement already satisfied: multiprocess<0.70.17 in /Users/ajborbz/.local/lib/python3.11/site-packages (from datasets->trl==0.11.4) (0.70.16)\n",
      "Requirement already satisfied: aiohttp in /Users/ajborbz/.local/lib/python3.11/site-packages (from datasets->trl==0.11.4) (3.12.14)\n",
      "Requirement already satisfied: aiohappyeyeballs>=2.5.0 in /Users/ajborbz/.local/lib/python3.11/site-packages (from aiohttp->datasets->trl==0.11.4) (2.6.1)\n",
      "Requirement already satisfied: aiosignal>=1.4.0 in /Users/ajborbz/.local/lib/python3.11/site-packages (from aiohttp->datasets->trl==0.11.4) (1.4.0)\n",
      "Requirement already satisfied: attrs>=17.3.0 in /Users/ajborbz/.local/lib/python3.11/site-packages (from aiohttp->datasets->trl==0.11.4) (25.3.0)\n",
      "Requirement already satisfied: frozenlist>=1.1.1 in /Users/ajborbz/.local/lib/python3.11/site-packages (from aiohttp->datasets->trl==0.11.4) (1.7.0)\n",
      "Requirement already satisfied: multidict<7.0,>=4.5 in /Users/ajborbz/.local/lib/python3.11/site-packages (from aiohttp->datasets->trl==0.11.4) (6.6.3)\n",
      "Requirement already satisfied: propcache>=0.2.0 in /Users/ajborbz/.local/lib/python3.11/site-packages (from aiohttp->datasets->trl==0.11.4) (0.3.2)\n",
      "Requirement already satisfied: yarl<2.0,>=1.17.0 in /Users/ajborbz/.local/lib/python3.11/site-packages (from aiohttp->datasets->trl==0.11.4) (1.20.1)\n",
      "Requirement already satisfied: idna>=2.0 in /Users/ajborbz/.local/lib/python3.11/site-packages (from yarl<2.0,>=1.17.0->aiohttp->datasets->trl==0.11.4) (3.10)\n",
      "Requirement already satisfied: charset_normalizer<4,>=2 in /Users/ajborbz/.local/lib/python3.11/site-packages (from requests->transformers>=4.40.0->trl==0.11.4) (3.4.2)\n",
      "Requirement already satisfied: urllib3<3,>=1.21.1 in /Users/ajborbz/.local/lib/python3.11/site-packages (from requests->transformers>=4.40.0->trl==0.11.4) (2.5.0)\n",
      "Requirement already satisfied: certifi>=2017.4.17 in /Users/ajborbz/.local/lib/python3.11/site-packages (from requests->transformers>=4.40.0->trl==0.11.4) (2025.7.14)\n",
      "Requirement already satisfied: MarkupSafe>=2.0 in /Users/ajborbz/.pyenv/versions/3.11.9/lib/python3.11/site-packages (from jinja2->torch>=1.4.0->trl==0.11.4) (3.0.2)\n",
      "Requirement already satisfied: python-dateutil>=2.8.2 in /Users/ajborbz/.pyenv/versions/3.11.9/lib/python3.11/site-packages (from pandas->datasets->trl==0.11.4) (2.9.0.post0)\n",
      "Requirement already satisfied: pytz>=2020.1 in /Users/ajborbz/.local/lib/python3.11/site-packages (from pandas->datasets->trl==0.11.4) (2025.2)\n",
      "Requirement already satisfied: tzdata>=2022.7 in /Users/ajborbz/.local/lib/python3.11/site-packages (from pandas->datasets->trl==0.11.4) (2025.2)\n",
      "Requirement already satisfied: six>=1.5 in /Users/ajborbz/.pyenv/versions/3.11.9/lib/python3.11/site-packages (from python-dateutil>=2.8.2->pandas->datasets->trl==0.11.4) (1.17.0)\n",
      "Requirement already satisfied: mpmath<1.4,>=1.1.0 in /Users/ajborbz/.pyenv/versions/3.11.9/lib/python3.11/site-packages (from sympy->torch>=1.4.0->trl==0.11.4) (1.3.0)\n",
      "Downloading trl-0.11.4-py3-none-any.whl (316 kB)\n",
      "Installing collected packages: trl\n",
      "  Attempting uninstall: trl\n",
      "    Found existing installation: trl 0.11.0\n",
      "    Uninstalling trl-0.11.0:\n",
      "      Successfully uninstalled trl-0.11.0\n",
      "Successfully installed trl-0.11.4\n",
      "Requirement already satisfied: peft==0.14.0 in /Users/ajborbz/.local/lib/python3.11/site-packages (0.14.0)\n",
      "Requirement already satisfied: numpy>=1.17 in /Users/ajborbz/.pyenv/versions/3.11.9/lib/python3.11/site-packages (from peft==0.14.0) (1.24.4)\n",
      "Requirement already satisfied: packaging>=20.0 in /Users/ajborbz/.pyenv/versions/3.11.9/lib/python3.11/site-packages (from peft==0.14.0) (25.0)\n",
      "Requirement already satisfied: psutil in /Users/ajborbz/.pyenv/versions/3.11.9/lib/python3.11/site-packages (from peft==0.14.0) (7.0.0)\n",
      "Requirement already satisfied: pyyaml in /Users/ajborbz/.local/lib/python3.11/site-packages (from peft==0.14.0) (6.0.2)\n",
      "Requirement already satisfied: torch>=1.13.0 in /Users/ajborbz/.pyenv/versions/3.11.9/lib/python3.11/site-packages (from peft==0.14.0) (2.3.1)\n",
      "Requirement already satisfied: transformers in /Users/ajborbz/.pyenv/versions/3.11.9/lib/python3.11/site-packages (from peft==0.14.0) (4.53.3)\n",
      "Requirement already satisfied: tqdm in /Users/ajborbz/.local/lib/python3.11/site-packages (from peft==0.14.0) (4.66.4)\n",
      "Requirement already satisfied: accelerate>=0.21.0 in /Users/ajborbz/.local/lib/python3.11/site-packages (from peft==0.14.0) (1.8.1)\n",
      "Requirement already satisfied: safetensors in /Users/ajborbz/.local/lib/python3.11/site-packages (from peft==0.14.0) (0.5.3)\n",
      "Requirement already satisfied: huggingface-hub>=0.25.0 in /Users/ajborbz/.pyenv/versions/3.11.9/lib/python3.11/site-packages (from peft==0.14.0) (0.33.4)\n",
      "Requirement already satisfied: filelock in /Users/ajborbz/.pyenv/versions/3.11.9/lib/python3.11/site-packages (from huggingface-hub>=0.25.0->peft==0.14.0) (3.18.0)\n",
      "Requirement already satisfied: fsspec>=2023.5.0 in /Users/ajborbz/.local/lib/python3.11/site-packages (from huggingface-hub>=0.25.0->peft==0.14.0) (2024.5.0)\n",
      "Requirement already satisfied: requests in /Users/ajborbz/.local/lib/python3.11/site-packages (from huggingface-hub>=0.25.0->peft==0.14.0) (2.32.4)\n",
      "Requirement already satisfied: typing-extensions>=3.7.4.3 in /Users/ajborbz/.pyenv/versions/3.11.9/lib/python3.11/site-packages (from huggingface-hub>=0.25.0->peft==0.14.0) (4.14.0)\n",
      "Requirement already satisfied: hf-xet<2.0.0,>=1.1.2 in /Users/ajborbz/.local/lib/python3.11/site-packages (from huggingface-hub>=0.25.0->peft==0.14.0) (1.1.5)\n",
      "Requirement already satisfied: sympy in /Users/ajborbz/.pyenv/versions/3.11.9/lib/python3.11/site-packages (from torch>=1.13.0->peft==0.14.0) (1.14.0)\n",
      "Requirement already satisfied: networkx in /Users/ajborbz/.pyenv/versions/3.11.9/lib/python3.11/site-packages (from torch>=1.13.0->peft==0.14.0) (3.5)\n",
      "Requirement already satisfied: jinja2 in /Users/ajborbz/.pyenv/versions/3.11.9/lib/python3.11/site-packages (from torch>=1.13.0->peft==0.14.0) (3.1.6)\n",
      "Requirement already satisfied: MarkupSafe>=2.0 in /Users/ajborbz/.pyenv/versions/3.11.9/lib/python3.11/site-packages (from jinja2->torch>=1.13.0->peft==0.14.0) (3.0.2)\n",
      "Requirement already satisfied: charset_normalizer<4,>=2 in /Users/ajborbz/.local/lib/python3.11/site-packages (from requests->huggingface-hub>=0.25.0->peft==0.14.0) (3.4.2)\n",
      "Requirement already satisfied: idna<4,>=2.5 in /Users/ajborbz/.local/lib/python3.11/site-packages (from requests->huggingface-hub>=0.25.0->peft==0.14.0) (3.10)\n",
      "Requirement already satisfied: urllib3<3,>=1.21.1 in /Users/ajborbz/.local/lib/python3.11/site-packages (from requests->huggingface-hub>=0.25.0->peft==0.14.0) (2.5.0)\n",
      "Requirement already satisfied: certifi>=2017.4.17 in /Users/ajborbz/.local/lib/python3.11/site-packages (from requests->huggingface-hub>=0.25.0->peft==0.14.0) (2025.7.14)\n",
      "Requirement already satisfied: mpmath<1.4,>=1.1.0 in /Users/ajborbz/.pyenv/versions/3.11.9/lib/python3.11/site-packages (from sympy->torch>=1.13.0->peft==0.14.0) (1.3.0)\n",
      "Requirement already satisfied: regex!=2019.12.17 in /Users/ajborbz/.local/lib/python3.11/site-packages (from transformers->peft==0.14.0) (2024.11.6)\n",
      "Requirement already satisfied: tokenizers<0.22,>=0.21 in /Users/ajborbz/.pyenv/versions/3.11.9/lib/python3.11/site-packages (from transformers->peft==0.14.0) (0.21.2)\n",
      "Collecting matplotlib==3.9.0\n",
      "  Downloading matplotlib-3.9.0-cp311-cp311-macosx_11_0_arm64.whl.metadata (11 kB)\n",
      "Requirement already satisfied: contourpy>=1.0.1 in /Users/ajborbz/.pyenv/versions/3.11.9/lib/python3.11/site-packages (from matplotlib==3.9.0) (1.3.2)\n",
      "Requirement already satisfied: cycler>=0.10 in /Users/ajborbz/.pyenv/versions/3.11.9/lib/python3.11/site-packages (from matplotlib==3.9.0) (0.12.1)\n",
      "Requirement already satisfied: fonttools>=4.22.0 in /Users/ajborbz/.pyenv/versions/3.11.9/lib/python3.11/site-packages (from matplotlib==3.9.0) (4.58.4)\n",
      "Requirement already satisfied: kiwisolver>=1.3.1 in /Users/ajborbz/.pyenv/versions/3.11.9/lib/python3.11/site-packages (from matplotlib==3.9.0) (1.4.8)\n",
      "Requirement already satisfied: numpy>=1.23 in /Users/ajborbz/.pyenv/versions/3.11.9/lib/python3.11/site-packages (from matplotlib==3.9.0) (1.24.4)\n",
      "Requirement already satisfied: packaging>=20.0 in /Users/ajborbz/.pyenv/versions/3.11.9/lib/python3.11/site-packages (from matplotlib==3.9.0) (25.0)\n",
      "Requirement already satisfied: pillow>=8 in /Users/ajborbz/.pyenv/versions/3.11.9/lib/python3.11/site-packages (from matplotlib==3.9.0) (11.3.0)\n",
      "Requirement already satisfied: pyparsing>=2.3.1 in /Users/ajborbz/.pyenv/versions/3.11.9/lib/python3.11/site-packages (from matplotlib==3.9.0) (3.2.3)\n",
      "Requirement already satisfied: python-dateutil>=2.7 in /Users/ajborbz/.pyenv/versions/3.11.9/lib/python3.11/site-packages (from matplotlib==3.9.0) (2.9.0.post0)\n",
      "Requirement already satisfied: six>=1.5 in /Users/ajborbz/.pyenv/versions/3.11.9/lib/python3.11/site-packages (from python-dateutil>=2.7->matplotlib==3.9.0) (1.17.0)\n",
      "Downloading matplotlib-3.9.0-cp311-cp311-macosx_11_0_arm64.whl (7.8 MB)\n",
      "\u001b[2K   \u001b[90m━━━━━━━━━━━━━━━━━━━━━━━━━━━━━━━━━━━━━━━━\u001b[0m \u001b[32m7.8/7.8 MB\u001b[0m \u001b[31m7.2 MB/s\u001b[0m eta \u001b[36m0:00:00\u001b[0ma \u001b[36m0:00:01\u001b[0m\n",
      "\u001b[?25hInstalling collected packages: matplotlib\n",
      "  Attempting uninstall: matplotlib\n",
      "    Found existing installation: matplotlib 3.10.0\n",
      "    Uninstalling matplotlib-3.10.0:\n",
      "      Successfully uninstalled matplotlib-3.10.0\n",
      "Successfully installed matplotlib-3.8.0\n",
      "Requirement already satisfied: pandas in /Users/ajborbz/.local/lib/python3.11/site-packages (2.2.2)\n",
      "Requirement already satisfied: numpy>=1.23.2 in /Users/ajborbz/.pyenv/versions/3.11.9/lib/python3.11/site-packages (from pandas) (1.24.4)\n",
      "Requirement already satisfied: python-dateutil>=2.8.2 in /Users/ajborbz/.pyenv/versions/3.11.9/lib/python3.11/site-packages (from pandas) (2.9.0.post0)\n",
      "Requirement already satisfied: pytz>=2020.1 in /Users/ajborbz/.local/lib/python3.11/site-packages (from pandas) (2025.2)\n",
      "Requirement already satisfied: tzdata>=2022.7 in /Users/ajborbz/.local/lib/python3.11/site-packages (from pandas) (2025.2)\n",
      "Requirement already satisfied: six>=1.5 in /Users/ajborbz/.pyenv/versions/3.11.9/lib/python3.11/site-packages (from python-dateutil>=2.8.2->pandas) (1.17.0)\n",
      "Collecting numpy==1.26.0\n",
      "  Using cached numpy-1.26.0-cp311-cp311-macosx_11_0_arm64.whl.metadata (99 kB)\n",
      "Using cached numpy-1.26.0-cp311-cp311-macosx_11_0_arm64.whl (14.0 MB)\n",
      "Installing collected packages: numpy\n",
      "  Attempting uninstall: numpy\n",
      "    Found existing installation: numpy 1.24.4\n",
      "    Uninstalling numpy-1.24.4:\n",
      "      Successfully uninstalled numpy-1.24.4\n",
      "Successfully installed numpy-1.26.0\n",
      "Requirement already satisfied: datasets==3.2.0 in /Users/ajborbz/.local/lib/python3.11/site-packages (3.2.0)\n",
      "Requirement already satisfied: filelock in /Users/ajborbz/.pyenv/versions/3.11.9/lib/python3.11/site-packages (from datasets==3.2.0) (3.18.0)\n",
      "Requirement already satisfied: numpy>=1.17 in /Users/ajborbz/.pyenv/versions/3.11.9/lib/python3.11/site-packages (from datasets==3.2.0) (1.26.0)\n",
      "Requirement already satisfied: pyarrow>=15.0.0 in /Users/ajborbz/.local/lib/python3.11/site-packages (from datasets==3.2.0) (20.0.0)\n",
      "Requirement already satisfied: dill<0.3.9,>=0.3.0 in /Users/ajborbz/.local/lib/python3.11/site-packages (from datasets==3.2.0) (0.3.8)\n",
      "Requirement already satisfied: pandas in /Users/ajborbz/.local/lib/python3.11/site-packages (from datasets==3.2.0) (2.2.2)\n",
      "Requirement already satisfied: requests>=2.32.2 in /Users/ajborbz/.local/lib/python3.11/site-packages (from datasets==3.2.0) (2.32.4)\n",
      "Requirement already satisfied: tqdm>=4.66.3 in /Users/ajborbz/.local/lib/python3.11/site-packages (from datasets==3.2.0) (4.66.4)\n",
      "Requirement already satisfied: xxhash in /Users/ajborbz/.local/lib/python3.11/site-packages (from datasets==3.2.0) (3.5.0)\n",
      "Requirement already satisfied: multiprocess<0.70.17 in /Users/ajborbz/.local/lib/python3.11/site-packages (from datasets==3.2.0) (0.70.16)\n",
      "Requirement already satisfied: fsspec<=2024.9.0,>=2023.1.0 in /Users/ajborbz/.local/lib/python3.11/site-packages (from fsspec[http]<=2024.9.0,>=2023.1.0->datasets==3.2.0) (2024.5.0)\n",
      "Requirement already satisfied: aiohttp in /Users/ajborbz/.local/lib/python3.11/site-packages (from datasets==3.2.0) (3.12.14)\n",
      "Requirement already satisfied: huggingface-hub>=0.23.0 in /Users/ajborbz/.pyenv/versions/3.11.9/lib/python3.11/site-packages (from datasets==3.2.0) (0.33.4)\n",
      "Requirement already satisfied: packaging in /Users/ajborbz/.pyenv/versions/3.11.9/lib/python3.11/site-packages (from datasets==3.2.0) (25.0)\n",
      "Requirement already satisfied: pyyaml>=5.1 in /Users/ajborbz/.local/lib/python3.11/site-packages (from datasets==3.2.0) (6.0.2)\n",
      "Requirement already satisfied: aiohappyeyeballs>=2.5.0 in /Users/ajborbz/.local/lib/python3.11/site-packages (from aiohttp->datasets==3.2.0) (2.6.1)\n",
      "Requirement already satisfied: aiosignal>=1.4.0 in /Users/ajborbz/.local/lib/python3.11/site-packages (from aiohttp->datasets==3.2.0) (1.4.0)\n",
      "Requirement already satisfied: attrs>=17.3.0 in /Users/ajborbz/.local/lib/python3.11/site-packages (from aiohttp->datasets==3.2.0) (25.3.0)\n",
      "Requirement already satisfied: frozenlist>=1.1.1 in /Users/ajborbz/.local/lib/python3.11/site-packages (from aiohttp->datasets==3.2.0) (1.7.0)\n",
      "Requirement already satisfied: multidict<7.0,>=4.5 in /Users/ajborbz/.local/lib/python3.11/site-packages (from aiohttp->datasets==3.2.0) (6.6.3)\n",
      "Requirement already satisfied: propcache>=0.2.0 in /Users/ajborbz/.local/lib/python3.11/site-packages (from aiohttp->datasets==3.2.0) (0.3.2)\n",
      "Requirement already satisfied: yarl<2.0,>=1.17.0 in /Users/ajborbz/.local/lib/python3.11/site-packages (from aiohttp->datasets==3.2.0) (1.20.1)\n",
      "Requirement already satisfied: idna>=2.0 in /Users/ajborbz/.local/lib/python3.11/site-packages (from yarl<2.0,>=1.17.0->aiohttp->datasets==3.2.0) (3.10)\n",
      "Requirement already satisfied: typing-extensions>=4.2 in /Users/ajborbz/.pyenv/versions/3.11.9/lib/python3.11/site-packages (from aiosignal>=1.4.0->aiohttp->datasets==3.2.0) (4.14.0)\n",
      "Requirement already satisfied: hf-xet<2.0.0,>=1.1.2 in /Users/ajborbz/.local/lib/python3.11/site-packages (from huggingface-hub>=0.23.0->datasets==3.2.0) (1.1.5)\n",
      "Requirement already satisfied: charset_normalizer<4,>=2 in /Users/ajborbz/.local/lib/python3.11/site-packages (from requests>=2.32.2->datasets==3.2.0) (3.4.2)\n",
      "Requirement already satisfied: urllib3<3,>=1.21.1 in /Users/ajborbz/.local/lib/python3.11/site-packages (from requests>=2.32.2->datasets==3.2.0) (2.5.0)\n",
      "Requirement already satisfied: certifi>=2017.4.17 in /Users/ajborbz/.local/lib/python3.11/site-packages (from requests>=2.32.2->datasets==3.2.0) (2025.7.14)\n",
      "Requirement already satisfied: python-dateutil>=2.8.2 in /Users/ajborbz/.pyenv/versions/3.11.9/lib/python3.11/site-packages (from pandas->datasets==3.2.0) (2.9.0.post0)\n",
      "Requirement already satisfied: pytz>=2020.1 in /Users/ajborbz/.local/lib/python3.11/site-packages (from pandas->datasets==3.2.0) (2025.2)\n",
      "Requirement already satisfied: tzdata>=2022.7 in /Users/ajborbz/.local/lib/python3.11/site-packages (from pandas->datasets==3.2.0) (2025.2)\n",
      "Requirement already satisfied: six>=1.5 in /Users/ajborbz/.pyenv/versions/3.11.9/lib/python3.11/site-packages (from python-dateutil>=2.8.2->pandas->datasets==3.2.0) (1.17.0)\n"
     ]
    }
   ],
   "source": [
    "!pip install torch==2.3.1\n",
    "!pip install --user trl==0.11.4 # for optimization training\n",
    "!pip install peft==0.14.0 # for creating LoRA architecture\n",
    "!pip install matplotlib==3.9.0 \n",
    "!pip install pandas\n",
    "!pip install numpy==1.26.0\n",
    "!pip install --user datasets==3.2.0"
   ]
  },
  {
   "cell_type": "code",
   "execution_count": 2,
   "id": "1f792f3b",
   "metadata": {},
   "outputs": [
    {
     "name": "stdout",
     "output_type": "stream",
     "text": [
      "Collecting transformers==4.45.2\n",
      "  Downloading transformers-4.45.2-py3-none-any.whl.metadata (44 kB)\n",
      "Requirement already satisfied: filelock in /Users/ajborbz/.pyenv/versions/3.11.9/lib/python3.11/site-packages (from transformers==4.45.2) (3.18.0)\n",
      "Requirement already satisfied: huggingface-hub<1.0,>=0.23.2 in /Users/ajborbz/.pyenv/versions/3.11.9/lib/python3.11/site-packages (from transformers==4.45.2) (0.33.4)\n",
      "Requirement already satisfied: numpy>=1.17 in /Users/ajborbz/.pyenv/versions/3.11.9/lib/python3.11/site-packages (from transformers==4.45.2) (1.26.0)\n",
      "Requirement already satisfied: packaging>=20.0 in /Users/ajborbz/.pyenv/versions/3.11.9/lib/python3.11/site-packages (from transformers==4.45.2) (25.0)\n",
      "Requirement already satisfied: pyyaml>=5.1 in /Users/ajborbz/.local/lib/python3.11/site-packages (from transformers==4.45.2) (6.0.2)\n",
      "Requirement already satisfied: regex!=2019.12.17 in /Users/ajborbz/.local/lib/python3.11/site-packages (from transformers==4.45.2) (2024.11.6)\n",
      "Requirement already satisfied: requests in /Users/ajborbz/.local/lib/python3.11/site-packages (from transformers==4.45.2) (2.32.4)\n",
      "Requirement already satisfied: safetensors>=0.4.1 in /Users/ajborbz/.local/lib/python3.11/site-packages (from transformers==4.45.2) (0.5.3)\n",
      "Collecting tokenizers<0.21,>=0.20 (from transformers==4.45.2)\n",
      "  Downloading tokenizers-0.20.3-cp311-cp311-macosx_11_0_arm64.whl.metadata (6.7 kB)\n",
      "Requirement already satisfied: tqdm>=4.27 in /Users/ajborbz/.local/lib/python3.11/site-packages (from transformers==4.45.2) (4.66.4)\n",
      "Requirement already satisfied: fsspec>=2023.5.0 in /Users/ajborbz/.local/lib/python3.11/site-packages (from huggingface-hub<1.0,>=0.23.2->transformers==4.45.2) (2024.5.0)\n",
      "Requirement already satisfied: typing-extensions>=3.7.4.3 in /Users/ajborbz/.pyenv/versions/3.11.9/lib/python3.11/site-packages (from huggingface-hub<1.0,>=0.23.2->transformers==4.45.2) (4.14.0)\n",
      "Requirement already satisfied: hf-xet<2.0.0,>=1.1.2 in /Users/ajborbz/.local/lib/python3.11/site-packages (from huggingface-hub<1.0,>=0.23.2->transformers==4.45.2) (1.1.5)\n",
      "Requirement already satisfied: charset_normalizer<4,>=2 in /Users/ajborbz/.local/lib/python3.11/site-packages (from requests->transformers==4.45.2) (3.4.2)\n",
      "Requirement already satisfied: idna<4,>=2.5 in /Users/ajborbz/.local/lib/python3.11/site-packages (from requests->transformers==4.45.2) (3.10)\n",
      "Requirement already satisfied: urllib3<3,>=1.21.1 in /Users/ajborbz/.local/lib/python3.11/site-packages (from requests->transformers==4.45.2) (2.5.0)\n",
      "Requirement already satisfied: certifi>=2017.4.17 in /Users/ajborbz/.local/lib/python3.11/site-packages (from requests->transformers==4.45.2) (2025.7.14)\n",
      "Downloading transformers-4.45.2-py3-none-any.whl (9.9 MB)\n",
      "\u001b[2K   \u001b[90m━━━━━━━━━━━━━━━━━━━━━━━━━━━━━━━━━━━━━━━━\u001b[0m \u001b[32m9.9/9.9 MB\u001b[0m \u001b[31m11.0 MB/s\u001b[0m eta \u001b[36m0:00:00\u001b[0ma \u001b[36m0:00:01\u001b[0m\n",
      "\u001b[?25hDownloading tokenizers-0.20.3-cp311-cp311-macosx_11_0_arm64.whl (2.6 MB)\n",
      "\u001b[2K   \u001b[90m━━━━━━━━━━━━━━━━━━━━━━━━━━━━━━━━━━━━━━━━\u001b[0m \u001b[32m2.6/2.6 MB\u001b[0m \u001b[31m10.9 MB/s\u001b[0m eta \u001b[36m0:00:00\u001b[0ma \u001b[36m0:00:01\u001b[0m\n",
      "\u001b[?25hInstalling collected packages: tokenizers, transformers\n",
      "\u001b[2K  Attempting uninstall: tokenizers\n",
      "\u001b[2K    Found existing installation: tokenizers 0.21.2\n",
      "\u001b[2K    Uninstalling tokenizers-0.21.2:\n",
      "\u001b[2K      Successfully uninstalled tokenizers-0.21.2\n",
      "\u001b[2K  Attempting uninstall: transformers\n",
      "\u001b[2K    Found existing installation: transformers 4.53.3\n",
      "\u001b[2K    Uninstalling transformers-4.53.3:\n",
      "\u001b[2K      Successfully uninstalled transformers-4.53.3━━━━━━━━━━━━━━━━\u001b[0m \u001b[32m1/2\u001b[0m [transformers]\n",
      "\u001b[2K   \u001b[90m━━━━━━━━━━━━━━━━━━━━━━━━━━━━━━━━━━━━━━━━\u001b[0m \u001b[32m2/2\u001b[0m [transformers][0m [transformers]\n",
      "\u001b[1A\u001b[2KSuccessfully installed tokenizers-0.20.3 transformers-4.45.2\n"
     ]
    }
   ],
   "source": [
    "!pip install transformers==4.45.2"
   ]
  },
  {
   "cell_type": "code",
   "execution_count": 3,
   "id": "64ac0d2a",
   "metadata": {},
   "outputs": [
    {
     "name": "stderr",
     "output_type": "stream",
     "text": [
      "/Users/ajborbz/.local/lib/python3.11/site-packages/tqdm/auto.py:21: TqdmWarning: IProgress not found. Please update jupyter and ipywidgets. See https://ipywidgets.readthedocs.io/en/stable/user_install.html\n",
      "  from .autonotebook import tqdm as notebook_tqdm\n"
     ]
    }
   ],
   "source": [
    "##imports\n",
    "import multiprocessing\n",
    "import os\n",
    "import requests\n",
    "import tarfile\n",
    "import pandas as pd\n",
    "import matplotlib.pyplot as plt\n",
    "\n",
    "import torch\n",
    "from datasets import load_dataset\n",
    "\n",
    "from peft import LoraConfig\n",
    "from transformers import AutoModelForCausalLM, AutoTokenizer,TrainingArguments, GPT2Tokenizer, set_seed, GenerationConfig\n",
    "from trl import DPOConfig, DPOTrainer\n"
   ]
  },
  {
   "cell_type": "markdown",
   "id": "8443d9ad",
   "metadata": {},
   "source": [
    "### Create and configure the model tokenizer"
   ]
  },
  {
   "cell_type": "code",
   "execution_count": 4,
   "id": "68ca4ac8",
   "metadata": {},
   "outputs": [],
   "source": [
    "\n",
    "# Load the GPT-2 model\n",
    "model = AutoModelForCausalLM.from_pretrained(\"gpt2\")\n",
    "\n",
    "# Load a reference model \n",
    "model_ref = AutoModelForCausalLM.from_pretrained(\"gpt2\")\n",
    "\n",
    "# Load the GPT-2 tokenizer\n",
    "tokenizer = GPT2Tokenizer.from_pretrained(\"gpt2\")\n",
    "\n",
    "# Set the pad token to the end-of-sequence token\n",
    "tokenizer.pad_token = tokenizer.eos_token\n",
    "# Set the padding side to \"right\" to fix the overflow issue with FP16 training\n",
    "tokenizer.padding_side = \"right\"\n",
    "\n",
    "# Disable the use of the cache during the model's forward pass\n",
    "model.config.use_cache = False"
   ]
  },
  {
   "cell_type": "markdown",
   "id": "6f58694c",
   "metadata": {},
   "source": [
    "### check the model"
   ]
  },
  {
   "cell_type": "code",
   "execution_count": 5,
   "id": "e66566bb",
   "metadata": {},
   "outputs": [
    {
     "data": {
      "text/plain": [
       "GPT2LMHeadModel(\n",
       "  (transformer): GPT2Model(\n",
       "    (wte): Embedding(50257, 768)\n",
       "    (wpe): Embedding(1024, 768)\n",
       "    (drop): Dropout(p=0.1, inplace=False)\n",
       "    (h): ModuleList(\n",
       "      (0-11): 12 x GPT2Block(\n",
       "        (ln_1): LayerNorm((768,), eps=1e-05, elementwise_affine=True)\n",
       "        (attn): GPT2SdpaAttention(\n",
       "          (c_attn): Conv1D(nf=2304, nx=768)\n",
       "          (c_proj): Conv1D(nf=768, nx=768)\n",
       "          (attn_dropout): Dropout(p=0.1, inplace=False)\n",
       "          (resid_dropout): Dropout(p=0.1, inplace=False)\n",
       "        )\n",
       "        (ln_2): LayerNorm((768,), eps=1e-05, elementwise_affine=True)\n",
       "        (mlp): GPT2MLP(\n",
       "          (c_fc): Conv1D(nf=3072, nx=768)\n",
       "          (c_proj): Conv1D(nf=768, nx=3072)\n",
       "          (act): NewGELUActivation()\n",
       "          (dropout): Dropout(p=0.1, inplace=False)\n",
       "        )\n",
       "      )\n",
       "    )\n",
       "    (ln_f): LayerNorm((768,), eps=1e-05, elementwise_affine=True)\n",
       "  )\n",
       "  (lm_head): Linear(in_features=768, out_features=50257, bias=False)\n",
       ")"
      ]
     },
     "execution_count": 5,
     "metadata": {},
     "output_type": "execute_result"
    }
   ],
   "source": [
    "model"
   ]
  },
  {
   "cell_type": "markdown",
   "id": "92ca3b80",
   "metadata": {},
   "source": [
    "### Pre-process the dataset"
   ]
  },
  {
   "cell_type": "code",
   "execution_count": 6,
   "id": "05f52b40",
   "metadata": {},
   "outputs": [
    {
     "name": "stderr",
     "output_type": "stream",
     "text": [
      "Generating train_prefs split: 100%|██████████| 61135/61135 [00:00<00:00, 293454.16 examples/s]\n",
      "Generating train_sft split: 100%|██████████| 61135/61135 [00:00<00:00, 445754.99 examples/s]\n",
      "Generating test_prefs split: 100%|██████████| 2000/2000 [00:00<00:00, 172846.95 examples/s]\n",
      "Generating test_sft split: 100%|██████████| 1000/1000 [00:00<00:00, 136200.81 examples/s]\n",
      "Generating train_gen split: 100%|██████████| 61135/61135 [00:00<00:00, 439320.74 examples/s]\n",
      "Generating test_gen split: 100%|██████████| 1000/1000 [00:00<00:00, 180470.03 examples/s]\n"
     ]
    }
   ],
   "source": [
    "# Load the dataset from the specified location\n",
    "ds = load_dataset(\"BarraHome/ultrafeedback_binarized\")"
   ]
  },
  {
   "cell_type": "code",
   "execution_count": 7,
   "id": "51772f11",
   "metadata": {},
   "outputs": [
    {
     "data": {
      "text/plain": [
       "dict_keys(['train_prefs', 'train_sft', 'test_prefs', 'test_sft', 'train_gen', 'test_gen'])"
      ]
     },
     "execution_count": 7,
     "metadata": {},
     "output_type": "execute_result"
    }
   ],
   "source": [
    "ds.keys()"
   ]
  },
  {
   "cell_type": "code",
   "execution_count": 8,
   "id": "ab545014",
   "metadata": {},
   "outputs": [
    {
     "data": {
      "text/plain": [
       "dict_keys(['prompt', 'prompt_id', 'chosen', 'rejected', 'messages', 'score_chosen', 'score_rejected'])"
      ]
     },
     "execution_count": 8,
     "metadata": {},
     "output_type": "execute_result"
    }
   ],
   "source": [
    "ds[\"train_prefs\"][0].keys()"
   ]
  },
  {
   "cell_type": "code",
   "execution_count": 9,
   "id": "768e8980",
   "metadata": {},
   "outputs": [
    {
     "data": {
      "text/plain": [
       "{'prompt': 'how can i develop a habit of drawing daily',\n",
       " 'prompt_id': '086b3e24f29b8956a01059f79c56db35d118a06fb6b844b095737d042795cd43',\n",
       " 'chosen': [{'content': 'how can i develop a habit of drawing daily',\n",
       "   'role': 'user'},\n",
       "  {'content': \"Developing a daily habit of drawing can be challenging but with consistent practice and a few tips, it can become an enjoyable and rewarding part of your daily routine. Here are some strategies to help you develop the habit of drawing daily:\\n\\n1. Set a specific time: Allocate a specific time of the day to draw. It could be in the morning, afternoon, or evening. Make drawing a part of your daily routine.\\n2. Set a specific duration: Determine the amount of time you want to spend on drawing each day. It can be as little as 10 minutes or as long as an hour. Be consistent with the duration to help build the habit.\\n3. Start small and simple: Don't try to create a masterpiece every day, start with simple and easy-to-do sketches. Focus on improving your skills gradually.\\n4. Use a variety of tools and mediums: Experiment with different tools like pencils, pens, markers, and different mediums like paper, canvas, or digital apps to keep your drawing practice interesting and engaging.\\n5. Take breaks and rest: Taking breaks and resting after some time of drawing can help you avoid burnout and stay motivated.\\n6. Challenge yourself: Set challenges like drawing objects from memory or a specific subject to improve your skills and keep your drawing practice interesting.\\n7. Track your progress: Keep a record of your daily drawing practice and track your progress. This can be a source of motivation and help you see how far you've come.\\n\\nRemember, developing a habit takes time and patience. Stay consistent with your drawing practice, be flexible and open to trying new things, and with time, you'll develop a habit of daily drawing that brings you joy and satisfaction.\",\n",
       "   'role': 'assistant'}],\n",
       " 'rejected': [{'content': 'how can i develop a habit of drawing daily',\n",
       "   'role': 'user'},\n",
       "  {'content': \"One way to develop a habit of drawing daily is to allocate a specific time interval for drawing each day, whether it's early in the morning or before going to bed at night. You can also find inspiration or motivation to draw by joining drawing communities, following artists on social media, or going out into nature and sketching what you see. Additionally, practicing drawing every day can help you improve your skills over time.\",\n",
       "   'role': 'assistant'}],\n",
       " 'messages': [{'content': 'how can i develop a habit of drawing daily',\n",
       "   'role': 'user'},\n",
       "  {'content': \"Developing a daily habit of drawing can be challenging but with consistent practice and a few tips, it can become an enjoyable and rewarding part of your daily routine. Here are some strategies to help you develop the habit of drawing daily:\\n\\n1. Set a specific time: Allocate a specific time of the day to draw. It could be in the morning, afternoon, or evening. Make drawing a part of your daily routine.\\n2. Set a specific duration: Determine the amount of time you want to spend on drawing each day. It can be as little as 10 minutes or as long as an hour. Be consistent with the duration to help build the habit.\\n3. Start small and simple: Don't try to create a masterpiece every day, start with simple and easy-to-do sketches. Focus on improving your skills gradually.\\n4. Use a variety of tools and mediums: Experiment with different tools like pencils, pens, markers, and different mediums like paper, canvas, or digital apps to keep your drawing practice interesting and engaging.\\n5. Take breaks and rest: Taking breaks and resting after some time of drawing can help you avoid burnout and stay motivated.\\n6. Challenge yourself: Set challenges like drawing objects from memory or a specific subject to improve your skills and keep your drawing practice interesting.\\n7. Track your progress: Keep a record of your daily drawing practice and track your progress. This can be a source of motivation and help you see how far you've come.\\n\\nRemember, developing a habit takes time and patience. Stay consistent with your drawing practice, be flexible and open to trying new things, and with time, you'll develop a habit of daily drawing that brings you joy and satisfaction.\",\n",
       "   'role': 'assistant'}],\n",
       " 'score_chosen': 8.5,\n",
       " 'score_rejected': 7.5}"
      ]
     },
     "execution_count": 9,
     "metadata": {},
     "output_type": "execute_result"
    }
   ],
   "source": [
    "ds[\"train_prefs\"][0]"
   ]
  },
  {
   "cell_type": "code",
   "execution_count": 10,
   "id": "2859de37",
   "metadata": {},
   "outputs": [
    {
     "name": "stderr",
     "output_type": "stream",
     "text": [
      "Map (num_proc=10): 100%|██████████| 50/50 [00:00<00:00, 216.04 examples/s]\n",
      "Map (num_proc=10): 100%|██████████| 50/50 [00:00<00:00, 232.90 examples/s]\n",
      "Map (num_proc=10): 100%|██████████| 50/50 [00:00<00:00, 460.76 examples/s]\n",
      "Map (num_proc=10): 100%|██████████| 50/50 [00:00<00:00, 468.10 examples/s]\n",
      "Map (num_proc=10): 100%|██████████| 50/50 [00:00<00:00, 272.52 examples/s]\n",
      "Map (num_proc=10): 100%|██████████| 50/50 [00:00<00:00, 480.72 examples/s]\n"
     ]
    }
   ],
   "source": [
    "\n",
    "for key in ds:\n",
    "    #cnt = round(ds[key].__len__()*0.05)\n",
    "    cnt=50\n",
    "    ds[key] = ds[key].select(range(cnt))\n",
    "\n",
    "# Define a function to process the data\n",
    "def process(row):\n",
    "    # delete unwanted columns\n",
    "    del row[\"prompt_id\"]\n",
    "    del row[\"messages\"]\n",
    "    del row[\"score_chosen\"]\n",
    "    del row[\"score_rejected\"]\n",
    "    # retrieve the actual response text\n",
    "    row[\"chosen\"] = row[\"chosen\"][-1][\"content\"]\n",
    "    row[\"rejected\"] = row[\"rejected\"][-1][\"content\"]\n",
    "\n",
    "    return row\n",
    "\n",
    "# Apply the data processing function to the dataset\n",
    "ds = ds.map(\n",
    "    process,\n",
    "    num_proc=multiprocessing.cpu_count(),\n",
    "    load_from_cache_file=False,\n",
    ")\n",
    "\n",
    "# Split the dataset into training and evaluation sets\n",
    "train_dataset = ds['train_prefs']\n",
    "eval_dataset = ds['test_prefs']\n",
    "\n"
   ]
  },
  {
   "cell_type": "code",
   "execution_count": 11,
   "id": "879fa2d5",
   "metadata": {},
   "outputs": [
    {
     "data": {
      "text/plain": [
       "{'prompt': 'how can i develop a habit of drawing daily',\n",
       " 'chosen': \"Developing a daily habit of drawing can be challenging but with consistent practice and a few tips, it can become an enjoyable and rewarding part of your daily routine. Here are some strategies to help you develop the habit of drawing daily:\\n\\n1. Set a specific time: Allocate a specific time of the day to draw. It could be in the morning, afternoon, or evening. Make drawing a part of your daily routine.\\n2. Set a specific duration: Determine the amount of time you want to spend on drawing each day. It can be as little as 10 minutes or as long as an hour. Be consistent with the duration to help build the habit.\\n3. Start small and simple: Don't try to create a masterpiece every day, start with simple and easy-to-do sketches. Focus on improving your skills gradually.\\n4. Use a variety of tools and mediums: Experiment with different tools like pencils, pens, markers, and different mediums like paper, canvas, or digital apps to keep your drawing practice interesting and engaging.\\n5. Take breaks and rest: Taking breaks and resting after some time of drawing can help you avoid burnout and stay motivated.\\n6. Challenge yourself: Set challenges like drawing objects from memory or a specific subject to improve your skills and keep your drawing practice interesting.\\n7. Track your progress: Keep a record of your daily drawing practice and track your progress. This can be a source of motivation and help you see how far you've come.\\n\\nRemember, developing a habit takes time and patience. Stay consistent with your drawing practice, be flexible and open to trying new things, and with time, you'll develop a habit of daily drawing that brings you joy and satisfaction.\",\n",
       " 'rejected': \"One way to develop a habit of drawing daily is to allocate a specific time interval for drawing each day, whether it's early in the morning or before going to bed at night. You can also find inspiration or motivation to draw by joining drawing communities, following artists on social media, or going out into nature and sketching what you see. Additionally, practicing drawing every day can help you improve your skills over time.\"}"
      ]
     },
     "execution_count": 11,
     "metadata": {},
     "output_type": "execute_result"
    }
   ],
   "source": [
    "train_dataset[0]"
   ]
  },
  {
   "cell_type": "code",
   "execution_count": 12,
   "id": "a8247d16",
   "metadata": {},
   "outputs": [],
   "source": [
    "# PEFT (Parameter-Efficient Finetuning) configuration\n",
    "peft_config = LoraConfig(\n",
    "        # The rank of the low-rank adaptation weights\n",
    "        r=4,\n",
    "        # The target modules to apply the low-rank adaptation to\n",
    "        target_modules=['c_proj','c_attn'],\n",
    "        # The task type for the low-rank adaptation\n",
    "        task_type=\"CAUSAL_LM\",\n",
    "        # The scaling factor for the low-rank adaptation weights\n",
    "        lora_alpha=8,\n",
    "        # The dropout probability for the low-rank adaptation weights\n",
    "        lora_dropout=0.1,\n",
    "        # The bias mode for the low-rank adaptation\n",
    "        bias=\"none\",\n",
    ")"
   ]
  },
  {
   "cell_type": "code",
   "execution_count": 13,
   "id": "e96f6921",
   "metadata": {},
   "outputs": [
    {
     "name": "stderr",
     "output_type": "stream",
     "text": [
      "/Users/ajborbz/.pyenv/versions/3.11.9/lib/python3.11/site-packages/transformers/training_args.py:1545: FutureWarning: `evaluation_strategy` is deprecated and will be removed in version 4.46 of 🤗 Transformers. Use `eval_strategy` instead\n",
      "  warnings.warn(\n"
     ]
    }
   ],
   "source": [
    "# DPO configuration\n",
    "from peft import get_peft_model\n",
    "training_args = DPOConfig(\n",
    "    # The beta parameter for the DPO loss function\n",
    "    #beta is the temperature parameter for the DPO loss, typically something in the range of 0.1 to 0.5 . \n",
    "    beta=0.1,\n",
    "    # The output directory for the training\n",
    "    output_dir=\"dpo\",\n",
    "    # The number of training epochs\n",
    "    num_train_epochs=5,\n",
    "    # The batch size per device during training\n",
    "    per_device_train_batch_size=1,\n",
    "    # The batch size per device during evaluation\n",
    "    per_device_eval_batch_size=1,\n",
    "    # Whether to remove unused columns from the dataset\n",
    "    remove_unused_columns=False,\n",
    "    # The number of steps between logging training progress\n",
    "    logging_steps=10,\n",
    "    # The number of gradient accumulation steps\n",
    "    gradient_accumulation_steps=1,\n",
    "    # The learning rate for the optimization\n",
    "    learning_rate=1e-4,\n",
    "    # The evaluation strategy (e.g., after each step or epoch)\n",
    "    evaluation_strategy=\"epoch\",\n",
    "    # The number of warmup steps for the learning rate scheduler\n",
    "    warmup_steps=2,\n",
    "    # Whether to use 16-bit (float16) precision\n",
    "    fp16=False,\n",
    "    # The number of steps between saving checkpoints\n",
    "    save_steps=500,\n",
    "    # The maximum number of checkpoints to keep\n",
    "    #save_total_limit=2,\n",
    "    # The reporting backend to use (set to 'none' to disable, you can also report to wandb or tensorboard)\n",
    "    report_to='none'\n",
    ")"
   ]
  },
  {
   "cell_type": "code",
   "execution_count": 14,
   "id": "4d711f04",
   "metadata": {},
   "outputs": [
    {
     "name": "stderr",
     "output_type": "stream",
     "text": [
      "/Users/ajborbz/.pyenv/versions/3.11.9/lib/python3.11/site-packages/huggingface_hub/utils/_deprecation.py:100: FutureWarning: Deprecated argument(s) used in '__init__': max_length. Will not be supported from version '1.0.0'.\n",
      "\n",
      "Deprecated positional argument(s) used in DPOTrainer, please use the DPOConfig to set these arguments instead.\n",
      "  warnings.warn(message, FutureWarning)\n",
      "/Users/ajborbz/.local/lib/python3.11/site-packages/peft/tuners/lora/layer.py:1264: UserWarning: fan_in_fan_out is set to False but the target module is `Conv1D`. Setting fan_in_fan_out to True.\n",
      "  warnings.warn(\n",
      "/Users/ajborbz/.local/lib/python3.11/site-packages/trl/trainer/dpo_trainer.py:655: UserWarning: You passed `max_length` to the DPOTrainer, the value you passed will override the one in the `DPOConfig`.\n",
      "  warnings.warn(\n",
      "/Users/ajborbz/.local/lib/python3.11/site-packages/trl/trainer/dpo_trainer.py:673: UserWarning: `max_prompt_length` is not set in the DPOConfig's init it will default to `128` by default, but you should do it yourself in the future.\n",
      "  warnings.warn(\n",
      "Tokenizing train dataset:   0%|          | 0/50 [00:00<?, ? examples/s]Token indices sequence length is longer than the specified maximum sequence length for this model (1154 > 1024). Running this sequence through the model will result in indexing errors\n",
      "Tokenizing train dataset: 100%|██████████| 50/50 [00:00<00:00, 195.55 examples/s]\n",
      "Tokenizing eval dataset: 100%|██████████| 50/50 [00:00<00:00, 175.05 examples/s]\n"
     ]
    }
   ],
   "source": [
    "tokenizer.pad_token = tokenizer.eos_token\n",
    "\n",
    "# Create a DPO trainer\n",
    "# This trainer will handle the fine-tuning of the model using the DPO technique\n",
    "trainer = DPOTrainer(\n",
    "        # The model to be fine-tuned\n",
    "        model=model,\n",
    "        # The reference model (not used in this case because LoRA has been used)\n",
    "        ref_model=None,\n",
    "        # The DPO training configuration\n",
    "        args=training_args,\n",
    "        # The beta parameter for the DPO loss function\n",
    "       \n",
    "        # The training dataset\n",
    "        train_dataset=train_dataset,\n",
    "        # The evaluation dataset\n",
    "        eval_dataset=eval_dataset,\n",
    "        # The tokenizer for the model\n",
    "        tokenizer=tokenizer,\n",
    "        # The PEFT (Parallel Efficient Finetuning) configuration\n",
    "        peft_config=peft_config,\n",
    "        # The maximum prompt length\n",
    "        #max_prompt_length=512,\n",
    "        # The maximum sequence length\n",
    "        max_length=512,\n",
    "    )\n"
   ]
  },
  {
   "cell_type": "code",
   "execution_count": 15,
   "id": "cb27c976",
   "metadata": {},
   "outputs": [
    {
     "name": "stderr",
     "output_type": "stream",
     "text": [
      "  0%|          | 0/250 [00:00<?, ?it/s]Could not estimate the number of tokens of the input, floating-point operations will not be computed\n",
      "  4%|▍         | 10/250 [00:18<04:59,  1.25s/it]"
     ]
    },
    {
     "name": "stdout",
     "output_type": "stream",
     "text": [
      "{'loss': 0.6809, 'grad_norm': 17.265296936035156, 'learning_rate': 9.677419354838711e-05, 'rewards/chosen': -0.0045308684930205345, 'rewards/rejected': -0.02962135709822178, 'rewards/accuracies': 0.4000000059604645, 'rewards/margins': 0.02509048581123352, 'logps/rejected': -525.1778564453125, 'logps/chosen': -571.62451171875, 'logits/rejected': -101.85790252685547, 'logits/chosen': -106.02275085449219, 'epoch': 0.2}\n"
     ]
    },
    {
     "name": "stderr",
     "output_type": "stream",
     "text": [
      "  8%|▊         | 20/250 [00:27<03:26,  1.11it/s]"
     ]
    },
    {
     "name": "stdout",
     "output_type": "stream",
     "text": [
      "{'loss': 0.8089, 'grad_norm': 3.980689764022827, 'learning_rate': 9.274193548387096e-05, 'rewards/chosen': -0.16527557373046875, 'rewards/rejected': 0.001770591363310814, 'rewards/accuracies': 0.6000000238418579, 'rewards/margins': -0.16704615950584412, 'logps/rejected': -403.49371337890625, 'logps/chosen': -531.5842895507812, 'logits/rejected': -103.57429504394531, 'logits/chosen': -106.26271057128906, 'epoch': 0.4}\n"
     ]
    },
    {
     "name": "stderr",
     "output_type": "stream",
     "text": [
      " 12%|█▏        | 30/250 [00:35<03:14,  1.13it/s]"
     ]
    },
    {
     "name": "stdout",
     "output_type": "stream",
     "text": [
      "{'loss': 0.6944, 'grad_norm': 5.287778377532959, 'learning_rate': 8.870967741935484e-05, 'rewards/chosen': 0.004091720562428236, 'rewards/rejected': 0.006524925120174885, 'rewards/accuracies': 0.5, 'rewards/margins': -0.002433204324916005, 'logps/rejected': -365.9629821777344, 'logps/chosen': -466.71722412109375, 'logits/rejected': -106.80622863769531, 'logits/chosen': -107.11924743652344, 'epoch': 0.6}\n"
     ]
    },
    {
     "name": "stderr",
     "output_type": "stream",
     "text": [
      " 16%|█▌        | 40/250 [00:45<03:48,  1.09s/it]"
     ]
    },
    {
     "name": "stdout",
     "output_type": "stream",
     "text": [
      "{'loss': 0.7002, 'grad_norm': 9.962821006774902, 'learning_rate': 8.467741935483871e-05, 'rewards/chosen': 0.06705612689256668, 'rewards/rejected': 0.07919532805681229, 'rewards/accuracies': 0.6000000238418579, 'rewards/margins': -0.012139205820858479, 'logps/rejected': -558.9878540039062, 'logps/chosen': -698.1694946289062, 'logits/rejected': -104.8274917602539, 'logits/chosen': -100.77424621582031, 'epoch': 0.8}\n"
     ]
    },
    {
     "name": "stderr",
     "output_type": "stream",
     "text": [
      " 20%|██        | 50/250 [00:53<03:28,  1.04s/it]"
     ]
    },
    {
     "name": "stdout",
     "output_type": "stream",
     "text": [
      "{'loss': 0.6869, 'grad_norm': 7.697358131408691, 'learning_rate': 8.064516129032258e-05, 'rewards/chosen': 0.18263283371925354, 'rewards/rejected': 0.14982345700263977, 'rewards/accuracies': 0.4000000059604645, 'rewards/margins': 0.03280936926603317, 'logps/rejected': -584.9808349609375, 'logps/chosen': -534.7027587890625, 'logits/rejected': -107.00467681884766, 'logits/chosen': -97.87918090820312, 'epoch': 1.0}\n"
     ]
    },
    {
     "name": "stderr",
     "output_type": "stream",
     "text": [
      "                                                \n",
      " 20%|██        | 50/250 [01:32<03:28,  1.04s/it]"
     ]
    },
    {
     "name": "stdout",
     "output_type": "stream",
     "text": [
      "{'eval_loss': 0.6769051551818848, 'eval_runtime': 38.7326, 'eval_samples_per_second': 1.291, 'eval_steps_per_second': 1.291, 'eval_rewards/chosen': 0.121212437748909, 'eval_rewards/rejected': 0.07737963646650314, 'eval_rewards/accuracies': 0.5199999809265137, 'eval_rewards/margins': 0.043832797557115555, 'eval_logps/rejected': -527.8206787109375, 'eval_logps/chosen': -536.1962280273438, 'eval_logits/rejected': -103.1875228881836, 'eval_logits/chosen': -103.22306823730469, 'epoch': 1.0}\n"
     ]
    },
    {
     "name": "stderr",
     "output_type": "stream",
     "text": [
      " 24%|██▍       | 60/250 [01:38<03:40,  1.16s/it]"
     ]
    },
    {
     "name": "stdout",
     "output_type": "stream",
     "text": [
      "{'loss': 0.5441, 'grad_norm': 4.247293949127197, 'learning_rate': 7.661290322580645e-05, 'rewards/chosen': 0.3865159749984741, 'rewards/rejected': 0.025981903076171875, 'rewards/accuracies': 0.800000011920929, 'rewards/margins': 0.36053404211997986, 'logps/rejected': -554.64697265625, 'logps/chosen': -667.1461181640625, 'logits/rejected': -101.09928894042969, 'logits/chosen': -103.21807861328125, 'epoch': 1.2}\n"
     ]
    },
    {
     "name": "stderr",
     "output_type": "stream",
     "text": [
      " 28%|██▊       | 70/250 [01:44<02:02,  1.47it/s]"
     ]
    },
    {
     "name": "stdout",
     "output_type": "stream",
     "text": [
      "{'loss': 0.5162, 'grad_norm': 4.843228816986084, 'learning_rate': 7.258064516129033e-05, 'rewards/chosen': 0.6286168694496155, 'rewards/rejected': 0.14374110102653503, 'rewards/accuracies': 0.8999999761581421, 'rewards/margins': 0.48487573862075806, 'logps/rejected': -488.85882568359375, 'logps/chosen': -676.5802612304688, 'logits/rejected': -99.73616790771484, 'logits/chosen': -96.54483795166016, 'epoch': 1.4}\n"
     ]
    },
    {
     "name": "stderr",
     "output_type": "stream",
     "text": [
      " 32%|███▏      | 80/250 [01:50<01:16,  2.22it/s]"
     ]
    },
    {
     "name": "stdout",
     "output_type": "stream",
     "text": [
      "{'loss': 0.6421, 'grad_norm': 8.51209545135498, 'learning_rate': 6.854838709677419e-05, 'rewards/chosen': 0.5024452209472656, 'rewards/rejected': 0.10782929509878159, 'rewards/accuracies': 0.699999988079071, 'rewards/margins': 0.39461594820022583, 'logps/rejected': -713.5711669921875, 'logps/chosen': -620.0317993164062, 'logits/rejected': -106.9891586303711, 'logits/chosen': -101.88932037353516, 'epoch': 1.6}\n"
     ]
    },
    {
     "name": "stderr",
     "output_type": "stream",
     "text": [
      " 36%|███▌      | 90/250 [01:54<01:00,  2.65it/s]"
     ]
    },
    {
     "name": "stdout",
     "output_type": "stream",
     "text": [
      "{'loss': 0.6741, 'grad_norm': 2327.728271484375, 'learning_rate': 6.451612903225807e-05, 'rewards/chosen': 0.15327009558677673, 'rewards/rejected': 0.07456226646900177, 'rewards/accuracies': 0.800000011920929, 'rewards/margins': 0.07870785146951675, 'logps/rejected': -223.2626953125, 'logps/chosen': -348.4165344238281, 'logits/rejected': -105.0782241821289, 'logits/chosen': -105.0091781616211, 'epoch': 1.8}\n"
     ]
    },
    {
     "name": "stderr",
     "output_type": "stream",
     "text": [
      " 40%|████      | 100/250 [02:00<01:46,  1.41it/s]"
     ]
    },
    {
     "name": "stdout",
     "output_type": "stream",
     "text": [
      "{'loss': 0.5819, 'grad_norm': 4.429114818572998, 'learning_rate': 6.048387096774194e-05, 'rewards/chosen': 0.38102373480796814, 'rewards/rejected': 0.07993423938751221, 'rewards/accuracies': 0.699999988079071, 'rewards/margins': 0.30108949542045593, 'logps/rejected': -456.01995849609375, 'logps/chosen': -470.94451904296875, 'logits/rejected': -103.71173095703125, 'logits/chosen': -104.32010650634766, 'epoch': 2.0}\n"
     ]
    },
    {
     "name": "stderr",
     "output_type": "stream",
     "text": [
      "                                                 \n",
      " 40%|████      | 100/250 [02:18<01:46,  1.41it/s]"
     ]
    },
    {
     "name": "stdout",
     "output_type": "stream",
     "text": [
      "{'eval_loss': 0.675879955291748, 'eval_runtime': 17.3825, 'eval_samples_per_second': 2.876, 'eval_steps_per_second': 2.876, 'eval_rewards/chosen': 0.325842022895813, 'eval_rewards/rejected': 0.1842769980430603, 'eval_rewards/accuracies': 0.5400000214576721, 'eval_rewards/margins': 0.14156503975391388, 'eval_logps/rejected': -526.751708984375, 'eval_logps/chosen': -534.1499633789062, 'eval_logits/rejected': -100.49874114990234, 'eval_logits/chosen': -100.609375, 'epoch': 2.0}\n"
     ]
    },
    {
     "name": "stderr",
     "output_type": "stream",
     "text": [
      " 44%|████▍     | 110/250 [02:22<01:35,  1.47it/s]"
     ]
    },
    {
     "name": "stdout",
     "output_type": "stream",
     "text": [
      "{'loss': 0.4624, 'grad_norm': 6050.931640625, 'learning_rate': 5.645161290322582e-05, 'rewards/chosen': 0.8822858929634094, 'rewards/rejected': -0.03524276986718178, 'rewards/accuracies': 0.699999988079071, 'rewards/margins': 0.917528510093689, 'logps/rejected': -270.0076599121094, 'logps/chosen': -446.0860900878906, 'logits/rejected': -99.2984390258789, 'logits/chosen': -103.523193359375, 'epoch': 2.2}\n"
     ]
    },
    {
     "name": "stderr",
     "output_type": "stream",
     "text": [
      " 48%|████▊     | 120/250 [02:28<01:23,  1.56it/s]"
     ]
    },
    {
     "name": "stdout",
     "output_type": "stream",
     "text": [
      "{'loss': 0.4076, 'grad_norm': 4.830496311187744, 'learning_rate': 5.241935483870968e-05, 'rewards/chosen': 1.080162763595581, 'rewards/rejected': 0.13757401704788208, 'rewards/accuracies': 0.800000011920929, 'rewards/margins': 0.9425886869430542, 'logps/rejected': -515.6495361328125, 'logps/chosen': -604.4005126953125, 'logits/rejected': -99.19309997558594, 'logits/chosen': -96.44218444824219, 'epoch': 2.4}\n"
     ]
    },
    {
     "name": "stderr",
     "output_type": "stream",
     "text": [
      " 52%|█████▏    | 130/250 [02:33<01:07,  1.78it/s]"
     ]
    },
    {
     "name": "stdout",
     "output_type": "stream",
     "text": [
      "{'loss': 0.8476, 'grad_norm': 4.266716003417969, 'learning_rate': 4.8387096774193554e-05, 'rewards/chosen': 0.14761753380298615, 'rewards/rejected': 0.2767096161842346, 'rewards/accuracies': 0.6000000238418579, 'rewards/margins': -0.12909209728240967, 'logps/rejected': -384.1741943359375, 'logps/chosen': -321.66217041015625, 'logits/rejected': -103.56302642822266, 'logits/chosen': -94.74415588378906, 'epoch': 2.6}\n"
     ]
    },
    {
     "name": "stderr",
     "output_type": "stream",
     "text": [
      " 56%|█████▌    | 140/250 [02:39<01:01,  1.78it/s]"
     ]
    },
    {
     "name": "stdout",
     "output_type": "stream",
     "text": [
      "{'loss': 0.9654, 'grad_norm': 3.1361310482025146, 'learning_rate': 4.435483870967742e-05, 'rewards/chosen': 0.6032224893569946, 'rewards/rejected': 0.6577669382095337, 'rewards/accuracies': 0.699999988079071, 'rewards/margins': -0.05454451963305473, 'logps/rejected': -611.1104736328125, 'logps/chosen': -628.0567626953125, 'logits/rejected': -97.07010650634766, 'logits/chosen': -98.55879211425781, 'epoch': 2.8}\n"
     ]
    },
    {
     "name": "stderr",
     "output_type": "stream",
     "text": [
      " 60%|██████    | 150/250 [02:45<00:44,  2.27it/s]"
     ]
    },
    {
     "name": "stdout",
     "output_type": "stream",
     "text": [
      "{'loss': 0.3246, 'grad_norm': 5224.98193359375, 'learning_rate': 4.032258064516129e-05, 'rewards/chosen': 2.219295024871826, 'rewards/rejected': 0.15901276469230652, 'rewards/accuracies': 1.0, 'rewards/margins': 2.0602822303771973, 'logps/rejected': -647.7800903320312, 'logps/chosen': -754.1065673828125, 'logits/rejected': -96.04419708251953, 'logits/chosen': -97.40699768066406, 'epoch': 3.0}\n"
     ]
    },
    {
     "name": "stderr",
     "output_type": "stream",
     "text": [
      "                                                 \n",
      " 60%|██████    | 150/250 [03:00<00:44,  2.27it/s]"
     ]
    },
    {
     "name": "stdout",
     "output_type": "stream",
     "text": [
      "{'eval_loss': 0.7281240820884705, 'eval_runtime': 15.4193, 'eval_samples_per_second': 3.243, 'eval_steps_per_second': 3.243, 'eval_rewards/chosen': 0.5629247426986694, 'eval_rewards/rejected': 0.3337811529636383, 'eval_rewards/accuracies': 0.5199999809265137, 'eval_rewards/margins': 0.22914360463619232, 'eval_logps/rejected': -525.2566528320312, 'eval_logps/chosen': -531.7791137695312, 'eval_logits/rejected': -96.20954132080078, 'eval_logits/chosen': -96.34758758544922, 'epoch': 3.0}\n"
     ]
    },
    {
     "name": "stderr",
     "output_type": "stream",
     "text": [
      " 64%|██████▍   | 160/250 [03:05<01:00,  1.48it/s]"
     ]
    },
    {
     "name": "stdout",
     "output_type": "stream",
     "text": [
      "{'loss': 0.4155, 'grad_norm': 5.1459808349609375, 'learning_rate': 3.6290322580645165e-05, 'rewards/chosen': 0.8586424589157104, 'rewards/rejected': -0.19064892828464508, 'rewards/accuracies': 0.800000011920929, 'rewards/margins': 1.0492914915084839, 'logps/rejected': -362.4395446777344, 'logps/chosen': -514.8309326171875, 'logits/rejected': -100.14535522460938, 'logits/chosen': -92.20953369140625, 'epoch': 3.2}\n"
     ]
    },
    {
     "name": "stderr",
     "output_type": "stream",
     "text": [
      " 68%|██████▊   | 170/250 [03:10<00:33,  2.41it/s]"
     ]
    },
    {
     "name": "stdout",
     "output_type": "stream",
     "text": [
      "{'loss': 0.4085, 'grad_norm': 3.1623072624206543, 'learning_rate': 3.2258064516129034e-05, 'rewards/chosen': 2.0032856464385986, 'rewards/rejected': 0.09609753638505936, 'rewards/accuracies': 0.8999999761581421, 'rewards/margins': 1.907188057899475, 'logps/rejected': -438.8282775878906, 'logps/chosen': -489.130859375, 'logits/rejected': -99.10978698730469, 'logits/chosen': -100.75556182861328, 'epoch': 3.4}\n"
     ]
    },
    {
     "name": "stderr",
     "output_type": "stream",
     "text": [
      " 72%|███████▏  | 180/250 [03:15<00:32,  2.14it/s]"
     ]
    },
    {
     "name": "stdout",
     "output_type": "stream",
     "text": [
      "{'loss': 0.4517, 'grad_norm': 12380.658203125, 'learning_rate': 2.822580645161291e-05, 'rewards/chosen': 1.9986076354980469, 'rewards/rejected': 0.36752182245254517, 'rewards/accuracies': 0.699999988079071, 'rewards/margins': 1.631085991859436, 'logps/rejected': -507.622802734375, 'logps/chosen': -504.10101318359375, 'logits/rejected': -90.80762481689453, 'logits/chosen': -95.16021728515625, 'epoch': 3.6}\n"
     ]
    },
    {
     "name": "stderr",
     "output_type": "stream",
     "text": [
      " 76%|███████▌  | 190/250 [03:20<00:30,  1.97it/s]"
     ]
    },
    {
     "name": "stdout",
     "output_type": "stream",
     "text": [
      "{'loss': 0.8444, 'grad_norm': 2.0166239738464355, 'learning_rate': 2.4193548387096777e-05, 'rewards/chosen': 0.9940754771232605, 'rewards/rejected': 0.7343533039093018, 'rewards/accuracies': 0.699999988079071, 'rewards/margins': 0.25972217321395874, 'logps/rejected': -677.711181640625, 'logps/chosen': -654.1812133789062, 'logits/rejected': -91.58334350585938, 'logits/chosen': -92.47053527832031, 'epoch': 3.8}\n"
     ]
    },
    {
     "name": "stderr",
     "output_type": "stream",
     "text": [
      " 80%|████████  | 200/250 [03:24<00:22,  2.18it/s]"
     ]
    },
    {
     "name": "stdout",
     "output_type": "stream",
     "text": [
      "{'loss': 0.6255, 'grad_norm': 44.16078567504883, 'learning_rate': 2.0161290322580645e-05, 'rewards/chosen': 0.6262553334236145, 'rewards/rejected': -0.02257729135453701, 'rewards/accuracies': 0.699999988079071, 'rewards/margins': 0.6488324999809265, 'logps/rejected': -444.23095703125, 'logps/chosen': -576.585205078125, 'logits/rejected': -92.94117736816406, 'logits/chosen': -91.35755157470703, 'epoch': 4.0}\n"
     ]
    },
    {
     "name": "stderr",
     "output_type": "stream",
     "text": [
      "                                                 \n",
      " 80%|████████  | 200/250 [03:37<00:22,  2.18it/s]"
     ]
    },
    {
     "name": "stdout",
     "output_type": "stream",
     "text": [
      "{'eval_loss': 0.776227593421936, 'eval_runtime': 13.1507, 'eval_samples_per_second': 3.802, 'eval_steps_per_second': 3.802, 'eval_rewards/chosen': 0.677553653717041, 'eval_rewards/rejected': 0.41182655096054077, 'eval_rewards/accuracies': 0.5400000214576721, 'eval_rewards/margins': 0.26572707295417786, 'eval_logps/rejected': -524.4761962890625, 'eval_logps/chosen': -530.6327514648438, 'eval_logits/rejected': -92.71642303466797, 'eval_logits/chosen': -92.800537109375, 'epoch': 4.0}\n"
     ]
    },
    {
     "name": "stderr",
     "output_type": "stream",
     "text": [
      " 84%|████████▍ | 210/250 [03:43<00:21,  1.83it/s]"
     ]
    },
    {
     "name": "stdout",
     "output_type": "stream",
     "text": [
      "{'loss': 0.2083, 'grad_norm': 2.892122507095337, 'learning_rate': 1.6129032258064517e-05, 'rewards/chosen': 2.9588446617126465, 'rewards/rejected': -0.13755598664283752, 'rewards/accuracies': 1.0, 'rewards/margins': 3.096400499343872, 'logps/rejected': -472.33544921875, 'logps/chosen': -591.3701171875, 'logits/rejected': -92.431884765625, 'logits/chosen': -94.9902572631836, 'epoch': 4.2}\n"
     ]
    },
    {
     "name": "stderr",
     "output_type": "stream",
     "text": [
      " 88%|████████▊ | 220/250 [03:47<00:12,  2.37it/s]"
     ]
    },
    {
     "name": "stdout",
     "output_type": "stream",
     "text": [
      "{'loss': 0.398, 'grad_norm': 1.8745920658111572, 'learning_rate': 1.2096774193548388e-05, 'rewards/chosen': 1.038756012916565, 'rewards/rejected': -0.22262270748615265, 'rewards/accuracies': 0.800000011920929, 'rewards/margins': 1.2613786458969116, 'logps/rejected': -376.3970947265625, 'logps/chosen': -449.18212890625, 'logits/rejected': -92.65045928955078, 'logits/chosen': -91.82759094238281, 'epoch': 4.4}\n"
     ]
    },
    {
     "name": "stderr",
     "output_type": "stream",
     "text": [
      " 92%|█████████▏| 230/250 [03:52<00:11,  1.78it/s]"
     ]
    },
    {
     "name": "stdout",
     "output_type": "stream",
     "text": [
      "{'loss': 0.5845, 'grad_norm': 12.579294204711914, 'learning_rate': 8.064516129032258e-06, 'rewards/chosen': 1.0154592990875244, 'rewards/rejected': 0.11898133903741837, 'rewards/accuracies': 0.6000000238418579, 'rewards/margins': 0.8964776992797852, 'logps/rejected': -544.7539672851562, 'logps/chosen': -581.7349853515625, 'logits/rejected': -86.79488372802734, 'logits/chosen': -88.29772186279297, 'epoch': 4.6}\n"
     ]
    },
    {
     "name": "stderr",
     "output_type": "stream",
     "text": [
      " 96%|█████████▌| 240/250 [03:56<00:04,  2.44it/s]"
     ]
    },
    {
     "name": "stdout",
     "output_type": "stream",
     "text": [
      "{'loss': 0.8651, 'grad_norm': 16002.1748046875, 'learning_rate': 4.032258064516129e-06, 'rewards/chosen': 1.7477893829345703, 'rewards/rejected': 1.0017162561416626, 'rewards/accuracies': 0.699999988079071, 'rewards/margins': 0.7460731267929077, 'logps/rejected': -523.4246826171875, 'logps/chosen': -564.0079345703125, 'logits/rejected': -85.58613586425781, 'logits/chosen': -93.05531311035156, 'epoch': 4.8}\n"
     ]
    },
    {
     "name": "stderr",
     "output_type": "stream",
     "text": [
      "100%|██████████| 250/250 [04:01<00:00,  2.49it/s]"
     ]
    },
    {
     "name": "stdout",
     "output_type": "stream",
     "text": [
      "{'loss': 0.5246, 'grad_norm': 15.889613151550293, 'learning_rate': 0.0, 'rewards/chosen': 0.5927814245223999, 'rewards/rejected': 0.01980336755514145, 'rewards/accuracies': 0.699999988079071, 'rewards/margins': 0.5729780197143555, 'logps/rejected': -515.9656982421875, 'logps/chosen': -543.8064575195312, 'logits/rejected': -106.28206634521484, 'logits/chosen': -93.64371490478516, 'epoch': 5.0}\n"
     ]
    },
    {
     "name": "stderr",
     "output_type": "stream",
     "text": [
      "                                                 \n",
      "100%|██████████| 250/250 [04:16<00:00,  1.03s/it]"
     ]
    },
    {
     "name": "stdout",
     "output_type": "stream",
     "text": [
      "{'eval_loss': 0.7930124402046204, 'eval_runtime': 14.1957, 'eval_samples_per_second': 3.522, 'eval_steps_per_second': 3.522, 'eval_rewards/chosen': 0.7092416882514954, 'eval_rewards/rejected': 0.4399928152561188, 'eval_rewards/accuracies': 0.5199999809265137, 'eval_rewards/margins': 0.2692488431930542, 'eval_logps/rejected': -524.1945190429688, 'eval_logps/chosen': -530.31591796875, 'eval_logits/rejected': -91.81561279296875, 'eval_logits/chosen': -91.88536834716797, 'epoch': 5.0}\n",
      "{'train_runtime': 256.5512, 'train_samples_per_second': 0.974, 'train_steps_per_second': 0.974, 'train_loss': 0.5945255393981934, 'epoch': 5.0}\n"
     ]
    },
    {
     "name": "stderr",
     "output_type": "stream",
     "text": [
      "\n"
     ]
    },
    {
     "data": {
      "text/plain": [
       "TrainOutput(global_step=250, training_loss=0.5945255393981934, metrics={'train_runtime': 256.5512, 'train_samples_per_second': 0.974, 'train_steps_per_second': 0.974, 'total_flos': 0.0, 'train_loss': 0.5945255393981934, 'epoch': 5.0})"
      ]
     },
     "execution_count": 15,
     "metadata": {},
     "output_type": "execute_result"
    }
   ],
   "source": [
    "# Start the training process\n",
    "trainer.train()"
   ]
  },
  {
   "cell_type": "code",
   "execution_count": 16,
   "id": "f6eb4f95",
   "metadata": {},
   "outputs": [
    {
     "data": {
      "image/png": "[encoded data removed]",
      "text/plain": [
       "<Figure size 640x480 with 1 Axes>"
      ]
     },
     "metadata": {},
     "output_type": "display_data"
    }
   ],
   "source": [
    "# Retrieve log_history and save it to a dataframe\n",
    "log = pd.DataFrame(trainer.state.log_history)\n",
    "log_t = log[log['loss'].notna()]\n",
    "log_e = log[log['eval_loss'].notna()]\n",
    "\n",
    "# Plot train and evaluation losses\n",
    "plt.plot(log_t[\"epoch\"], log_t[\"loss\"], label = \"train_loss\") \n",
    "plt.plot(log_e[\"epoch\"], log_e[\"eval_loss\"], label = \"eval_loss\") \n",
    "plt.legend() \n",
    "plt.show()"
   ]
  },
  {
   "cell_type": "code",
   "execution_count": 17,
   "id": "4f797fa7",
   "metadata": {},
   "outputs": [],
   "source": [
    "# Load the trained DPO model you just trained\n",
    "dpo_model = AutoModelForCausalLM.from_pretrained('./dpo/checkpoint-250')\n"
   ]
  },
  {
   "cell_type": "code",
   "execution_count": 18,
   "id": "e2f0ed7e",
   "metadata": {},
   "outputs": [
    {
     "name": "stdout",
     "output_type": "stream",
     "text": [
      "Files extracted: ['DPO', 'DPO/adapter_config.json', 'DPO/tokenizer_config.json', 'DPO/merges.txt', 'DPO/adapter_model.safetensors', 'DPO/special_tokens_map.json', 'DPO/training_args.bin', 'DPO/README.md', 'DPO/vocab.json']\n"
     ]
    }
   ],
   "source": [
    "# Define the URL and the filename\n",
    "url = 'https://cf-courses-data.s3.us.cloud-object-storage.appdomain.cloud/YIDeT3qihEpWChdXN_RmTg/DPO-tar.gz'\n",
    "filename = './DPO.tar'\n",
    "\n",
    "# Download the file\n",
    "response = requests.get(url)\n",
    "\n",
    "# Save the file locally\n",
    "with open(filename, 'wb') as f:\n",
    "    f.write(response.content)\n",
    "\n",
    "# Extract the tar file\n",
    "if tarfile.is_tarfile(filename):\n",
    "    with tarfile.open(filename, 'r') as tar:\n",
    "        tar.extractall()\n",
    "        print(\"Files extracted:\", tar.getnames())\n",
    "else:\n",
    "    print(\"The adownloaded file is not a tar file.\")"
   ]
  },
  {
   "cell_type": "code",
   "execution_count": 19,
   "id": "b5f82681",
   "metadata": {},
   "outputs": [],
   "source": [
    "# Load the trained DPO model tiy just trained\n",
    "dpo_model = AutoModelForCausalLM.from_pretrained('./DPO')\n"
   ]
  },
  {
   "cell_type": "code",
   "execution_count": 20,
   "id": "aa675d61",
   "metadata": {},
   "outputs": [],
   "source": [
    "# Load the GPT-2 tokenizer\n",
    "tokenizer = GPT2Tokenizer.from_pretrained('gpt2')"
   ]
  },
  {
   "cell_type": "code",
   "execution_count": 21,
   "id": "b2a54ded",
   "metadata": {},
   "outputs": [
    {
     "ename": "",
     "evalue": "",
     "output_type": "error",
     "traceback": [
      "\u001b[1;31mThe Kernel crashed while executing code in the current cell or a previous cell. \n",
      "\u001b[1;31mPlease review the code in the cell(s) to identify a possible cause of the failure. \n",
      "\u001b[1;31mClick <a href='https://aka.ms/vscodeJupyterKernelCrash'>here</a> for more info. \n",
      "\u001b[1;31mView Jupyter <a href='command:jupyter.viewOutput'>log</a> for further details."
     ]
    }
   ],
   "source": [
    "# Set a seed for reproducibility\n",
    "set_seed(42)\n",
    "\n",
    "\n",
    "# Define the generation configuration for the DPO model\n",
    "# This sets the parameters for text generation\n",
    "generation_config = GenerationConfig(\n",
    "        # Use sampling to generate diverse text\n",
    "        do_sample=True,\n",
    "        # Top-k sampling parameter\n",
    "        top_k=1,\n",
    "        # Temperature parameter to control the randomness of the generated text\n",
    "        temperature=0.1,\n",
    "        # Maximum number of new tokens to generate\n",
    "        max_new_tokens=25,\n",
    "        # Use the end-of-sequence token as the padding token\n",
    "        pad_token_id=tokenizer.eos_token_id\n",
    "    )\n",
    "\n",
    "# Define the input prompt for text generation\n",
    "PROMPT = \"Is a higher octane gasoline better for your car?\"\n",
    "# Encode the prompt using the tokenizer\n",
    "inputs = tokenizer(PROMPT, return_tensors='pt')\n",
    "\n",
    "# Generate text using the DPO model\n",
    "outputs = dpo_model.generate(**inputs, generation_config=generation_config)\n",
    "# Decode the generated text and print it\n",
    "print(\"DPO response:\\t\",tokenizer.decode(outputs[0], skip_special_tokens=True))\n",
    "\n",
    "# Load the pre-trained GPT-2 model\n",
    "gpt2_model = AutoModelForCausalLM.from_pretrained('gpt2')\n",
    "# Generate text using the GPT-2 model\n",
    "outputs = gpt2_model.generate(**inputs, generation_config=generation_config)\n",
    "# Decode the generated text and print it\n",
    "print(\"\\nGPT2 response:\\t\",tokenizer.decode(outputs[0], skip_special_tokens=True))"
   ]
  },
  {
   "cell_type": "code",
   "execution_count": null,
   "id": "dfd15a75",
   "metadata": {},
   "outputs": [],
   "source": []
  }
 ],
 "metadata": {
  "kernelspec": {
   "display_name": "3.11.9",
   "language": "python",
   "name": "python3"
  },
  "language_info": {
   "codemirror_mode": {
    "name": "ipython",
    "version": 3
   },
   "file_extension": ".py",
   "mimetype": "text/x-python",
   "name": "python",
   "nbconvert_exporter": "python",
   "pygments_lexer": "ipython3",
   "version": "3.11.9"
  }
 },
 "nbformat": 4,
 "nbformat_minor": 5
}
