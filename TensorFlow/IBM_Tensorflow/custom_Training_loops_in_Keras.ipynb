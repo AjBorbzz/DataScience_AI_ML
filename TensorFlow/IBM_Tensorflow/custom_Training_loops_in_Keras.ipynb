{
 "cells": [
  {
   "cell_type": "markdown",
   "id": "490061d4",
   "metadata": {},
   "source": [
    "implement a basic custom training loop in Keras."
   ]
  },
  {
   "cell_type": "code",
   "execution_count": 1,
   "id": "cbd2a2ec",
   "metadata": {},
   "outputs": [],
   "source": [
    "import os\n",
    "import warnings\n",
    "import tensorflow as tf \n",
    "from tensorflow.keras.models import Sequential, Model\n",
    "from tensorflow.keras.layers import Dense, Flatten, Input\n",
    "from tensorflow.keras.callbacks import Callback\n",
    "import numpy as np"
   ]
  },
  {
   "cell_type": "code",
   "execution_count": 4,
   "id": "915ffd77",
   "metadata": {},
   "outputs": [],
   "source": [
    "# Suppress all Python warnings\n",
    "warnings.filterwarnings('ignore')\n",
    "\n",
    "# Set TensorFlow log level to suppress warnings and info messages\n",
    "os.environ['TF_CPP_MIN_LOG_LEVEL'] = '2'\n",
    "\n",
    "# Step 1: Set Up the Environment\n",
    "(x_train, y_train), (x_test, y_test) = tf.keras.datasets.mnist.load_data() \n",
    "x_train, x_test = x_train / 255.0, x_test / 255.0 \n",
    "train_dataset = tf.data.Dataset.from_tensor_slices((x_train, y_train)).batch(32)\n"
   ]
  },
  {
   "cell_type": "markdown",
   "id": "f2764874",
   "metadata": {},
   "source": [
    "### Define the model"
   ]
  },
  {
   "cell_type": "code",
   "execution_count": 5,
   "id": "ed026c55",
   "metadata": {},
   "outputs": [],
   "source": [
    "model = Sequential([\n",
    "    Flatten(input_shape=(28, 28)),\n",
    "    Dense(128, activation='relu'),\n",
    "    Dense(10)\n",
    "])\n"
   ]
  },
  {
   "cell_type": "markdown",
   "id": "7fb0c72d",
   "metadata": {},
   "source": [
    "### Define loss function and optimizer\n",
    "\n",
    "- Use Sparse Categorical Crossentropy for the loss function. \n",
    "- Use the Adam optimizer. "
   ]
  },
  {
   "cell_type": "code",
   "execution_count": 6,
   "id": "4db7c092",
   "metadata": {},
   "outputs": [],
   "source": [
    "loss_fn = tf.keras.losses.SparseCategoricalCrossentropy(from_logits=True) \n",
    "optimizer = tf.keras.optimizers.Adam()"
   ]
  },
  {
   "cell_type": "markdown",
   "id": "6b51c85d",
   "metadata": {},
   "source": [
    "### Implement custom training loop"
   ]
  },
  {
   "cell_type": "code",
   "execution_count": 7,
   "id": "c2bc18ca",
   "metadata": {},
   "outputs": [
    {
     "name": "stdout",
     "output_type": "stream",
     "text": [
      "Start of epoch 1\n",
      "Epoch 1 Step 0: Loss = 2.3339295387268066\n",
      "Epoch 1 Step 200: Loss = 0.4200586676597595\n",
      "Epoch 1 Step 400: Loss = 0.18353486061096191\n",
      "Epoch 1 Step 600: Loss = 0.16809335350990295\n",
      "Epoch 1 Step 800: Loss = 0.15435132384300232\n",
      "Epoch 1 Step 1000: Loss = 0.5205732583999634\n",
      "Epoch 1 Step 1200: Loss = 0.18945136666297913\n",
      "Epoch 1 Step 1400: Loss = 0.24824224412441254\n",
      "Epoch 1 Step 1600: Loss = 0.17942407727241516\n",
      "Epoch 1 Step 1800: Loss = 0.1575031876564026\n",
      "Start of epoch 2\n",
      "Epoch 2 Step 0: Loss = 0.05862722545862198\n",
      "Epoch 2 Step 200: Loss = 0.21767151355743408\n",
      "Epoch 2 Step 400: Loss = 0.12814423441886902\n",
      "Epoch 2 Step 600: Loss = 0.04776795953512192\n",
      "Epoch 2 Step 800: Loss = 0.0879962220788002\n",
      "Epoch 2 Step 1000: Loss = 0.346660315990448\n",
      "Epoch 2 Step 1200: Loss = 0.08232636004686356\n",
      "Epoch 2 Step 1400: Loss = 0.15419481694698334\n",
      "Epoch 2 Step 1600: Loss = 0.1385653018951416\n",
      "Epoch 2 Step 1800: Loss = 0.10450499504804611\n"
     ]
    }
   ],
   "source": [
    "epochs = 2\n",
    "# train_dataset = train_dataset.repeat(epochs)\n",
    "train_dataset = tf.data.Dataset.from_tensor_slices((x_train, y_train)).batch(32)\n",
    "for epoch in range(epochs):\n",
    "    print(f'Start of epoch {epoch + 1}')\n",
    "\n",
    "    for step, (x_batch_train, y_batch_train) in enumerate(train_dataset):\n",
    "        with tf.GradientTape() as tape:\n",
    "            logits = model(x_batch_train, training=True)  # Forward pass\n",
    "            loss_value = loss_fn(y_batch_train, logits)  # Compute loss\n",
    "\n",
    "        # Compute gradients and update weights\n",
    "        grads = tape.gradient(loss_value, model.trainable_weights)\n",
    "        optimizer.apply_gradients(zip(grads, model.trainable_weights))\n",
    "\n",
    "        # Logging the loss every 200 steps\n",
    "        if step % 200 == 0:\n",
    "            print(f'Epoch {epoch + 1} Step {step}: Loss = {loss_value.numpy()}')\n"
   ]
  },
  {
   "cell_type": "markdown",
   "id": "359be8a2",
   "metadata": {},
   "source": [
    "### Adding accuracy metric"
   ]
  },
  {
   "cell_type": "code",
   "execution_count": 8,
   "id": "668a52e0",
   "metadata": {},
   "outputs": [],
   "source": [
    "import tensorflow as tf \n",
    "from tensorflow.keras.models import Sequential \n",
    "from tensorflow.keras.layers import Dense, Flatten \n",
    "\n",
    "# Step 1: Set Up the Environment\n",
    "(x_train, y_train), (x_test, y_test) = tf.keras.datasets.mnist.load_data()\n",
    "\n",
    "# Normalize the pixel values to be between 0 and 1\n",
    "x_train, x_test = x_train / 255.0, x_test / 255.0 \n",
    "\n",
    "# Create a batched dataset for training\n",
    "train_dataset = tf.data.Dataset.from_tensor_slices((x_train, y_train)).batch(32)\n"
   ]
  },
  {
   "cell_type": "code",
   "execution_count": 9,
   "id": "cb4bfd15",
   "metadata": {},
   "outputs": [],
   "source": [
    "model = Sequential([ \n",
    "    Flatten(input_shape=(28, 28)),  # Flatten the input to a 1D vector\n",
    "    Dense(128, activation='relu'),  # First hidden layer with 128 neurons and ReLU activation\n",
    "    Dense(10)  # Output layer with 10 neurons for the 10 classes (digits 0-9)\n",
    "])"
   ]
  },
  {
   "cell_type": "code",
   "execution_count": 10,
   "id": "a486d273",
   "metadata": {},
   "outputs": [],
   "source": [
    "loss_fn = tf.keras.losses.SparseCategoricalCrossentropy(from_logits=True)  # Loss function for multi-class classification\n",
    "optimizer = tf.keras.optimizers.Adam()  # Adam optimizer for efficient training\n",
    "accuracy_metric = tf.keras.metrics.SparseCategoricalAccuracy()  # Metric to track accuracy during training\n"
   ]
  },
  {
   "cell_type": "markdown",
   "id": "f16aa856",
   "metadata": {},
   "source": [
    "### Implement loop"
   ]
  },
  {
   "cell_type": "code",
   "execution_count": 11,
   "id": "12267921",
   "metadata": {},
   "outputs": [
    {
     "name": "stdout",
     "output_type": "stream",
     "text": [
      "Start of epoch 1\n",
      "Epoch 1 Step 0: Loss = 2.424161434173584 Accuracy = 0.09375\n",
      "Epoch 1 Step 200: Loss = 0.3653165400028229 Accuracy = 0.8387748599052429\n",
      "Epoch 1 Step 400: Loss = 0.16105180978775024 Accuracy = 0.8706359267234802\n",
      "Epoch 1 Step 600: Loss = 0.18409746885299683 Accuracy = 0.8850353360176086\n",
      "Epoch 1 Step 800: Loss = 0.14532171189785004 Accuracy = 0.8971598148345947\n",
      "Epoch 1 Step 1000: Loss = 0.44887739419937134 Accuracy = 0.9036276340484619\n",
      "Epoch 1 Step 1200: Loss = 0.17933422327041626 Accuracy = 0.9098407626152039\n",
      "Epoch 1 Step 1400: Loss = 0.2197543829679489 Accuracy = 0.9147260785102844\n",
      "Epoch 1 Step 1600: Loss = 0.21381160616874695 Accuracy = 0.9177271723747253\n",
      "Epoch 1 Step 1800: Loss = 0.17532978951931 Accuracy = 0.9216927886009216\n",
      "Start of epoch 2\n",
      "Epoch 2 Step 0: Loss = 0.07789589464664459 Accuracy = 1.0\n",
      "Epoch 2 Step 200: Loss = 0.14208102226257324 Accuracy = 0.9597325921058655\n",
      "Epoch 2 Step 400: Loss = 0.12307007610797882 Accuracy = 0.9571384191513062\n",
      "Epoch 2 Step 600: Loss = 0.05692485719919205 Accuracy = 0.9590786099433899\n",
      "Epoch 2 Step 800: Loss = 0.06584063172340393 Accuracy = 0.9604010581970215\n",
      "Epoch 2 Step 1000: Loss = 0.278097003698349 Accuracy = 0.9606019258499146\n",
      "Epoch 2 Step 1200: Loss = 0.10797001421451569 Accuracy = 0.9615424871444702\n",
      "Epoch 2 Step 1400: Loss = 0.16460268199443817 Accuracy = 0.962549090385437\n",
      "Epoch 2 Step 1600: Loss = 0.1849026083946228 Accuracy = 0.9624063372612\n",
      "Epoch 2 Step 1800: Loss = 0.10795281827449799 Accuracy = 0.9633883833885193\n",
      "Start of epoch 3\n",
      "Epoch 3 Step 0: Loss = 0.030420074239373207 Accuracy = 1.0\n",
      "Epoch 3 Step 200: Loss = 0.10701996088027954 Accuracy = 0.9771454930305481\n",
      "Epoch 3 Step 400: Loss = 0.10221768915653229 Accuracy = 0.9747506380081177\n",
      "Epoch 3 Step 600: Loss = 0.041363056749105453 Accuracy = 0.9751976132392883\n",
      "Epoch 3 Step 800: Loss = 0.05375022068619728 Accuracy = 0.9747191071510315\n",
      "Epoch 3 Step 1000: Loss = 0.13329052925109863 Accuracy = 0.9747751951217651\n",
      "Epoch 3 Step 1200: Loss = 0.06733254343271255 Accuracy = 0.9751769304275513\n",
      "Epoch 3 Step 1400: Loss = 0.08193515986204147 Accuracy = 0.9754639267921448\n",
      "Epoch 3 Step 1600: Loss = 0.08216576278209686 Accuracy = 0.9752888679504395\n",
      "Epoch 3 Step 1800: Loss = 0.05636395141482353 Accuracy = 0.9757946729660034\n",
      "Start of epoch 4\n",
      "Epoch 4 Step 0: Loss = 0.020692437887191772 Accuracy = 1.0\n",
      "Epoch 4 Step 200: Loss = 0.07037060707807541 Accuracy = 0.9833644032478333\n",
      "Epoch 4 Step 400: Loss = 0.0918084904551506 Accuracy = 0.9811409115791321\n",
      "Epoch 4 Step 600: Loss = 0.02926451712846756 Accuracy = 0.9824771285057068\n",
      "Epoch 4 Step 800: Loss = 0.04819932579994202 Accuracy = 0.9824438095092773\n",
      "Epoch 4 Step 1000: Loss = 0.09902288019657135 Accuracy = 0.9821740984916687\n",
      "Epoch 4 Step 1200: Loss = 0.03162672370672226 Accuracy = 0.9820722341537476\n",
      "Epoch 4 Step 1400: Loss = 0.04885308817028999 Accuracy = 0.9824009537696838\n",
      "Epoch 4 Step 1600: Loss = 0.03742845728993416 Accuracy = 0.9822962284088135\n",
      "Epoch 4 Step 1800: Loss = 0.036920610815286636 Accuracy = 0.9826658964157104\n",
      "Start of epoch 5\n",
      "Epoch 5 Step 0: Loss = 0.036573901772499084 Accuracy = 0.96875\n",
      "Epoch 5 Step 200: Loss = 0.03519917652010918 Accuracy = 0.9886505007743835\n",
      "Epoch 5 Step 400: Loss = 0.0784674882888794 Accuracy = 0.9872973561286926\n",
      "Epoch 5 Step 600: Loss = 0.03907008469104767 Accuracy = 0.9875208139419556\n",
      "Epoch 5 Step 800: Loss = 0.027628093957901 Accuracy = 0.9875936508178711\n",
      "Epoch 5 Step 1000: Loss = 0.08802398294210434 Accuracy = 0.9873875975608826\n",
      "Epoch 5 Step 1200: Loss = 0.024501509964466095 Accuracy = 0.9871981739997864\n",
      "Epoch 5 Step 1400: Loss = 0.021899063140153885 Accuracy = 0.9874197244644165\n",
      "Epoch 5 Step 1600: Loss = 0.02601497620344162 Accuracy = 0.9872150421142578\n",
      "Epoch 5 Step 1800: Loss = 0.026158761233091354 Accuracy = 0.9875416159629822\n"
     ]
    }
   ],
   "source": [
    "epochs = 5  # Number of epochs for training\n",
    "\n",
    "for epoch in range(epochs):\n",
    "    print(f'Start of epoch {epoch + 1}')\n",
    "    \n",
    "    for step, (x_batch_train, y_batch_train) in enumerate(train_dataset):\n",
    "        with tf.GradientTape() as tape:\n",
    "            # Forward pass: Compute predictions\n",
    "            logits = model(x_batch_train, training=True)\n",
    "            # Compute loss\n",
    "            loss_value = loss_fn(y_batch_train, logits)\n",
    "        \n",
    "        # Compute gradients\n",
    "        grads = tape.gradient(loss_value, model.trainable_weights)\n",
    "        # Apply gradients to update model weights\n",
    "        optimizer.apply_gradients(zip(grads, model.trainable_weights))\n",
    "        \n",
    "        # Update the accuracy metric\n",
    "        accuracy_metric.update_state(y_batch_train, logits)\n",
    "\n",
    "        # Log the loss and accuracy every 200 steps\n",
    "        if step % 200 == 0:\n",
    "            print(f'Epoch {epoch + 1} Step {step}: Loss = {loss_value.numpy()} Accuracy = {accuracy_metric.result().numpy()}')\n",
    "    \n",
    "    # Reset the metric at the end of each epoch\n",
    "    accuracy_metric.reset_state()"
   ]
  },
  {
   "cell_type": "markdown",
   "id": "ccfacc8e",
   "metadata": {},
   "source": []
  }
 ],
 "metadata": {
  "kernelspec": {
   "display_name": "venv",
   "language": "python",
   "name": "python3"
  },
  "language_info": {
   "codemirror_mode": {
    "name": "ipython",
    "version": 3
   },
   "file_extension": ".py",
   "mimetype": "text/x-python",
   "name": "python",
   "nbconvert_exporter": "python",
   "pygments_lexer": "ipython3",
   "version": "3.12.9"
  }
 },
 "nbformat": 4,
 "nbformat_minor": 5
}
