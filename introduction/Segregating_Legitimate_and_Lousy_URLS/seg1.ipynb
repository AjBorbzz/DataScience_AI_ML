{
 "cells": [
  {
   "cell_type": "markdown",
   "metadata": {},
   "source": [
    "### Introduction\n",
    "\n",
    "A URL can include either **Hypertext Transfer Protocol (HTTP)** or the **Hypertext Transfer Protocol Secure (HTTPS)**. Other types of protocols include the **File Transfer Protocol (FTP)**, **Siimple Mail Transfer (SMTP)**, and others, such as telnet, DNS, and so on.\n",
    "\n",
    "A URL consists of the top-level domain, hostname, paths, and port of the web address.\n",
    "\n",
    "A Lousy URLs are URLs that have been created with malicious intent. They are often the precursors to cyberattacjs that may happen in the near future. "
   ]
  },
  {
   "cell_type": "code",
   "execution_count": 1,
   "metadata": {},
   "outputs": [],
   "source": [
    "import pandas as pd\n",
    "import numpy as np\n",
    "import random \n",
    "import pickle\n",
    "\n",
    "from sklearn.model_selection import train_test_split\n",
    "from sklearn.feature_extraction.text import TfidfVectorizer\n",
    "from sklearn.linear_model import LogisticRegression"
   ]
  },
  {
   "cell_type": "code",
   "execution_count": null,
   "metadata": {},
   "outputs": [],
   "source": [
    "def url_cleanse(web_url):\n",
    "    web_url = web_url.lower()\n",
    "\n",
    "    urltoken = []\n",
    "    dot_slash  = []\n",
    "    slash = str(web_url).split('/')\n",
    "    for i in slash:\n",
    "        r1 = str(i).split('-')\n",
    "\n",
    "        token_slash = []\n",
    "        for j in range(0, len(r1)):\n",
    "            r2 = str(r1[j]).split('.')\n",
    "            token_slash += r2 \n",
    "            dot_slash += r1 + token_slash\n",
    "\n",
    "            urltoken = list(set(dot_slash))\n",
    "            if 'com' in urltoken:\n",
    "                urltoken.remove('com')\n",
    "\n",
    "        return urltoken"
   ]
  }
 ],
 "metadata": {
  "kernelspec": {
   "display_name": ".venv",
   "language": "python",
   "name": "python3"
  },
  "language_info": {
   "codemirror_mode": {
    "name": "ipython",
    "version": 3
   },
   "file_extension": ".py",
   "mimetype": "text/x-python",
   "name": "python",
   "nbconvert_exporter": "python",
   "pygments_lexer": "ipython3",
   "version": "3.13.2"
  }
 },
 "nbformat": 4,
 "nbformat_minor": 2
}
