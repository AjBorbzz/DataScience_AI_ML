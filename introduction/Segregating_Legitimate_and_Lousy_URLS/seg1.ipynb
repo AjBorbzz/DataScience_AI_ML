{
 "cells": [
  {
   "cell_type": "markdown",
   "metadata": {},
   "source": [
    "### Introduction\n",
    "\n",
    "A URL can include either **Hypertext Transfer Protocol (HTTP)** or the **Hypertext Transfer Protocol Secure (HTTPS)**. Other types of protocols include the **File Transfer Protocol (FTP)**, **Siimple Mail Transfer (SMTP)**, and others, such as telnet, DNS, and so on.\n",
    "\n",
    "A URL consists of the top-level domain, hostname, paths, and port of the web address.\n",
    "\n",
    "A Lousy URLs are URLs that have been created with malicious intent. They are often the precursors to cyberattacjs that may happen in the near future. "
   ]
  },
  {
   "cell_type": "code",
   "execution_count": 2,
   "metadata": {},
   "outputs": [],
   "source": [
    "import pandas as pd\n",
    "import numpy as np\n",
    "import random \n",
    "import pickle\n",
    "\n",
    "from sklearn.model_selection import train_test_split\n",
    "from sklearn.feature_extraction.text import TfidfVectorizer\n",
    "from sklearn.linear_model import LogisticRegression\n",
    "\n",
    "import re\n",
    "from urllib.parse import urlparse"
   ]
  },
  {
   "cell_type": "code",
   "execution_count": 3,
   "metadata": {},
   "outputs": [],
   "source": [
    "def url_cleanse(web_url):\n",
    "    web_url = web_url.lower()  # Convert to lowercase\n",
    "    parsed_url = urlparse(web_url)\n",
    "    \n",
    "    # Extract domain and path separately\n",
    "    domain_parts = re.split(r'[.\\-]', parsed_url.netloc)  # Split by dot & hyphen\n",
    "    path_parts = re.split(r'[\\/\\-]', parsed_url.path)  # Split by slash & hyphen\n",
    "    \n",
    "    # Remove common TLDs and empty strings\n",
    "    common_tlds = {'com', 'net', 'org', 'gov', 'edu', 'co', 'uk', 'us'}\n",
    "    url_tokens = [part for part in (domain_parts + path_parts) if part and part not in common_tlds]\n",
    "\n",
    "    return list(set(url_tokens))  # Return unique tokens"
   ]
  },
  {
   "cell_type": "code",
   "execution_count": 4,
   "metadata": {},
   "outputs": [
    {
     "name": "stdout",
     "output_type": "stream",
     "text": [
      "['iamstrongerthanthe_mountain', 'dataset', 'www', 'forgiveme']\n"
     ]
    }
   ],
   "source": [
    "test = url_cleanse(\"https://www.Iamstrongerthanthe_mountain.com/Dataset/ForgiveMe\")\n",
    "print(test)"
   ]
  },
  {
   "cell_type": "code",
   "execution_count": null,
   "metadata": {},
   "outputs": [],
   "source": []
  }
 ],
 "metadata": {
  "kernelspec": {
   "display_name": ".venv",
   "language": "python",
   "name": "python3"
  },
  "language_info": {
   "codemirror_mode": {
    "name": "ipython",
    "version": 3
   },
   "file_extension": ".py",
   "mimetype": "text/x-python",
   "name": "python",
   "nbconvert_exporter": "python",
   "pygments_lexer": "ipython3",
   "version": "3.13.2"
  }
 },
 "nbformat": 4,
 "nbformat_minor": 2
}
