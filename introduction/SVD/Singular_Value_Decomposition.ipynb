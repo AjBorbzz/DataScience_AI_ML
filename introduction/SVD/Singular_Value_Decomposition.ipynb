{
 "cells": [
  {
   "cell_type": "markdown",
   "metadata": {},
   "source": [
    "In this mini project, we will use `Background Subtraction in Dynamic DataSet` from `Statistical Visual Computing Laboratory (SVCL)` at UCSD to experiment data to remove objects other than the street from several security videos using `Singular Value Decomposition` to help test their vision system.\n"
   ]
  },
  {
   "cell_type": "markdown",
   "metadata": {},
   "source": [
    "** This exercise is a replicate version from IBM Unsupervised learning Hands-on project.**"
   ]
  },
  {
   "cell_type": "code",
   "execution_count": 34,
   "metadata": {},
   "outputs": [
    {
     "data": {
      "application/vnd.jupyter.widget-view+json": {
       "model_id": "834db265bb994825afc50a57a082140c",
       "version_major": 2,
       "version_minor": 0
      },
      "text/plain": [
       "Downloading peds.tar.gz:   0%|          | 0/4350112 [00:00<?, ?it/s]"
      ]
     },
     "metadata": {},
     "output_type": "display_data"
    },
    {
     "name": "stdout",
     "output_type": "stream",
     "text": [
      "Saved as 'peds.tar.gz'\n"
     ]
    },
    {
     "data": {
      "application/vnd.jupyter.widget-view+json": {
       "model_id": "f729326c98b54eefbba92ab3857da89d",
       "version_major": 2,
       "version_minor": 0
      },
      "text/plain": [
       "Downloading boats.tar.gz:   0%|          | 0/1552239 [00:00<?, ?it/s]"
      ]
     },
     "metadata": {},
     "output_type": "display_data"
    },
    {
     "name": "stdout",
     "output_type": "stream",
     "text": [
      "Saved as 'boats.tar.gz'\n"
     ]
    }
   ],
   "source": [
    "import skillsnetwork\n",
    "# print(skillsnetwork.read.__doc__)\n",
    "# print(dir(skillsnetwork))\n",
    "base_path = \"E:\\\\Python\\\\2024_machine_learning_projects\\\\introduction\\\\SVD\"\n",
    "path=\"E:\\\\Python\\\\2024_machine_learning_projects\\\\introduction\\\\SVD\\\\traffic.tar.gz\"\n",
    "# await skillsnetwork.prepare(f\"{path}\")\n",
    "await skillsnetwork.download(\"https://cf-courses-data.s3.us.cloud-object-storage.appdomain.cloud/IBM-ML0187EN-SkillsNetwork/labs/module%203/data/peds.tar.gz\", path=base_path)\n",
    "await skillsnetwork.download(\"https://cf-courses-data.s3.us.cloud-object-storage.appdomain.cloud/IBM-ML0187EN-SkillsNetwork/labs/module%203/data/boats.tar.gz\", path=base_path)\n"
   ]
  },
  {
   "cell_type": "code",
   "execution_count": 43,
   "metadata": {},
   "outputs": [],
   "source": [
    "import pandas as pd\n",
    "import numpy as np \n",
    "\n",
    "\n",
    "from os import listdir,getcwd\n",
    "from os.path import isfile, join\n",
    "from random import randint\n",
    "from PIL import Image\n",
    "\n",
    "import seaborn as sns \n",
    "import matplotlib.pylab as plt\n",
    "%matplotlib inline\n",
    "\n",
    "from sklearn.decomposition import PCA\n",
    "from sklearn.decomposition import TruncatedSVD\n",
    "\n",
    "\n",
    "from sympy import Matrix, init_printing,Symbol\n",
    "from numpy.linalg import qr,eig,inv,matrix_rank,inv,svd\n",
    "init_printing()"
   ]
  },
  {
   "cell_type": "code",
   "execution_count": 41,
   "metadata": {},
   "outputs": [
    {
     "name": "stdout",
     "output_type": "stream",
     "text": [
      "Extracted e:\\Python\\2024_machine_learning_projects\\introduction\\SVD\\boats.tar.gz to .\n",
      "Extracted e:\\Python\\2024_machine_learning_projects\\introduction\\SVD\\peds.tar.gz to .\n",
      "Extracted e:\\Python\\2024_machine_learning_projects\\introduction\\SVD\\traffic.tar.gz to .\n"
     ]
    }
   ],
   "source": [
    "import tarfile\n",
    "import os\n",
    "\n",
    "def extract_tar_gz(file_path, extract_path='.'):\n",
    "    \"\"\" Extract a .tar.gz file to the specified directory.\n",
    "     Params:\n",
    "     file_path (str) : the path to the .tar.gz file.\n",
    "     extract_path (str): The directory where files should be extracted. Default is the current directory.\n",
    "    \"\"\"\n",
    "    try:\n",
    "        with tarfile.open(file_path, 'r:gz') as tar:\n",
    "            tar.extractall(path=extract_path)\n",
    "        print(f\"Extracted {file_path} to {extract_path}\")\n",
    "    except Exception as e:\n",
    "        print(f\"An error occured: {e}\")\n",
    "\n",
    "list_tar_files = [os.path.join(os.getcwd(), f) for f in os.listdir() if \"tar\" in f.split(\".\")[1]]\n",
    "\n",
    "for tar_file in list_tar_files:\n",
    "    extract_tar_gz(tar_file)\n",
    "\n"
   ]
  },
  {
   "cell_type": "markdown",
   "metadata": {},
   "source": [
    "### Defining a helper function to get the data from the matrix."
   ]
  },
  {
   "cell_type": "code",
   "execution_count": null,
   "metadata": {},
   "outputs": [],
   "source": [
    "def get_data_Matrix (mypath=\"peds\"):\n",
    "    cwd = getcwd()\n",
    "\n",
    "    mypath=join(cwd,mypath)\n",
    "    files = [ join(mypath,f) for f in listdir(mypath) if isfile(join(mypath, f)) and f.startswith(\".\")==False]\n",
    "    # Read image\n",
    "    img = Image.open(files[0])\n",
    "    I=np.array(img)\n",
    "    # Output Images\n",
    "\n",
    "    Length,Width=I.shape\n",
    "   \n",
    "    X=np.zeros((len(files),Length*Width))\n",
    "    for i,file in enumerate(files):\n",
    "        img = Image.open(file)\n",
    "        I=np.array(img)\n",
    "        X[i,:]=I.reshape(1,-1)\n",
    "    return X,Length,Width"
   ]
  },
  {
   "cell_type": "markdown",
   "metadata": {},
   "source": [
    "## Singular Value Decomposition\n",
    "The Singular-Value Decomposition, or SVD for short, will decompose a real or complex $N × D$ matrix $\\mathbf{X}$ of rank $r$ as follows:\n"
   ]
  },
  {
   "cell_type": "markdown",
   "metadata": {},
   "source": [
    "$$\\mathbf{X}= \\mathbf {US V^{T}}$$\n"
   ]
  },
  {
   "cell_type": "markdown",
   "metadata": {},
   "source": [
    "In many applications  $N \\ge D$, but SVD can be used for any matrix $\\mathbf{X}$. For example, in computer vision and image processing tasks we sometimes have $D \\ge N$.\n"
   ]
  },
  {
   "cell_type": "markdown",
   "metadata": {},
   "source": [
    "The matrix $\\mathbf{S}$ contains the nonnegative <b>singular values</b> of $\\mathbf{X}$, with diagonal entries ${\\sigma _{i}}$ else $0$, the entries are ordered by importance in descending order with respect to $i$, i.e:\n",
    "\n",
    "$$\\sigma _{1}>\\sigma _{2},..>\\sigma _{r}$$\n"
   ]
  },
  {
   "cell_type": "markdown",
   "metadata": {},
   "source": [
    "The matrix $\\mathbf {U}$ is $NxD$ and  has the orthornormal columns  $\\mathbf{u}_{1}, ..., \\mathbf{u}_{D} $ called the <b>left singular vectors</b>.\n",
    "\n",
    "The matrix $\\mathbf {V}$ is $DxD$ and has the orthornormal columns $\\mathbf{v}_{1}, ..., \\mathbf{v}_{D}$ called the <b>right singular vectors</b>  (note  that $\\mathbf{V}$ transpose, $\\mathbf {V^{T}}$ is returned as output in numpy's `svd` function).\n"
   ]
  },
  {
   "cell_type": "markdown",
   "metadata": {},
   "source": [
    " SVD decomposition returns the full shape of a non-square matrix, the non colored  parts of the decomposition **N-D** terms in the matrix U are zeros, we see many of the squares are redundant.\n"
   ]
  },
  {
   "cell_type": "markdown",
   "metadata": {},
   "source": [
    "<img src=\"https://cf-courses-data.s3.us.cloud-object-storage.appdomain.cloud/IBM-ML0187EN-SkillsNetwork/labs/module%203/images/matrix.png\" width=\"600\" alt=\"full svd\">\n"
   ]
  },
  {
   "cell_type": "markdown",
   "metadata": {},
   "source": [
    "Consider the matrix $\\mathbf{X}$:\n"
   ]
  },
  {
   "cell_type": "code",
   "execution_count": 44,
   "metadata": {},
   "outputs": [
    {
     "data": {
      "text/latex": [
       "$\\displaystyle \\left[\\begin{matrix}1.0 & 2.0\\\\2.0 & 1.0\\\\3.0 & 3.0\\end{matrix}\\right]$"
      ],
      "text/plain": [
       "⎡1.0  2.0⎤\n",
       "⎢        ⎥\n",
       "⎢2.0  1.0⎥\n",
       "⎢        ⎥\n",
       "⎣3.0  3.0⎦"
      ]
     },
     "execution_count": 44,
     "metadata": {},
     "output_type": "execute_result"
    }
   ],
   "source": [
    "X=np.array([[1.0,2],[2,1],[3,3]])\n",
    "Matrix(X)"
   ]
  },
  {
   "cell_type": "code",
   "execution_count": null,
   "metadata": {},
   "outputs": [],
   "source": []
  }
 ],
 "metadata": {
  "kernelspec": {
   "display_name": "venv",
   "language": "python",
   "name": "python3"
  },
  "language_info": {
   "codemirror_mode": {
    "name": "ipython",
    "version": 3
   },
   "file_extension": ".py",
   "mimetype": "text/x-python",
   "name": "python",
   "nbconvert_exporter": "python",
   "pygments_lexer": "ipython3",
   "version": "3.12.0"
  }
 },
 "nbformat": 4,
 "nbformat_minor": 2
}
