{
 "cells": [
  {
   "cell_type": "markdown",
   "id": "d37f6ac6",
   "metadata": {},
   "source": [
    "# MUltiple Linear Regression\n",
    "\n",
    "Let's explore multiple linear regression in PyTorch. I will build a simple linear class and custom module"
   ]
  },
  {
   "cell_type": "code",
   "execution_count": 1,
   "id": "1cd6c348",
   "metadata": {},
   "outputs": [
    {
     "data": {
      "text/plain": [
       "<torch._C.Generator at 0x1078d1050>"
      ]
     },
     "execution_count": 1,
     "metadata": {},
     "output_type": "execute_result"
    }
   ],
   "source": [
    "from torch import nn\n",
    "import torch\n",
    "torch.manual_seed(1)"
   ]
  },
  {
   "cell_type": "code",
   "execution_count": 2,
   "id": "734b3158",
   "metadata": {},
   "outputs": [
    {
     "name": "stdout",
     "output_type": "stream",
     "text": [
      "w : tensor([[2.],\n",
      "        [3.]], requires_grad=True)\n",
      "b: tensor([[1.]], requires_grad=True)\n"
     ]
    }
   ],
   "source": [
    "# Set the weight and bias\n",
    "\n",
    "w = torch.tensor([[2.0], [3.0]], requires_grad=True)\n",
    "b = torch.tensor([[1.0]], requires_grad=True)\n",
    "\n",
    "print(f\"w : {w}\\nb: {b}\")"
   ]
  },
  {
   "cell_type": "markdown",
   "id": "b525f914",
   "metadata": {},
   "source": [
    "### Use `torch.mm` for matrix multiplication instead of scaler multiplication"
   ]
  },
  {
   "cell_type": "code",
   "execution_count": 3,
   "id": "14873ced",
   "metadata": {},
   "outputs": [],
   "source": [
    "# Define Prediction Function\n",
    "\n",
    "def forward(x):\n",
    "    yhat = torch.mm(x, w) + b\n",
    "    return yhat"
   ]
  },
  {
   "cell_type": "code",
   "execution_count": 4,
   "id": "8cc34c63",
   "metadata": {},
   "outputs": [
    {
     "name": "stdout",
     "output_type": "stream",
     "text": [
      "The result:  tensor([[9.]], grad_fn=<AddBackward0>)\n"
     ]
    }
   ],
   "source": [
    "# Calculate yhat\n",
    "\n",
    "x = torch.tensor([[1.0, 2.0]])\n",
    "yhat = forward(x)\n",
    "print(\"The result: \", yhat)"
   ]
  },
  {
   "cell_type": "code",
   "execution_count": 5,
   "id": "2a50ffb2",
   "metadata": {},
   "outputs": [],
   "source": [
    "# Sample tensor X\n",
    "\n",
    "X = torch.tensor([[1.0, 1.0], [1.0, 2.0], [1.0, 3.0]])"
   ]
  },
  {
   "cell_type": "code",
   "execution_count": 6,
   "id": "3aad0437",
   "metadata": {},
   "outputs": [
    {
     "name": "stdout",
     "output_type": "stream",
     "text": [
      "The result:  tensor([[ 6.],\n",
      "        [ 9.],\n",
      "        [12.]], grad_fn=<AddBackward0>)\n"
     ]
    }
   ],
   "source": [
    "# Make the prediction of X \n",
    "\n",
    "yhat = forward(X)\n",
    "print(\"The result: \", yhat)"
   ]
  },
  {
   "cell_type": "code",
   "execution_count": null,
   "id": "37b52685",
   "metadata": {},
   "outputs": [],
   "source": []
  }
 ],
 "metadata": {
  "kernelspec": {
   "display_name": "venv",
   "language": "python",
   "name": "python3"
  },
  "language_info": {
   "codemirror_mode": {
    "name": "ipython",
    "version": 3
   },
   "file_extension": ".py",
   "mimetype": "text/x-python",
   "name": "python",
   "nbconvert_exporter": "python",
   "pygments_lexer": "ipython3",
   "version": "3.13.2"
  }
 },
 "nbformat": 4,
 "nbformat_minor": 5
}
