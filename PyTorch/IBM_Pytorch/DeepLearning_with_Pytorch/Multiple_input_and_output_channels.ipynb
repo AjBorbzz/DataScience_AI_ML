{
 "cells": [
  {
   "cell_type": "markdown",
   "id": "74739b24",
   "metadata": {},
   "source": [
    "# Multiple Input and Output Channels\n",
    "A study convolution and review how the different operations change the relationship between input and output."
   ]
  },
  {
   "cell_type": "code",
   "execution_count": 1,
   "id": "f8f2fefa",
   "metadata": {},
   "outputs": [
    {
     "name": "stderr",
     "output_type": "stream",
     "text": [
      "/var/folders/h0/1qbsqb5s27qgqgpdmd83xrx00000gn/T/ipykernel_3669/3053585304.py:5: DeprecationWarning: scipy.misc is deprecated and will be removed in 2.0.0\n",
      "  from scipy import ndimage, misc\n"
     ]
    }
   ],
   "source": [
    "import torch \n",
    "import torch.nn as nn\n",
    "import matplotlib.pyplot as plt\n",
    "import numpy as np\n",
    "from scipy import ndimage, misc"
   ]
  },
  {
   "cell_type": "markdown",
   "id": "2c039269",
   "metadata": {},
   "source": [
    "For each channel, a kernel is created, and each kernel performs a convolution independently. As a result, the number of outputs is equal to the number of channels."
   ]
  },
  {
   "cell_type": "code",
   "execution_count": 2,
   "id": "b91d5cb7",
   "metadata": {},
   "outputs": [],
   "source": [
    "conv1 = nn.Conv2d(in_channels=1, out_channels=3,kernel_size=3)"
   ]
  },
  {
   "cell_type": "code",
   "execution_count": 3,
   "id": "e7f11a56",
   "metadata": {},
   "outputs": [],
   "source": [
    "# Pre-configured settings\n",
    "Gx=torch.tensor([[1.0,0,-1.0],[2.0,0,-2.0],[1.0,0.0,-1.0]])\n",
    "Gy=torch.tensor([[1.0,2.0,1.0],[0.0,0.0,0.0],[-1.0,-2.0,-1.0]])\n",
    "\n",
    "conv1.state_dict()['weight'][0][0]=Gx\n",
    "conv1.state_dict()['weight'][1][0]=Gy\n",
    "conv1.state_dict()['weight'][2][0]=torch.ones(3,3)"
   ]
  },
  {
   "cell_type": "markdown",
   "id": "4fe88626",
   "metadata": {},
   "source": [
    "### Bias set to zero"
   ]
  },
  {
   "cell_type": "code",
   "execution_count": 4,
   "id": "ef2bde76",
   "metadata": {},
   "outputs": [
    {
     "data": {
      "text/plain": [
       "tensor([0., 0., 0.])"
      ]
     },
     "execution_count": 4,
     "metadata": {},
     "output_type": "execute_result"
    }
   ],
   "source": [
    "conv1.state_dict()['bias'][:]=torch.tensor([0.0,0.0,0.0])\n",
    "conv1.state_dict()['bias']"
   ]
  },
  {
   "cell_type": "code",
   "execution_count": 5,
   "id": "e3bded0e",
   "metadata": {},
   "outputs": [
    {
     "name": "stdout",
     "output_type": "stream",
     "text": [
      "tensor([[[ 1.,  0., -1.],\n",
      "         [ 2.,  0., -2.],\n",
      "         [ 1.,  0., -1.]]])\n",
      "tensor([[[ 1.,  2.,  1.],\n",
      "         [ 0.,  0.,  0.],\n",
      "         [-1., -2., -1.]]])\n",
      "tensor([[[1., 1., 1.],\n",
      "         [1., 1., 1.],\n",
      "         [1., 1., 1.]]])\n"
     ]
    }
   ],
   "source": [
    "for x in conv1.state_dict()['weight']:\n",
    "    print(x)"
   ]
  },
  {
   "cell_type": "markdown",
   "id": "77aea656",
   "metadata": {},
   "source": [
    "Create an input image to represent the input X:\n"
   ]
  },
  {
   "cell_type": "code",
   "execution_count": 6,
   "id": "45864155",
   "metadata": {},
   "outputs": [
    {
     "data": {
      "text/plain": [
       "tensor([[[[0., 0., 1., 0., 0.],\n",
       "          [0., 0., 1., 0., 0.],\n",
       "          [0., 0., 1., 0., 0.],\n",
       "          [0., 0., 1., 0., 0.],\n",
       "          [0., 0., 1., 0., 0.]]]])"
      ]
     },
     "execution_count": 6,
     "metadata": {},
     "output_type": "execute_result"
    }
   ],
   "source": [
    "image=torch.zeros(1,1,5,5)\n",
    "image[0,0,:,2]=1\n",
    "image"
   ]
  },
  {
   "cell_type": "markdown",
   "id": "d48d234d",
   "metadata": {},
   "source": [
    "### Plot the Image"
   ]
  },
  {
   "cell_type": "code",
   "execution_count": 7,
   "id": "fee2a519",
   "metadata": {},
   "outputs": [
    {
     "data": {
      "image/png": "[encoded data removed]",
      "text/plain": [
       "<Figure size 640x480 with 2 Axes>"
      ]
     },
     "metadata": {},
     "output_type": "display_data"
    }
   ],
   "source": [
    "plt.imshow(image[0,0,:,:].numpy(), interpolation='nearest', cmap=plt.cm.gray)\n",
    "plt.colorbar()\n",
    "plt.show()"
   ]
  },
  {
   "cell_type": "markdown",
   "id": "84466ee2",
   "metadata": {},
   "source": []
  }
 ],
 "metadata": {
  "kernelspec": {
   "display_name": "3.11.9",
   "language": "python",
   "name": "python3"
  },
  "language_info": {
   "codemirror_mode": {
    "name": "ipython",
    "version": 3
   },
   "file_extension": ".py",
   "mimetype": "text/x-python",
   "name": "python",
   "nbconvert_exporter": "python",
   "pygments_lexer": "ipython3",
   "version": "3.11.9"
  }
 },
 "nbformat": 4,
 "nbformat_minor": 5
}
