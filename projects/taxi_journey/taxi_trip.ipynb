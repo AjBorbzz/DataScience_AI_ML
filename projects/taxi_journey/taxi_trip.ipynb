{
 "cells": [
  {
   "cell_type": "code",
   "execution_count": null,
   "metadata": {},
   "outputs": [],
   "source": [
    "#Let's check the preps, food check Beer check venue check!!\n",
    "import matplotlib.pyplot as plt\n",
    "%matplotlib inline\n",
    "\n",
    "from mpl_toolkits.basemap import Basemap\n",
    "from matplotlib import cm\n",
    "\n",
    "import seaborn as sns\n",
    "sns.set(style=\"white\", palette=\"muted\", color_codes=True)\n",
    "import pandas as pd\n",
    "pd.options.mode.chained_assignment = None \n",
    "import numpy as np\n",
    "\n",
    "from haversine import haversine\n",
    "from scipy.spatial.distance import euclidean , cityblock\n",
    "from geopy.distance import great_circle\n",
    "from math import *\n",
    "\n",
    "from bokeh.io import output_notebook,show\n",
    "from bokeh.models import HoverTool\n",
    "from bokeh.plotting import figure\n",
    "from bokeh.palettes import Spectral4\n",
    "\n",
    "import folium \n",
    "from folium import plugins\n",
    "from folium.plugins import HeatMap\n",
    "\n",
    "output_notebook()"
   ]
  },
  {
   "cell_type": "code",
   "execution_count": null,
   "metadata": {},
   "outputs": [],
   "source": [
    "train=pd.read_csv(\"train.csv\")#../input/nyc-taxi-trip-duration/\n",
    "train.head(3)"
   ]
  },
  {
   "cell_type": "code",
   "execution_count": null,
   "metadata": {},
   "outputs": [],
   "source": [
    "train=pd.read_csv(\"train.csv\")#../input/nyc-taxi-trip-duration/\n",
    "train.head(3)"
   ]
  },
  {
   "cell_type": "code",
   "execution_count": null,
   "metadata": {},
   "outputs": [],
   "source": [
    "train = train[(train.pickup_latitude> south) & (train.pickup_latitude < north)]\n",
    "train = train[(train.dropoff_latitude> south) & (train.dropoff_latitude < north)]\n",
    "train = train[(train.pickup_longitude> west) & (train.pickup_longitude < east)]\n",
    "train = train[(train.dropoff_longitude> west) & (train.dropoff_longitude < east)]"
   ]
  },
  {
   "cell_type": "code",
   "execution_count": null,
   "metadata": {},
   "outputs": [],
   "source": [
    "#Extract the month column from pickup datetime variable and take subset of data\n",
    "train['dropoff_datetime'] = pd.to_datetime(train.dropoff_datetime)\n",
    "train['dropoff_month'] = train['dropoff_datetime'].dt.month\n",
    "\n",
    "heat_df =train.sample(n=2500)\n",
    "\n",
    "#Extract required columns\n",
    "heat_df = heat_df[['dropoff_latitude', 'dropoff_longitude','dropoff_month']]\n",
    "\n",
    "\n",
    "# Ensure you're handing it floats\n",
    "heat_df['dropoff_latitude'] = heat_df['dropoff_latitude'].astype(float)\n",
    "heat_df['dropoff_longitude'] = heat_df['dropoff_longitude'].astype(float)\n",
    "\n",
    "\n",
    "#remove NANs\n",
    "heat_df = heat_df.dropna(axis=0)\n",
    "\n",
    "\n",
    "# Create weight column, using date\n",
    "heat_df['Weight'] = heat_df['dropoff_month']\n",
    "heat_df['Weight'] = heat_df['Weight'].astype(float)\n",
    "heat_df = heat_df.dropna(axis=0, subset=['dropoff_latitude','dropoff_longitude', 'Weight'])\n"
   ]
  }
 ],
 "metadata": {
  "language_info": {
   "name": "python"
  }
 },
 "nbformat": 4,
 "nbformat_minor": 2
}
