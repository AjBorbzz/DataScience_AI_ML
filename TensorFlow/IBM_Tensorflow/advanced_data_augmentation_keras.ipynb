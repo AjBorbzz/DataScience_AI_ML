{
 "cells": [
  {
   "cell_type": "code",
   "execution_count": null,
   "id": "0b070cc8",
   "metadata": {},
   "outputs": [
    {
     "name": "stdout",
     "output_type": "stream",
     "text": [
      "Requirement already satisfied: tensorflow==2.16.2 in /Users/ajborbz/Projects/DataScience_AI_ML/TensorFlow/venv/lib/python3.12/site-packages (2.16.2)\n"
     ]
    }
   ],
   "source": [
    "!pip install tensorflow==2.16.2 matplotlib==3.9.1 scipy"
   ]
  },
  {
   "cell_type": "code",
   "execution_count": null,
   "id": "a510f00e",
   "metadata": {},
   "outputs": [],
   "source": []
  }
 ],
 "metadata": {
  "kernelspec": {
   "display_name": "venv",
   "language": "python",
   "name": "python3"
  },
  "language_info": {
   "codemirror_mode": {
    "name": "ipython",
    "version": 3
   },
   "file_extension": ".py",
   "mimetype": "text/x-python",
   "name": "python",
   "nbconvert_exporter": "python",
   "pygments_lexer": "ipython3",
   "version": "3.12.9"
  }
 },
 "nbformat": 4,
 "nbformat_minor": 5
}
