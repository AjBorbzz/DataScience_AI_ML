{
 "cells": [
  {
   "cell_type": "markdown",
   "id": "b20725b7",
   "metadata": {},
   "source": [
    "# **Direct Preference Optimization (DPO) Using Hugging Face**"
   ]
  },
  {
   "cell_type": "markdown",
   "id": "b6d664a3",
   "metadata": {},
   "source": [
    "The direct preference optimization (DPO) method comes in place which directly optimizes LLMs based models on user preferences, enhancing their alignment with human expectations."
   ]
  },
  {
   "cell_type": "code",
   "execution_count": 1,
   "id": "b83f8d37",
   "metadata": {},
   "outputs": [
    {
     "name": "stdout",
     "output_type": "stream",
     "text": [
      "Requirement already satisfied: torch==2.3.1 in /Users/ajborbz/.pyenv/versions/3.11.9/lib/python3.11/site-packages (2.3.1)\n",
      "Requirement already satisfied: filelock in /Users/ajborbz/.pyenv/versions/3.11.9/lib/python3.11/site-packages (from torch==2.3.1) (3.18.0)\n",
      "Requirement already satisfied: typing-extensions>=4.8.0 in /Users/ajborbz/.pyenv/versions/3.11.9/lib/python3.11/site-packages (from torch==2.3.1) (4.14.0)\n",
      "Requirement already satisfied: sympy in /Users/ajborbz/.pyenv/versions/3.11.9/lib/python3.11/site-packages (from torch==2.3.1) (1.14.0)\n",
      "Requirement already satisfied: networkx in /Users/ajborbz/.pyenv/versions/3.11.9/lib/python3.11/site-packages (from torch==2.3.1) (3.5)\n",
      "Requirement already satisfied: jinja2 in /Users/ajborbz/.pyenv/versions/3.11.9/lib/python3.11/site-packages (from torch==2.3.1) (3.1.6)\n",
      "Requirement already satisfied: fsspec in /Users/ajborbz/.local/lib/python3.11/site-packages (from torch==2.3.1) (2024.5.0)\n",
      "Requirement already satisfied: MarkupSafe>=2.0 in /Users/ajborbz/.pyenv/versions/3.11.9/lib/python3.11/site-packages (from jinja2->torch==2.3.1) (3.0.2)\n",
      "Requirement already satisfied: mpmath<1.4,>=1.1.0 in /Users/ajborbz/.pyenv/versions/3.11.9/lib/python3.11/site-packages (from sympy->torch==2.3.1) (1.3.0)\n",
      "Collecting trl==0.11.4\n",
      "  Downloading trl-0.11.4-py3-none-any.whl.metadata (12 kB)\n",
      "Requirement already satisfied: torch>=1.4.0 in /Users/ajborbz/.pyenv/versions/3.11.9/lib/python3.11/site-packages (from trl==0.11.4) (2.3.1)\n",
      "Requirement already satisfied: transformers>=4.40.0 in /Users/ajborbz/.pyenv/versions/3.11.9/lib/python3.11/site-packages (from trl==0.11.4) (4.53.3)\n",
      "Requirement already satisfied: accelerate in /Users/ajborbz/.local/lib/python3.11/site-packages (from trl==0.11.4) (1.8.1)\n",
      "Requirement already satisfied: datasets in /Users/ajborbz/.local/lib/python3.11/site-packages (from trl==0.11.4) (3.2.0)\n",
      "Requirement already satisfied: tyro>=0.5.11 in /Users/ajborbz/.local/lib/python3.11/site-packages (from trl==0.11.4) (0.9.26)\n",
      "Requirement already satisfied: numpy>=1.18.2 in /Users/ajborbz/.pyenv/versions/3.11.9/lib/python3.11/site-packages (from trl==0.11.4) (1.24.4)\n",
      "Requirement already satisfied: filelock in /Users/ajborbz/.pyenv/versions/3.11.9/lib/python3.11/site-packages (from torch>=1.4.0->trl==0.11.4) (3.18.0)\n",
      "Requirement already satisfied: typing-extensions>=4.8.0 in /Users/ajborbz/.pyenv/versions/3.11.9/lib/python3.11/site-packages (from torch>=1.4.0->trl==0.11.4) (4.14.0)\n",
      "Requirement already satisfied: sympy in /Users/ajborbz/.pyenv/versions/3.11.9/lib/python3.11/site-packages (from torch>=1.4.0->trl==0.11.4) (1.14.0)\n",
      "Requirement already satisfied: networkx in /Users/ajborbz/.pyenv/versions/3.11.9/lib/python3.11/site-packages (from torch>=1.4.0->trl==0.11.4) (3.5)\n",
      "Requirement already satisfied: jinja2 in /Users/ajborbz/.pyenv/versions/3.11.9/lib/python3.11/site-packages (from torch>=1.4.0->trl==0.11.4) (3.1.6)\n",
      "Requirement already satisfied: fsspec in /Users/ajborbz/.local/lib/python3.11/site-packages (from torch>=1.4.0->trl==0.11.4) (2024.5.0)\n",
      "Requirement already satisfied: huggingface-hub<1.0,>=0.30.0 in /Users/ajborbz/.pyenv/versions/3.11.9/lib/python3.11/site-packages (from transformers>=4.40.0->trl==0.11.4) (0.33.4)\n",
      "Requirement already satisfied: packaging>=20.0 in /Users/ajborbz/.pyenv/versions/3.11.9/lib/python3.11/site-packages (from transformers>=4.40.0->trl==0.11.4) (25.0)\n",
      "Requirement already satisfied: pyyaml>=5.1 in /Users/ajborbz/.local/lib/python3.11/site-packages (from transformers>=4.40.0->trl==0.11.4) (6.0.2)\n",
      "Requirement already satisfied: regex!=2019.12.17 in /Users/ajborbz/.local/lib/python3.11/site-packages (from transformers>=4.40.0->trl==0.11.4) (2024.11.6)\n",
      "Requirement already satisfied: requests in /Users/ajborbz/.local/lib/python3.11/site-packages (from transformers>=4.40.0->trl==0.11.4) (2.32.4)\n",
      "Requirement already satisfied: tokenizers<0.22,>=0.21 in /Users/ajborbz/.pyenv/versions/3.11.9/lib/python3.11/site-packages (from transformers>=4.40.0->trl==0.11.4) (0.21.2)\n",
      "Requirement already satisfied: safetensors>=0.4.3 in /Users/ajborbz/.local/lib/python3.11/site-packages (from transformers>=4.40.0->trl==0.11.4) (0.5.3)\n",
      "Requirement already satisfied: tqdm>=4.27 in /Users/ajborbz/.local/lib/python3.11/site-packages (from transformers>=4.40.0->trl==0.11.4) (4.66.4)\n",
      "Requirement already satisfied: hf-xet<2.0.0,>=1.1.2 in /Users/ajborbz/.local/lib/python3.11/site-packages (from huggingface-hub<1.0,>=0.30.0->transformers>=4.40.0->trl==0.11.4) (1.1.5)\n",
      "Requirement already satisfied: docstring-parser>=0.15 in /Users/ajborbz/.local/lib/python3.11/site-packages (from tyro>=0.5.11->trl==0.11.4) (0.16)\n",
      "Requirement already satisfied: rich>=11.1.0 in /Users/ajborbz/.local/lib/python3.11/site-packages (from tyro>=0.5.11->trl==0.11.4) (14.0.0)\n",
      "Requirement already satisfied: shtab>=1.5.6 in /Users/ajborbz/.local/lib/python3.11/site-packages (from tyro>=0.5.11->trl==0.11.4) (1.7.2)\n",
      "Requirement already satisfied: typeguard>=4.0.0 in /Users/ajborbz/.local/lib/python3.11/site-packages (from tyro>=0.5.11->trl==0.11.4) (4.4.4)\n",
      "Requirement already satisfied: markdown-it-py>=2.2.0 in /Users/ajborbz/.local/lib/python3.11/site-packages (from rich>=11.1.0->tyro>=0.5.11->trl==0.11.4) (3.0.0)\n",
      "Requirement already satisfied: pygments<3.0.0,>=2.13.0 in /Users/ajborbz/.pyenv/versions/3.11.9/lib/python3.11/site-packages (from rich>=11.1.0->tyro>=0.5.11->trl==0.11.4) (2.19.2)\n",
      "Requirement already satisfied: mdurl~=0.1 in /Users/ajborbz/.local/lib/python3.11/site-packages (from markdown-it-py>=2.2.0->rich>=11.1.0->tyro>=0.5.11->trl==0.11.4) (0.1.2)\n",
      "Requirement already satisfied: psutil in /Users/ajborbz/.pyenv/versions/3.11.9/lib/python3.11/site-packages (from accelerate->trl==0.11.4) (7.0.0)\n",
      "Requirement already satisfied: pyarrow>=15.0.0 in /Users/ajborbz/.local/lib/python3.11/site-packages (from datasets->trl==0.11.4) (20.0.0)\n",
      "Requirement already satisfied: dill<0.3.9,>=0.3.0 in /Users/ajborbz/.local/lib/python3.11/site-packages (from datasets->trl==0.11.4) (0.3.8)\n",
      "Requirement already satisfied: pandas in /Users/ajborbz/.local/lib/python3.11/site-packages (from datasets->trl==0.11.4) (2.2.2)\n",
      "Requirement already satisfied: xxhash in /Users/ajborbz/.local/lib/python3.11/site-packages (from datasets->trl==0.11.4) (3.5.0)\n",
      "Requirement already satisfied: multiprocess<0.70.17 in /Users/ajborbz/.local/lib/python3.11/site-packages (from datasets->trl==0.11.4) (0.70.16)\n",
      "Requirement already satisfied: aiohttp in /Users/ajborbz/.local/lib/python3.11/site-packages (from datasets->trl==0.11.4) (3.12.14)\n",
      "Requirement already satisfied: aiohappyeyeballs>=2.5.0 in /Users/ajborbz/.local/lib/python3.11/site-packages (from aiohttp->datasets->trl==0.11.4) (2.6.1)\n",
      "Requirement already satisfied: aiosignal>=1.4.0 in /Users/ajborbz/.local/lib/python3.11/site-packages (from aiohttp->datasets->trl==0.11.4) (1.4.0)\n",
      "Requirement already satisfied: attrs>=17.3.0 in /Users/ajborbz/.local/lib/python3.11/site-packages (from aiohttp->datasets->trl==0.11.4) (25.3.0)\n",
      "Requirement already satisfied: frozenlist>=1.1.1 in /Users/ajborbz/.local/lib/python3.11/site-packages (from aiohttp->datasets->trl==0.11.4) (1.7.0)\n",
      "Requirement already satisfied: multidict<7.0,>=4.5 in /Users/ajborbz/.local/lib/python3.11/site-packages (from aiohttp->datasets->trl==0.11.4) (6.6.3)\n",
      "Requirement already satisfied: propcache>=0.2.0 in /Users/ajborbz/.local/lib/python3.11/site-packages (from aiohttp->datasets->trl==0.11.4) (0.3.2)\n",
      "Requirement already satisfied: yarl<2.0,>=1.17.0 in /Users/ajborbz/.local/lib/python3.11/site-packages (from aiohttp->datasets->trl==0.11.4) (1.20.1)\n",
      "Requirement already satisfied: idna>=2.0 in /Users/ajborbz/.local/lib/python3.11/site-packages (from yarl<2.0,>=1.17.0->aiohttp->datasets->trl==0.11.4) (3.10)\n",
      "Requirement already satisfied: charset_normalizer<4,>=2 in /Users/ajborbz/.local/lib/python3.11/site-packages (from requests->transformers>=4.40.0->trl==0.11.4) (3.4.2)\n",
      "Requirement already satisfied: urllib3<3,>=1.21.1 in /Users/ajborbz/.local/lib/python3.11/site-packages (from requests->transformers>=4.40.0->trl==0.11.4) (2.5.0)\n",
      "Requirement already satisfied: certifi>=2017.4.17 in /Users/ajborbz/.local/lib/python3.11/site-packages (from requests->transformers>=4.40.0->trl==0.11.4) (2025.7.14)\n",
      "Requirement already satisfied: MarkupSafe>=2.0 in /Users/ajborbz/.pyenv/versions/3.11.9/lib/python3.11/site-packages (from jinja2->torch>=1.4.0->trl==0.11.4) (3.0.2)\n",
      "Requirement already satisfied: python-dateutil>=2.8.2 in /Users/ajborbz/.pyenv/versions/3.11.9/lib/python3.11/site-packages (from pandas->datasets->trl==0.11.4) (2.9.0.post0)\n",
      "Requirement already satisfied: pytz>=2020.1 in /Users/ajborbz/.local/lib/python3.11/site-packages (from pandas->datasets->trl==0.11.4) (2025.2)\n",
      "Requirement already satisfied: tzdata>=2022.7 in /Users/ajborbz/.local/lib/python3.11/site-packages (from pandas->datasets->trl==0.11.4) (2025.2)\n",
      "Requirement already satisfied: six>=1.5 in /Users/ajborbz/.pyenv/versions/3.11.9/lib/python3.11/site-packages (from python-dateutil>=2.8.2->pandas->datasets->trl==0.11.4) (1.17.0)\n",
      "Requirement already satisfied: mpmath<1.4,>=1.1.0 in /Users/ajborbz/.pyenv/versions/3.11.9/lib/python3.11/site-packages (from sympy->torch>=1.4.0->trl==0.11.4) (1.3.0)\n",
      "Downloading trl-0.11.4-py3-none-any.whl (316 kB)\n",
      "Installing collected packages: trl\n",
      "  Attempting uninstall: trl\n",
      "    Found existing installation: trl 0.11.0\n",
      "    Uninstalling trl-0.11.0:\n",
      "      Successfully uninstalled trl-0.11.0\n",
      "Successfully installed trl-0.11.4\n",
      "Requirement already satisfied: peft==0.14.0 in /Users/ajborbz/.local/lib/python3.11/site-packages (0.14.0)\n",
      "Requirement already satisfied: numpy>=1.17 in /Users/ajborbz/.pyenv/versions/3.11.9/lib/python3.11/site-packages (from peft==0.14.0) (1.24.4)\n",
      "Requirement already satisfied: packaging>=20.0 in /Users/ajborbz/.pyenv/versions/3.11.9/lib/python3.11/site-packages (from peft==0.14.0) (25.0)\n",
      "Requirement already satisfied: psutil in /Users/ajborbz/.pyenv/versions/3.11.9/lib/python3.11/site-packages (from peft==0.14.0) (7.0.0)\n",
      "Requirement already satisfied: pyyaml in /Users/ajborbz/.local/lib/python3.11/site-packages (from peft==0.14.0) (6.0.2)\n",
      "Requirement already satisfied: torch>=1.13.0 in /Users/ajborbz/.pyenv/versions/3.11.9/lib/python3.11/site-packages (from peft==0.14.0) (2.3.1)\n",
      "Requirement already satisfied: transformers in /Users/ajborbz/.pyenv/versions/3.11.9/lib/python3.11/site-packages (from peft==0.14.0) (4.53.3)\n",
      "Requirement already satisfied: tqdm in /Users/ajborbz/.local/lib/python3.11/site-packages (from peft==0.14.0) (4.66.4)\n",
      "Requirement already satisfied: accelerate>=0.21.0 in /Users/ajborbz/.local/lib/python3.11/site-packages (from peft==0.14.0) (1.8.1)\n",
      "Requirement already satisfied: safetensors in /Users/ajborbz/.local/lib/python3.11/site-packages (from peft==0.14.0) (0.5.3)\n",
      "Requirement already satisfied: huggingface-hub>=0.25.0 in /Users/ajborbz/.pyenv/versions/3.11.9/lib/python3.11/site-packages (from peft==0.14.0) (0.33.4)\n",
      "Requirement already satisfied: filelock in /Users/ajborbz/.pyenv/versions/3.11.9/lib/python3.11/site-packages (from huggingface-hub>=0.25.0->peft==0.14.0) (3.18.0)\n",
      "Requirement already satisfied: fsspec>=2023.5.0 in /Users/ajborbz/.local/lib/python3.11/site-packages (from huggingface-hub>=0.25.0->peft==0.14.0) (2024.5.0)\n",
      "Requirement already satisfied: requests in /Users/ajborbz/.local/lib/python3.11/site-packages (from huggingface-hub>=0.25.0->peft==0.14.0) (2.32.4)\n",
      "Requirement already satisfied: typing-extensions>=3.7.4.3 in /Users/ajborbz/.pyenv/versions/3.11.9/lib/python3.11/site-packages (from huggingface-hub>=0.25.0->peft==0.14.0) (4.14.0)\n",
      "Requirement already satisfied: hf-xet<2.0.0,>=1.1.2 in /Users/ajborbz/.local/lib/python3.11/site-packages (from huggingface-hub>=0.25.0->peft==0.14.0) (1.1.5)\n",
      "Requirement already satisfied: sympy in /Users/ajborbz/.pyenv/versions/3.11.9/lib/python3.11/site-packages (from torch>=1.13.0->peft==0.14.0) (1.14.0)\n",
      "Requirement already satisfied: networkx in /Users/ajborbz/.pyenv/versions/3.11.9/lib/python3.11/site-packages (from torch>=1.13.0->peft==0.14.0) (3.5)\n",
      "Requirement already satisfied: jinja2 in /Users/ajborbz/.pyenv/versions/3.11.9/lib/python3.11/site-packages (from torch>=1.13.0->peft==0.14.0) (3.1.6)\n",
      "Requirement already satisfied: MarkupSafe>=2.0 in /Users/ajborbz/.pyenv/versions/3.11.9/lib/python3.11/site-packages (from jinja2->torch>=1.13.0->peft==0.14.0) (3.0.2)\n",
      "Requirement already satisfied: charset_normalizer<4,>=2 in /Users/ajborbz/.local/lib/python3.11/site-packages (from requests->huggingface-hub>=0.25.0->peft==0.14.0) (3.4.2)\n",
      "Requirement already satisfied: idna<4,>=2.5 in /Users/ajborbz/.local/lib/python3.11/site-packages (from requests->huggingface-hub>=0.25.0->peft==0.14.0) (3.10)\n",
      "Requirement already satisfied: urllib3<3,>=1.21.1 in /Users/ajborbz/.local/lib/python3.11/site-packages (from requests->huggingface-hub>=0.25.0->peft==0.14.0) (2.5.0)\n",
      "Requirement already satisfied: certifi>=2017.4.17 in /Users/ajborbz/.local/lib/python3.11/site-packages (from requests->huggingface-hub>=0.25.0->peft==0.14.0) (2025.7.14)\n",
      "Requirement already satisfied: mpmath<1.4,>=1.1.0 in /Users/ajborbz/.pyenv/versions/3.11.9/lib/python3.11/site-packages (from sympy->torch>=1.13.0->peft==0.14.0) (1.3.0)\n",
      "Requirement already satisfied: regex!=2019.12.17 in /Users/ajborbz/.local/lib/python3.11/site-packages (from transformers->peft==0.14.0) (2024.11.6)\n",
      "Requirement already satisfied: tokenizers<0.22,>=0.21 in /Users/ajborbz/.pyenv/versions/3.11.9/lib/python3.11/site-packages (from transformers->peft==0.14.0) (0.21.2)\n",
      "Collecting matplotlib==3.9.0\n",
      "  Downloading matplotlib-3.9.0-cp311-cp311-macosx_11_0_arm64.whl.metadata (11 kB)\n",
      "Requirement already satisfied: contourpy>=1.0.1 in /Users/ajborbz/.pyenv/versions/3.11.9/lib/python3.11/site-packages (from matplotlib==3.9.0) (1.3.2)\n",
      "Requirement already satisfied: cycler>=0.10 in /Users/ajborbz/.pyenv/versions/3.11.9/lib/python3.11/site-packages (from matplotlib==3.9.0) (0.12.1)\n",
      "Requirement already satisfied: fonttools>=4.22.0 in /Users/ajborbz/.pyenv/versions/3.11.9/lib/python3.11/site-packages (from matplotlib==3.9.0) (4.58.4)\n",
      "Requirement already satisfied: kiwisolver>=1.3.1 in /Users/ajborbz/.pyenv/versions/3.11.9/lib/python3.11/site-packages (from matplotlib==3.9.0) (1.4.8)\n",
      "Requirement already satisfied: numpy>=1.23 in /Users/ajborbz/.pyenv/versions/3.11.9/lib/python3.11/site-packages (from matplotlib==3.9.0) (1.24.4)\n",
      "Requirement already satisfied: packaging>=20.0 in /Users/ajborbz/.pyenv/versions/3.11.9/lib/python3.11/site-packages (from matplotlib==3.9.0) (25.0)\n",
      "Requirement already satisfied: pillow>=8 in /Users/ajborbz/.pyenv/versions/3.11.9/lib/python3.11/site-packages (from matplotlib==3.9.0) (11.3.0)\n",
      "Requirement already satisfied: pyparsing>=2.3.1 in /Users/ajborbz/.pyenv/versions/3.11.9/lib/python3.11/site-packages (from matplotlib==3.9.0) (3.2.3)\n",
      "Requirement already satisfied: python-dateutil>=2.7 in /Users/ajborbz/.pyenv/versions/3.11.9/lib/python3.11/site-packages (from matplotlib==3.9.0) (2.9.0.post0)\n",
      "Requirement already satisfied: six>=1.5 in /Users/ajborbz/.pyenv/versions/3.11.9/lib/python3.11/site-packages (from python-dateutil>=2.7->matplotlib==3.9.0) (1.17.0)\n",
      "Downloading matplotlib-3.9.0-cp311-cp311-macosx_11_0_arm64.whl (7.8 MB)\n",
      "\u001b[2K   \u001b[90m━━━━━━━━━━━━━━━━━━━━━━━━━━━━━━━━━━━━━━━━\u001b[0m \u001b[32m7.8/7.8 MB\u001b[0m \u001b[31m7.2 MB/s\u001b[0m eta \u001b[36m0:00:00\u001b[0ma \u001b[36m0:00:01\u001b[0m\n",
      "\u001b[?25hInstalling collected packages: matplotlib\n",
      "  Attempting uninstall: matplotlib\n",
      "    Found existing installation: matplotlib 3.10.0\n",
      "    Uninstalling matplotlib-3.10.0:\n",
      "      Successfully uninstalled matplotlib-3.10.0\n",
      "Successfully installed matplotlib-3.8.0\n",
      "Requirement already satisfied: pandas in /Users/ajborbz/.local/lib/python3.11/site-packages (2.2.2)\n",
      "Requirement already satisfied: numpy>=1.23.2 in /Users/ajborbz/.pyenv/versions/3.11.9/lib/python3.11/site-packages (from pandas) (1.24.4)\n",
      "Requirement already satisfied: python-dateutil>=2.8.2 in /Users/ajborbz/.pyenv/versions/3.11.9/lib/python3.11/site-packages (from pandas) (2.9.0.post0)\n",
      "Requirement already satisfied: pytz>=2020.1 in /Users/ajborbz/.local/lib/python3.11/site-packages (from pandas) (2025.2)\n",
      "Requirement already satisfied: tzdata>=2022.7 in /Users/ajborbz/.local/lib/python3.11/site-packages (from pandas) (2025.2)\n",
      "Requirement already satisfied: six>=1.5 in /Users/ajborbz/.pyenv/versions/3.11.9/lib/python3.11/site-packages (from python-dateutil>=2.8.2->pandas) (1.17.0)\n",
      "Collecting numpy==1.26.0\n",
      "  Using cached numpy-1.26.0-cp311-cp311-macosx_11_0_arm64.whl.metadata (99 kB)\n",
      "Using cached numpy-1.26.0-cp311-cp311-macosx_11_0_arm64.whl (14.0 MB)\n",
      "Installing collected packages: numpy\n",
      "  Attempting uninstall: numpy\n",
      "    Found existing installation: numpy 1.24.4\n",
      "    Uninstalling numpy-1.24.4:\n",
      "      Successfully uninstalled numpy-1.24.4\n",
      "Successfully installed numpy-1.26.0\n",
      "Requirement already satisfied: datasets==3.2.0 in /Users/ajborbz/.local/lib/python3.11/site-packages (3.2.0)\n",
      "Requirement already satisfied: filelock in /Users/ajborbz/.pyenv/versions/3.11.9/lib/python3.11/site-packages (from datasets==3.2.0) (3.18.0)\n",
      "Requirement already satisfied: numpy>=1.17 in /Users/ajborbz/.pyenv/versions/3.11.9/lib/python3.11/site-packages (from datasets==3.2.0) (1.26.0)\n",
      "Requirement already satisfied: pyarrow>=15.0.0 in /Users/ajborbz/.local/lib/python3.11/site-packages (from datasets==3.2.0) (20.0.0)\n",
      "Requirement already satisfied: dill<0.3.9,>=0.3.0 in /Users/ajborbz/.local/lib/python3.11/site-packages (from datasets==3.2.0) (0.3.8)\n",
      "Requirement already satisfied: pandas in /Users/ajborbz/.local/lib/python3.11/site-packages (from datasets==3.2.0) (2.2.2)\n",
      "Requirement already satisfied: requests>=2.32.2 in /Users/ajborbz/.local/lib/python3.11/site-packages (from datasets==3.2.0) (2.32.4)\n",
      "Requirement already satisfied: tqdm>=4.66.3 in /Users/ajborbz/.local/lib/python3.11/site-packages (from datasets==3.2.0) (4.66.4)\n",
      "Requirement already satisfied: xxhash in /Users/ajborbz/.local/lib/python3.11/site-packages (from datasets==3.2.0) (3.5.0)\n",
      "Requirement already satisfied: multiprocess<0.70.17 in /Users/ajborbz/.local/lib/python3.11/site-packages (from datasets==3.2.0) (0.70.16)\n",
      "Requirement already satisfied: fsspec<=2024.9.0,>=2023.1.0 in /Users/ajborbz/.local/lib/python3.11/site-packages (from fsspec[http]<=2024.9.0,>=2023.1.0->datasets==3.2.0) (2024.5.0)\n",
      "Requirement already satisfied: aiohttp in /Users/ajborbz/.local/lib/python3.11/site-packages (from datasets==3.2.0) (3.12.14)\n",
      "Requirement already satisfied: huggingface-hub>=0.23.0 in /Users/ajborbz/.pyenv/versions/3.11.9/lib/python3.11/site-packages (from datasets==3.2.0) (0.33.4)\n",
      "Requirement already satisfied: packaging in /Users/ajborbz/.pyenv/versions/3.11.9/lib/python3.11/site-packages (from datasets==3.2.0) (25.0)\n",
      "Requirement already satisfied: pyyaml>=5.1 in /Users/ajborbz/.local/lib/python3.11/site-packages (from datasets==3.2.0) (6.0.2)\n",
      "Requirement already satisfied: aiohappyeyeballs>=2.5.0 in /Users/ajborbz/.local/lib/python3.11/site-packages (from aiohttp->datasets==3.2.0) (2.6.1)\n",
      "Requirement already satisfied: aiosignal>=1.4.0 in /Users/ajborbz/.local/lib/python3.11/site-packages (from aiohttp->datasets==3.2.0) (1.4.0)\n",
      "Requirement already satisfied: attrs>=17.3.0 in /Users/ajborbz/.local/lib/python3.11/site-packages (from aiohttp->datasets==3.2.0) (25.3.0)\n",
      "Requirement already satisfied: frozenlist>=1.1.1 in /Users/ajborbz/.local/lib/python3.11/site-packages (from aiohttp->datasets==3.2.0) (1.7.0)\n",
      "Requirement already satisfied: multidict<7.0,>=4.5 in /Users/ajborbz/.local/lib/python3.11/site-packages (from aiohttp->datasets==3.2.0) (6.6.3)\n",
      "Requirement already satisfied: propcache>=0.2.0 in /Users/ajborbz/.local/lib/python3.11/site-packages (from aiohttp->datasets==3.2.0) (0.3.2)\n",
      "Requirement already satisfied: yarl<2.0,>=1.17.0 in /Users/ajborbz/.local/lib/python3.11/site-packages (from aiohttp->datasets==3.2.0) (1.20.1)\n",
      "Requirement already satisfied: idna>=2.0 in /Users/ajborbz/.local/lib/python3.11/site-packages (from yarl<2.0,>=1.17.0->aiohttp->datasets==3.2.0) (3.10)\n",
      "Requirement already satisfied: typing-extensions>=4.2 in /Users/ajborbz/.pyenv/versions/3.11.9/lib/python3.11/site-packages (from aiosignal>=1.4.0->aiohttp->datasets==3.2.0) (4.14.0)\n",
      "Requirement already satisfied: hf-xet<2.0.0,>=1.1.2 in /Users/ajborbz/.local/lib/python3.11/site-packages (from huggingface-hub>=0.23.0->datasets==3.2.0) (1.1.5)\n",
      "Requirement already satisfied: charset_normalizer<4,>=2 in /Users/ajborbz/.local/lib/python3.11/site-packages (from requests>=2.32.2->datasets==3.2.0) (3.4.2)\n",
      "Requirement already satisfied: urllib3<3,>=1.21.1 in /Users/ajborbz/.local/lib/python3.11/site-packages (from requests>=2.32.2->datasets==3.2.0) (2.5.0)\n",
      "Requirement already satisfied: certifi>=2017.4.17 in /Users/ajborbz/.local/lib/python3.11/site-packages (from requests>=2.32.2->datasets==3.2.0) (2025.7.14)\n",
      "Requirement already satisfied: python-dateutil>=2.8.2 in /Users/ajborbz/.pyenv/versions/3.11.9/lib/python3.11/site-packages (from pandas->datasets==3.2.0) (2.9.0.post0)\n",
      "Requirement already satisfied: pytz>=2020.1 in /Users/ajborbz/.local/lib/python3.11/site-packages (from pandas->datasets==3.2.0) (2025.2)\n",
      "Requirement already satisfied: tzdata>=2022.7 in /Users/ajborbz/.local/lib/python3.11/site-packages (from pandas->datasets==3.2.0) (2025.2)\n",
      "Requirement already satisfied: six>=1.5 in /Users/ajborbz/.pyenv/versions/3.11.9/lib/python3.11/site-packages (from python-dateutil>=2.8.2->pandas->datasets==3.2.0) (1.17.0)\n"
     ]
    }
   ],
   "source": [
    "!pip install torch==2.3.1\n",
    "!pip install --user trl==0.11.4 # for optimization training\n",
    "!pip install peft==0.14.0 # for creating LoRA architecture\n",
    "!pip install matplotlib==3.9.0 \n",
    "!pip install pandas\n",
    "!pip install numpy==1.26.0\n",
    "!pip install --user datasets==3.2.0"
   ]
  },
  {
   "cell_type": "code",
   "execution_count": 2,
   "id": "1f792f3b",
   "metadata": {},
   "outputs": [
    {
     "name": "stdout",
     "output_type": "stream",
     "text": [
      "Collecting transformers==4.45.2\n",
      "  Downloading transformers-4.45.2-py3-none-any.whl.metadata (44 kB)\n",
      "Requirement already satisfied: filelock in /Users/ajborbz/.pyenv/versions/3.11.9/lib/python3.11/site-packages (from transformers==4.45.2) (3.18.0)\n",
      "Requirement already satisfied: huggingface-hub<1.0,>=0.23.2 in /Users/ajborbz/.pyenv/versions/3.11.9/lib/python3.11/site-packages (from transformers==4.45.2) (0.33.4)\n",
      "Requirement already satisfied: numpy>=1.17 in /Users/ajborbz/.pyenv/versions/3.11.9/lib/python3.11/site-packages (from transformers==4.45.2) (1.26.0)\n",
      "Requirement already satisfied: packaging>=20.0 in /Users/ajborbz/.pyenv/versions/3.11.9/lib/python3.11/site-packages (from transformers==4.45.2) (25.0)\n",
      "Requirement already satisfied: pyyaml>=5.1 in /Users/ajborbz/.local/lib/python3.11/site-packages (from transformers==4.45.2) (6.0.2)\n",
      "Requirement already satisfied: regex!=2019.12.17 in /Users/ajborbz/.local/lib/python3.11/site-packages (from transformers==4.45.2) (2024.11.6)\n",
      "Requirement already satisfied: requests in /Users/ajborbz/.local/lib/python3.11/site-packages (from transformers==4.45.2) (2.32.4)\n",
      "Requirement already satisfied: safetensors>=0.4.1 in /Users/ajborbz/.local/lib/python3.11/site-packages (from transformers==4.45.2) (0.5.3)\n",
      "Collecting tokenizers<0.21,>=0.20 (from transformers==4.45.2)\n",
      "  Downloading tokenizers-0.20.3-cp311-cp311-macosx_11_0_arm64.whl.metadata (6.7 kB)\n",
      "Requirement already satisfied: tqdm>=4.27 in /Users/ajborbz/.local/lib/python3.11/site-packages (from transformers==4.45.2) (4.66.4)\n",
      "Requirement already satisfied: fsspec>=2023.5.0 in /Users/ajborbz/.local/lib/python3.11/site-packages (from huggingface-hub<1.0,>=0.23.2->transformers==4.45.2) (2024.5.0)\n",
      "Requirement already satisfied: typing-extensions>=3.7.4.3 in /Users/ajborbz/.pyenv/versions/3.11.9/lib/python3.11/site-packages (from huggingface-hub<1.0,>=0.23.2->transformers==4.45.2) (4.14.0)\n",
      "Requirement already satisfied: hf-xet<2.0.0,>=1.1.2 in /Users/ajborbz/.local/lib/python3.11/site-packages (from huggingface-hub<1.0,>=0.23.2->transformers==4.45.2) (1.1.5)\n",
      "Requirement already satisfied: charset_normalizer<4,>=2 in /Users/ajborbz/.local/lib/python3.11/site-packages (from requests->transformers==4.45.2) (3.4.2)\n",
      "Requirement already satisfied: idna<4,>=2.5 in /Users/ajborbz/.local/lib/python3.11/site-packages (from requests->transformers==4.45.2) (3.10)\n",
      "Requirement already satisfied: urllib3<3,>=1.21.1 in /Users/ajborbz/.local/lib/python3.11/site-packages (from requests->transformers==4.45.2) (2.5.0)\n",
      "Requirement already satisfied: certifi>=2017.4.17 in /Users/ajborbz/.local/lib/python3.11/site-packages (from requests->transformers==4.45.2) (2025.7.14)\n",
      "Downloading transformers-4.45.2-py3-none-any.whl (9.9 MB)\n",
      "\u001b[2K   \u001b[90m━━━━━━━━━━━━━━━━━━━━━━━━━━━━━━━━━━━━━━━━\u001b[0m \u001b[32m9.9/9.9 MB\u001b[0m \u001b[31m11.0 MB/s\u001b[0m eta \u001b[36m0:00:00\u001b[0ma \u001b[36m0:00:01\u001b[0m\n",
      "\u001b[?25hDownloading tokenizers-0.20.3-cp311-cp311-macosx_11_0_arm64.whl (2.6 MB)\n",
      "\u001b[2K   \u001b[90m━━━━━━━━━━━━━━━━━━━━━━━━━━━━━━━━━━━━━━━━\u001b[0m \u001b[32m2.6/2.6 MB\u001b[0m \u001b[31m10.9 MB/s\u001b[0m eta \u001b[36m0:00:00\u001b[0ma \u001b[36m0:00:01\u001b[0m\n",
      "\u001b[?25hInstalling collected packages: tokenizers, transformers\n",
      "\u001b[2K  Attempting uninstall: tokenizers\n",
      "\u001b[2K    Found existing installation: tokenizers 0.21.2\n",
      "\u001b[2K    Uninstalling tokenizers-0.21.2:\n",
      "\u001b[2K      Successfully uninstalled tokenizers-0.21.2\n",
      "\u001b[2K  Attempting uninstall: transformers\n",
      "\u001b[2K    Found existing installation: transformers 4.53.3\n",
      "\u001b[2K    Uninstalling transformers-4.53.3:\n",
      "\u001b[2K      Successfully uninstalled transformers-4.53.3━━━━━━━━━━━━━━━━\u001b[0m \u001b[32m1/2\u001b[0m [transformers]\n",
      "\u001b[2K   \u001b[90m━━━━━━━━━━━━━━━━━━━━━━━━━━━━━━━━━━━━━━━━\u001b[0m \u001b[32m2/2\u001b[0m [transformers][0m [transformers]\n",
      "\u001b[1A\u001b[2KSuccessfully installed tokenizers-0.20.3 transformers-4.45.2\n"
     ]
    }
   ],
   "source": [
    "!pip install transformers==4.45.2"
   ]
  },
  {
   "cell_type": "code",
   "execution_count": 3,
   "id": "64ac0d2a",
   "metadata": {},
   "outputs": [
    {
     "name": "stderr",
     "output_type": "stream",
     "text": [
      "/Users/ajborbz/.local/lib/python3.11/site-packages/tqdm/auto.py:21: TqdmWarning: IProgress not found. Please update jupyter and ipywidgets. See https://ipywidgets.readthedocs.io/en/stable/user_install.html\n",
      "  from .autonotebook import tqdm as notebook_tqdm\n"
     ]
    }
   ],
   "source": [
    "##imports\n",
    "import multiprocessing\n",
    "import os\n",
    "import requests\n",
    "import tarfile\n",
    "import pandas as pd\n",
    "import matplotlib.pyplot as plt\n",
    "\n",
    "import torch\n",
    "from datasets import load_dataset\n",
    "\n",
    "from peft import LoraConfig\n",
    "from transformers import AutoModelForCausalLM, AutoTokenizer,TrainingArguments, GPT2Tokenizer, set_seed, GenerationConfig\n",
    "from trl import DPOConfig, DPOTrainer\n"
   ]
  },
  {
   "cell_type": "markdown",
   "id": "8443d9ad",
   "metadata": {},
   "source": [
    "### Create and configure the model tokenizer"
   ]
  },
  {
   "cell_type": "code",
   "execution_count": 4,
   "id": "68ca4ac8",
   "metadata": {},
   "outputs": [],
   "source": [
    "\n",
    "# Load the GPT-2 model\n",
    "model = AutoModelForCausalLM.from_pretrained(\"gpt2\")\n",
    "\n",
    "# Load a reference model \n",
    "model_ref = AutoModelForCausalLM.from_pretrained(\"gpt2\")\n",
    "\n",
    "# Load the GPT-2 tokenizer\n",
    "tokenizer = GPT2Tokenizer.from_pretrained(\"gpt2\")\n",
    "\n",
    "# Set the pad token to the end-of-sequence token\n",
    "tokenizer.pad_token = tokenizer.eos_token\n",
    "# Set the padding side to \"right\" to fix the overflow issue with FP16 training\n",
    "tokenizer.padding_side = \"right\"\n",
    "\n",
    "# Disable the use of the cache during the model's forward pass\n",
    "model.config.use_cache = False"
   ]
  },
  {
   "cell_type": "markdown",
   "id": "6f58694c",
   "metadata": {},
   "source": [
    "### check the model"
   ]
  },
  {
   "cell_type": "code",
   "execution_count": 5,
   "id": "e66566bb",
   "metadata": {},
   "outputs": [
    {
     "data": {
      "text/plain": [
       "GPT2LMHeadModel(\n",
       "  (transformer): GPT2Model(\n",
       "    (wte): Embedding(50257, 768)\n",
       "    (wpe): Embedding(1024, 768)\n",
       "    (drop): Dropout(p=0.1, inplace=False)\n",
       "    (h): ModuleList(\n",
       "      (0-11): 12 x GPT2Block(\n",
       "        (ln_1): LayerNorm((768,), eps=1e-05, elementwise_affine=True)\n",
       "        (attn): GPT2SdpaAttention(\n",
       "          (c_attn): Conv1D(nf=2304, nx=768)\n",
       "          (c_proj): Conv1D(nf=768, nx=768)\n",
       "          (attn_dropout): Dropout(p=0.1, inplace=False)\n",
       "          (resid_dropout): Dropout(p=0.1, inplace=False)\n",
       "        )\n",
       "        (ln_2): LayerNorm((768,), eps=1e-05, elementwise_affine=True)\n",
       "        (mlp): GPT2MLP(\n",
       "          (c_fc): Conv1D(nf=3072, nx=768)\n",
       "          (c_proj): Conv1D(nf=768, nx=3072)\n",
       "          (act): NewGELUActivation()\n",
       "          (dropout): Dropout(p=0.1, inplace=False)\n",
       "        )\n",
       "      )\n",
       "    )\n",
       "    (ln_f): LayerNorm((768,), eps=1e-05, elementwise_affine=True)\n",
       "  )\n",
       "  (lm_head): Linear(in_features=768, out_features=50257, bias=False)\n",
       ")"
      ]
     },
     "execution_count": 5,
     "metadata": {},
     "output_type": "execute_result"
    }
   ],
   "source": [
    "model"
   ]
  },
  {
   "cell_type": "markdown",
   "id": "92ca3b80",
   "metadata": {},
   "source": [
    "### Pre-process the dataset"
   ]
  },
  {
   "cell_type": "code",
   "execution_count": 6,
   "id": "05f52b40",
   "metadata": {},
   "outputs": [
    {
     "name": "stderr",
     "output_type": "stream",
     "text": [
      "Generating train_prefs split: 100%|██████████| 61135/61135 [00:00<00:00, 293454.16 examples/s]\n",
      "Generating train_sft split: 100%|██████████| 61135/61135 [00:00<00:00, 445754.99 examples/s]\n",
      "Generating test_prefs split: 100%|██████████| 2000/2000 [00:00<00:00, 172846.95 examples/s]\n",
      "Generating test_sft split: 100%|██████████| 1000/1000 [00:00<00:00, 136200.81 examples/s]\n",
      "Generating train_gen split: 100%|██████████| 61135/61135 [00:00<00:00, 439320.74 examples/s]\n",
      "Generating test_gen split: 100%|██████████| 1000/1000 [00:00<00:00, 180470.03 examples/s]\n"
     ]
    }
   ],
   "source": [
    "# Load the dataset from the specified location\n",
    "ds = load_dataset(\"BarraHome/ultrafeedback_binarized\")"
   ]
  },
  {
   "cell_type": "code",
   "execution_count": 7,
   "id": "51772f11",
   "metadata": {},
   "outputs": [
    {
     "data": {
      "text/plain": [
       "dict_keys(['train_prefs', 'train_sft', 'test_prefs', 'test_sft', 'train_gen', 'test_gen'])"
      ]
     },
     "execution_count": 7,
     "metadata": {},
     "output_type": "execute_result"
    }
   ],
   "source": [
    "ds.keys()"
   ]
  },
  {
   "cell_type": "code",
   "execution_count": null,
   "id": "ab545014",
   "metadata": {},
   "outputs": [],
   "source": []
  }
 ],
 "metadata": {
  "kernelspec": {
   "display_name": "3.11.9",
   "language": "python",
   "name": "python3"
  },
  "language_info": {
   "codemirror_mode": {
    "name": "ipython",
    "version": 3
   },
   "file_extension": ".py",
   "mimetype": "text/x-python",
   "name": "python",
   "nbconvert_exporter": "python",
   "pygments_lexer": "ipython3",
   "version": "3.11.9"
  }
 },
 "nbformat": 4,
 "nbformat_minor": 5
}
