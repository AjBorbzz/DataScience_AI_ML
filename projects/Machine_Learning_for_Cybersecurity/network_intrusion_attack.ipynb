{
 "cells": [
  {
   "cell_type": "markdown",
   "id": "239913dd",
   "metadata": {},
   "source": [
    "### Network Intrusion Detection\n",
    "This project will be using the Network Intrusion Detection dataset fetched from Kaggle. The dataset consists of a wide variety of intrusion simulated in a military network environment."
   ]
  },
  {
   "cell_type": "markdown",
   "id": "f0d409ca",
   "metadata": {},
   "source": []
  },
  {
   "cell_type": "code",
   "execution_count": null,
   "id": "b8bf4396",
   "metadata": {},
   "outputs": [],
   "source": [
    "from pathlib import Path\n",
    "import pandas as pd\n",
    "\n",
    "datasets = Path() / \"Machine_Learning_for_Cybersecurity\" / \"datasets\""
   ]
  },
  {
   "cell_type": "code",
   "execution_count": null,
   "id": "2c421bcf",
   "metadata": {},
   "outputs": [
    {
     "data": {
      "text/plain": [
       "PosixPath('Machine_Learning_for_Cybersecurity/datasets')"
      ]
     },
     "execution_count": 2,
     "metadata": {},
     "output_type": "execute_result"
    }
   ],
   "source": [
    "training_data = datasets / \"Train_data.csv\"\n"
   ]
  },
  {
   "cell_type": "code",
   "execution_count": null,
   "id": "cb539c9e",
   "metadata": {},
   "outputs": [],
   "source": []
  }
 ],
 "metadata": {
  "kernelspec": {
   "display_name": "venv",
   "language": "python",
   "name": "python3"
  },
  "language_info": {
   "codemirror_mode": {
    "name": "ipython",
    "version": 3
   },
   "file_extension": ".py",
   "mimetype": "text/x-python",
   "name": "python",
   "nbconvert_exporter": "python",
   "pygments_lexer": "ipython3",
   "version": "3.13.2"
  }
 },
 "nbformat": 4,
 "nbformat_minor": 5
}
