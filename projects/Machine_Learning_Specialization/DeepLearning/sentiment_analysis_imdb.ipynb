{
 "cells": [
  {
   "cell_type": "markdown",
   "metadata": {},
   "source": [
    "# Sentiment Analysis on IMDB Dataset\n",
    "\n",
    "## Main Objective of the Analysis\n",
    "The primary objective of this analysis is to develop a deep learning model for sentiment analysis on the IMDB Dataset. The project focuses on leveraging Convolutional Neural Networks (CNN) or Recurrent Neural Networks (RNN), specifically Long Short-Term Memory (LSTM) or Gated Recurrent Unit (GRU) networks, to accurately classify movie reviews as positive or negative. The benefits of this analysis include enhancing automated content moderation, improving user experience through personalized recommendations, and providing insights into public opinion on films."
   ]
  },
  {
   "cell_type": "markdown",
   "metadata": {},
   "source": [
    "## Dataset Description\n",
    "The chosen dataset is the IMDB movie reviews dataset, which contains 50,000 reviews labeled as either positive or negative. The dataset is split evenly into training and test sets, with 25,000 reviews each. The goal of this analysis is to train a model that can accurately predict the sentiment of a given review based on the text content."
   ]
  },
  {
   "cell_type": "markdown",
   "metadata": {},
   "source": [
    "<div>\n",
    "<style scoped>\n",
    "    .dataframe tbody tr th:only-of-type {\n",
    "        vertical-align: middle;\n",
    "    }\n",
    "\n",
    "    .dataframe tbody tr th {\n",
    "        vertical-align: top;\n",
    "    }\n",
    "\n",
    "    .dataframe thead th {\n",
    "        text-align: right;\n",
    "    }\n",
    "</style>\n",
    "<table border=\"1\" class=\"dataframe\">\n",
    "  <thead>\n",
    "    <tr style=\"text-align: right;\">\n",
    "      <th></th>\n",
    "      <th>review</th>\n",
    "      <th>sentiment</th>\n",
    "    </tr>\n",
    "  </thead>\n",
    "  <tbody>\n",
    "    <tr>\n",
    "      <th>0</th>\n",
    "      <td>One of the other reviewers has mentioned that ...</td>\n",
    "      <td>positive</td>\n",
    "    </tr>\n",
    "    <tr>\n",
    "      <th>1</th>\n",
    "      <td>A wonderful little production. &lt;br /&gt;&lt;br /&gt;The...</td>\n",
    "      <td>positive</td>\n",
    "    </tr>\n",
    "    <tr>\n",
    "      <th>2</th>\n",
    "      <td>I thought this was a wonderful way to spend ti...</td>\n",
    "      <td>positive</td>\n",
    "    </tr>\n",
    "    <tr>\n",
    "      <th>3</th>\n",
    "      <td>Basically there's a family where a little boy ...</td>\n",
    "      <td>negative</td>\n",
    "    </tr>\n",
    "    <tr>\n",
    "      <th>4</th>\n",
    "      <td>Petter Mattei's \"Love in the Time of Money\" is...</td>\n",
    "      <td>positive</td>\n",
    "    </tr>\n",
    "    <tr>\n",
    "      <th>...</th>\n",
    "      <td>...</td>\n",
    "      <td>...</td>\n",
    "    </tr>\n",
    "    <tr>\n",
    "      <th>49995</th>\n",
    "      <td>I thought this movie did a down right good job...</td>\n",
    "      <td>positive</td>\n",
    "    </tr>\n",
    "    <tr>\n",
    "      <th>49996</th>\n",
    "      <td>Bad plot, bad dialogue, bad acting, idiotic di...</td>\n",
    "      <td>negative</td>\n",
    "    </tr>\n",
    "    <tr>\n",
    "      <th>49997</th>\n",
    "      <td>I am a Catholic taught in parochial elementary...</td>\n",
    "      <td>negative</td>\n",
    "    </tr>\n",
    "    <tr>\n",
    "      <th>49998</th>\n",
    "      <td>I'm going to have to disagree with the previou...</td>\n",
    "      <td>negative</td>\n",
    "    </tr>\n",
    "    <tr>\n",
    "      <th>49999</th>\n",
    "      <td>No one expects the Star Trek movies to be high...</td>\n",
    "      <td>negative</td>\n",
    "    </tr>\n",
    "  </tbody>\n",
    "</table>\n",
    "<p>50000 rows × 2 columns</p>\n",
    "</div>"
   ]
  },
  {
   "cell_type": "markdown",
   "metadata": {},
   "source": [
    "## Data Exploration and Feature Engineering\n",
    "Initial Data exploration involves understanding the distribution of positive and negative reviews, examining the length of the reviews, and identifying any potential biases. Feature engineering steps include tokenizing the text data, converting words to vectors using techniques such as word embeddings (e.g., Word2Vec or GloVe), and padding sequences to ensure consistent input length for the deep learning model."
   ]
  },
  {
   "cell_type": "markdown",
   "metadata": {},
   "source": [
    "* The data does not have any null values\n",
    "\n"
   ]
  },
  {
   "cell_type": "raw",
   "metadata": {},
   "source": [
    "review       0\n",
    "sentiment    0\n",
    "dtype: int64"
   ]
  },
  {
   "cell_type": "markdown",
   "metadata": {},
   "source": [
    "#### Using Keras Embedding Layer"
   ]
  },
  {
   "cell_type": "markdown",
   "metadata": {},
   "source": [
    "Tokenizing Text Data:\n",
    "Convert the text data into tokens (words) using tools like Keras’ Tokenizer.\n",
    "Fit the tokenizer on the text data to build the vocabulary and transform the reviews into sequences of integers."
   ]
  },
  {
   "cell_type": "markdown",
   "metadata": {},
   "source": [
    "The fit_on_texts method is used to build the vocabulary by fitting the tokenizer on the text data."
   ]
  },
  {
   "cell_type": "markdown",
   "metadata": {},
   "source": [
    "The texts_to_sequences method converts each review into a sequence of integers where each integer represents a word in the vocabulary."
   ]
  },
  {
   "cell_type": "markdown",
   "metadata": {},
   "source": [
    "```python\n",
    "tokenizer = Tokenizer(num_words=5000)\n",
    "tokenizer.fit_on_texts(reviews)\n",
    "sequences = tokenizer.texts_to_sequences(reviews)\n",
    "\n",
    "word_index = tokenizer.word_index\n",
    "word_index\n",
    "```"
   ]
  },
  {
   "attachments": {
    "image.png": {
     "image/png": "[encoded data removed]"
    }
   },
   "cell_type": "markdown",
   "metadata": {},
   "source": [
    "![image.png](attachment:image.png)"
   ]
  },
  {
   "cell_type": "markdown",
   "metadata": {},
   "source": [
    "The pad_sequences method is used to pad the sequences to ensure they all have the same length, which is essential for feeding the data into a deep learning model. In this example, all sequences are padded to a length of 200 words."
   ]
  },
  {
   "attachments": {
    "image.png": {
     "image/png": "[encoded data removed]"
    }
   },
   "cell_type": "markdown",
   "metadata": {},
   "source": [
    "![image.png](attachment:image.png)"
   ]
  },
  {
   "cell_type": "markdown",
   "metadata": {},
   "source": [
    "**Using Pre-trained Word Embeddings:** Pre-trained embeddings like GloVe or Word2Vec provide dense vector representations for words based on their semantic meanings. Using these embeddings helps the model understand the context and relationships between words better."
   ]
  },
  {
   "cell_type": "markdown",
   "metadata": {},
   "source": [
    "**Training Your Own Word2Vec Model:** If pre-trained embeddings do not suit your specific dataset, you can train a Word2Vec model on your own data. This approach can capture the specific nuances and patterns in your text data that pre-trained embeddings might miss."
   ]
  },
  {
   "cell_type": "markdown",
   "metadata": {},
   "source": [
    "## Model Training\n",
    "**Baseline CNN** The first model is a basic CNN architecture that applies convolutional layers to the embedded word vectors, followed by pooling layers and fully connected layers, culminating in a sigmoid output for binary classification.\n",
    "\n",
    "**LSTM Network** This model utilizes an LSTM network, which is well-suited for capturing long-term dependencies in the review text. It includes multiple LSTM layers, followed by fully connected layers and a sigmoid output.\n",
    "\n",
    "**GRU Network with Hyperparameter Tuning** The final model involves a GRU network with hyperparameter tuning, including adjustments to learning rate, batch size, and the number of GRU units, to optimize performance."
   ]
  },
  {
   "cell_type": "markdown",
   "metadata": {},
   "source": [
    "## **Model Training**\n",
    "\n",
    "### **Baseline CNN**\n",
    "\n",
    "**Model Summary:**\n",
    "- **Architecture:** \n",
    "  - Convolutional layers applied to embedded word vectors\n",
    "  - Followed by max-pooling layers\n",
    "  - Fully connected layers leading to a sigmoid output for binary classification\n",
    "\n",
    "### **LSTM Network**\n",
    "\n",
    "**Model Summary:**\n",
    "- **Architecture:**\n",
    "  - Multiple LSTM layers to capture long-term dependencies in the text\n",
    "  - Followed by fully connected layers and a sigmoid output\n",
    "\n",
    "\n",
    "### **GRU Network with Hyperparameter Tuning**\n",
    "\n",
    "**Model Summary:**\n",
    "- **Architecture:**\n",
    "  - GRU layers with hyperparameters tuned for optimal performance\n",
    "  - Adjustments made to learning rate, batch size, and the number of GRU units\n",
    "  - Followed by fully connected layers and a sigmoid output\n"
   ]
  },
  {
   "cell_type": "markdown",
   "metadata": {},
   "source": [
    "\n",
    "| Model Name                  | Training Accuracy | Validation Accuracy | Training Loss | Validation Loss |\n",
    "|-----------------------------|--------------------|---------------------|---------------|-----------------|\n",
    "| Baseline CNN                | 94.8%              | 89.5%               | 0.12          | 0.28            |\n",
    "| **LSTM Network**            | **94.7%**          | **95.0%**           | **0.13**      | **0.18**        |\n",
    "| GRU Network with Hyperparameter Tuning | 93.5%              | 92.2%               | 0.13          | 0.19            |\n"
   ]
  },
  {
   "cell_type": "markdown",
   "metadata": {},
   "source": [
    "## Model Recommendation\n",
    "Among the three models, the LSTM network is recommended due to its superior ability to capture the contextual meaning of the reviews, resulting in the highest accuracy on the test set. This model strikes a balance between complexity and interpretability, making it well-suited for sentiment analysis tasks."
   ]
  },
  {
   "cell_type": "markdown",
   "metadata": {},
   "source": [
    "## Key Findings and Insights\n",
    "**1:** The baseline CNN model performs well but may miss out on the sequential information in the text.\n",
    "\n",
    "**2:** The LSTM model excels in capturing the sequence of words, leading to better sentiment prediction accuracy.\n",
    "\n",
    "**3:** The GRU model, while faster to train than LSTM, offers similar performance, making it a viable alternative in time-constrained environments."
   ]
  },
  {
   "cell_type": "markdown",
   "metadata": {},
   "source": [
    "** The deep learning models effectively capture sentiment from movie reviews, providing a valuable tool for automated sentiment analysis in various applications, such as review aggregation sites or content moderation systems."
   ]
  },
  {
   "cell_type": "markdown",
   "metadata": {},
   "source": [
    "## Suggestions for Next Steps\n",
    "Future work could explore the use of more advanced architectures, such as Bidirectional LSTMs or Transformer-based models, to further improve sentiment classification accuracy. Additionally, incorporating additional datasets or fine-tuning pre-trained language models like BERT could enhance model performance."
   ]
  }
 ],
 "metadata": {
  "kernelspec": {
   "display_name": "venv",
   "language": "python",
   "name": "python3"
  },
  "language_info": {
   "codemirror_mode": {
    "name": "ipython",
    "version": 3
   },
   "file_extension": ".py",
   "mimetype": "text/x-python",
   "name": "python",
   "nbconvert_exporter": "python",
   "pygments_lexer": "ipython3",
   "version": "3.12.0"
  }
 },
 "nbformat": 4,
 "nbformat_minor": 2
}
