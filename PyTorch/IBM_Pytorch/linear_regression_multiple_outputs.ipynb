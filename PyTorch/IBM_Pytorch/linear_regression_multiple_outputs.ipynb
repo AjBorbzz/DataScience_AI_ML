{
 "cells": [
  {
   "cell_type": "markdown",
   "id": "145ea720",
   "metadata": {},
   "source": [
    "# Linear Regression Multiple Outputs"
   ]
  },
  {
   "cell_type": "code",
   "execution_count": 1,
   "id": "49f6bbda",
   "metadata": {},
   "outputs": [],
   "source": [
    "from torch import nn,optim\n",
    "import torch\n",
    "import numpy as np\n",
    "import matplotlib.pyplot as plt\n",
    "\n",
    "from mpl_toolkits.mplot3d import Axes3D\n",
    "from torch.utils.data import Dataset, DataLoader\n",
    "import warnings\n",
    "\n",
    "# Suppress all warnings\n",
    "warnings.filterwarnings(\"ignore\")"
   ]
  },
  {
   "cell_type": "code",
   "execution_count": 2,
   "id": "3a4b0e24",
   "metadata": {},
   "outputs": [
    {
     "data": {
      "text/plain": [
       "<torch._C.Generator at 0x11cb14ff0>"
      ]
     },
     "execution_count": 2,
     "metadata": {},
     "output_type": "execute_result"
    }
   ],
   "source": [
    "# Set the random seed to 1. \n",
    "\n",
    "torch.manual_seed(1)"
   ]
  },
  {
   "cell_type": "code",
   "execution_count": 3,
   "id": "b47d2abe",
   "metadata": {},
   "outputs": [],
   "source": [
    "# The function for plotting 2D\n",
    "\n",
    "def Plot_2D_Plane(model, dataset, n=0):\n",
    "    w1 = model.state_dict()['linear.weight'].numpy()[0][0]\n",
    "    w2 = model.state_dict()['linear.weight'].numpy()[0][1]\n",
    "    b = model.state_dict()['linear.bias'].numpy()\n",
    "\n",
    "    # Data\n",
    "    x1 = dataset.x[:, 0].view(-1, 1).numpy()\n",
    "    x2 = dataset.x[:, 1].view(-1, 1).numpy()\n",
    "    y = dataset.y.numpy()\n",
    "\n",
    "    # Make plane\n",
    "    X, Y = np.meshgrid(np.arange(x1.min(), x1.max(), 0.05), np.arange(x2.min(), x2.max(), 0.05))\n",
    "    yhat = w1 * X + w2 * Y + b\n",
    "\n",
    "    # Plotting\n",
    "    fig = plt.figure()\n",
    "    ax = fig.gca(projection='3d')\n",
    "\n",
    "    ax.plot(x1[:, 0], x2[:, 0], y[:, 0],'ro', label='y') # Scatter plot\n",
    "    \n",
    "    ax.plot_surface(X, Y, yhat) # Plane plot\n",
    "    \n",
    "    ax.set_xlabel('x1 ')\n",
    "    ax.set_ylabel('x2 ')\n",
    "    ax.set_zlabel('y')\n",
    "    plt.title('estimated plane iteration:' + str(n))\n",
    "    ax.legend()\n",
    "\n",
    "    plt.show()"
   ]
  },
  {
   "cell_type": "markdown",
   "id": "6f41a826",
   "metadata": {},
   "source": []
  }
 ],
 "metadata": {
  "kernelspec": {
   "display_name": "venv",
   "language": "python",
   "name": "python3"
  },
  "language_info": {
   "codemirror_mode": {
    "name": "ipython",
    "version": 3
   },
   "file_extension": ".py",
   "mimetype": "text/x-python",
   "name": "python",
   "nbconvert_exporter": "python",
   "pygments_lexer": "ipython3",
   "version": "3.13.2"
  }
 },
 "nbformat": 4,
 "nbformat_minor": 5
}
