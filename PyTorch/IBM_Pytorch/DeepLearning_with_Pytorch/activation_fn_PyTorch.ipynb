{
 "cells": [
  {
   "cell_type": "markdown",
   "id": "066ec80b",
   "metadata": {},
   "source": [
    "# Activation Functions in PyTorch"
   ]
  },
  {
   "cell_type": "code",
   "execution_count": null,
   "id": "54eabbd1",
   "metadata": {},
   "outputs": [],
   "source": []
  },
  {
   "cell_type": "markdown",
   "id": "91d96abb",
   "metadata": {},
   "source": []
  }
 ],
 "metadata": {
  "kernelspec": {
   "display_name": "venv",
   "language": "python",
   "name": "python3"
  },
  "language_info": {
   "name": "python",
   "version": "3.13.2"
  }
 },
 "nbformat": 4,
 "nbformat_minor": 5
}
