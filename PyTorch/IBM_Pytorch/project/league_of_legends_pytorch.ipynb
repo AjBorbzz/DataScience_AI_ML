{
 "cells": [
  {
   "cell_type": "markdown",
   "id": "567662c2",
   "metadata": {},
   "source": [
    "# League of Legends Match Predictor\n",
    "\n",
    "### Introduction\n",
    "League of Legends, a popular multiplayer online battle arena (MOBA) game, generates extensive data from matches, providing an excellent opportunity to apply machine learning techniques to real-world scenarios. Perform the following steps to build a logistic regression model aimed at predicting the outcomes of League of Legends matches. "
   ]
  },
  {
   "cell_type": "code",
   "execution_count": 25,
   "id": "bddfe73f",
   "metadata": {},
   "outputs": [],
   "source": [
    "from pathlib import Path\n",
    "import pandas as pd\n",
    "from sklearn.model_selection import train_test_split\n",
    "from sklearn.preprocessing import StandardScaler\n",
    "import torch\n",
    "from torch.utils.data import DataLoader, TensorDataset\n"
   ]
  },
  {
   "cell_type": "code",
   "execution_count": 26,
   "id": "594be473",
   "metadata": {},
   "outputs": [
    {
     "data": {
      "text/html": [
       "<div>\n",
       "<style scoped>\n",
       "    .dataframe tbody tr th:only-of-type {\n",
       "        vertical-align: middle;\n",
       "    }\n",
       "\n",
       "    .dataframe tbody tr th {\n",
       "        vertical-align: top;\n",
       "    }\n",
       "\n",
       "    .dataframe thead th {\n",
       "        text-align: right;\n",
       "    }\n",
       "</style>\n",
       "<table border=\"1\" class=\"dataframe\">\n",
       "  <thead>\n",
       "    <tr style=\"text-align: right;\">\n",
       "      <th></th>\n",
       "      <th>kills</th>\n",
       "      <th>deaths</th>\n",
       "      <th>assists</th>\n",
       "      <th>gold_earned</th>\n",
       "      <th>cs</th>\n",
       "      <th>wards_placed</th>\n",
       "      <th>wards_killed</th>\n",
       "      <th>damage_dealt</th>\n",
       "    </tr>\n",
       "  </thead>\n",
       "  <tbody>\n",
       "    <tr>\n",
       "      <th>0</th>\n",
       "      <td>16</td>\n",
       "      <td>6</td>\n",
       "      <td>19</td>\n",
       "      <td>17088</td>\n",
       "      <td>231</td>\n",
       "      <td>11</td>\n",
       "      <td>7</td>\n",
       "      <td>15367</td>\n",
       "    </tr>\n",
       "    <tr>\n",
       "      <th>1</th>\n",
       "      <td>8</td>\n",
       "      <td>8</td>\n",
       "      <td>5</td>\n",
       "      <td>14865</td>\n",
       "      <td>259</td>\n",
       "      <td>10</td>\n",
       "      <td>2</td>\n",
       "      <td>38332</td>\n",
       "    </tr>\n",
       "    <tr>\n",
       "      <th>2</th>\n",
       "      <td>0</td>\n",
       "      <td>17</td>\n",
       "      <td>11</td>\n",
       "      <td>15919</td>\n",
       "      <td>169</td>\n",
       "      <td>14</td>\n",
       "      <td>5</td>\n",
       "      <td>24642</td>\n",
       "    </tr>\n",
       "    <tr>\n",
       "      <th>3</th>\n",
       "      <td>19</td>\n",
       "      <td>11</td>\n",
       "      <td>1</td>\n",
       "      <td>11534</td>\n",
       "      <td>264</td>\n",
       "      <td>14</td>\n",
       "      <td>3</td>\n",
       "      <td>15789</td>\n",
       "    </tr>\n",
       "    <tr>\n",
       "      <th>4</th>\n",
       "      <td>12</td>\n",
       "      <td>7</td>\n",
       "      <td>6</td>\n",
       "      <td>18926</td>\n",
       "      <td>124</td>\n",
       "      <td>15</td>\n",
       "      <td>7</td>\n",
       "      <td>40268</td>\n",
       "    </tr>\n",
       "    <tr>\n",
       "      <th>...</th>\n",
       "      <td>...</td>\n",
       "      <td>...</td>\n",
       "      <td>...</td>\n",
       "      <td>...</td>\n",
       "      <td>...</td>\n",
       "      <td>...</td>\n",
       "      <td>...</td>\n",
       "      <td>...</td>\n",
       "    </tr>\n",
       "    <tr>\n",
       "      <th>995</th>\n",
       "      <td>2</td>\n",
       "      <td>15</td>\n",
       "      <td>12</td>\n",
       "      <td>17170</td>\n",
       "      <td>294</td>\n",
       "      <td>8</td>\n",
       "      <td>6</td>\n",
       "      <td>33469</td>\n",
       "    </tr>\n",
       "    <tr>\n",
       "      <th>996</th>\n",
       "      <td>5</td>\n",
       "      <td>13</td>\n",
       "      <td>4</td>\n",
       "      <td>19524</td>\n",
       "      <td>236</td>\n",
       "      <td>14</td>\n",
       "      <td>3</td>\n",
       "      <td>8845</td>\n",
       "    </tr>\n",
       "    <tr>\n",
       "      <th>997</th>\n",
       "      <td>8</td>\n",
       "      <td>7</td>\n",
       "      <td>8</td>\n",
       "      <td>7961</td>\n",
       "      <td>139</td>\n",
       "      <td>11</td>\n",
       "      <td>7</td>\n",
       "      <td>49650</td>\n",
       "    </tr>\n",
       "    <tr>\n",
       "      <th>998</th>\n",
       "      <td>5</td>\n",
       "      <td>17</td>\n",
       "      <td>5</td>\n",
       "      <td>8226</td>\n",
       "      <td>193</td>\n",
       "      <td>9</td>\n",
       "      <td>9</td>\n",
       "      <td>28290</td>\n",
       "    </tr>\n",
       "    <tr>\n",
       "      <th>999</th>\n",
       "      <td>8</td>\n",
       "      <td>9</td>\n",
       "      <td>4</td>\n",
       "      <td>18878</td>\n",
       "      <td>55</td>\n",
       "      <td>18</td>\n",
       "      <td>9</td>\n",
       "      <td>35699</td>\n",
       "    </tr>\n",
       "  </tbody>\n",
       "</table>\n",
       "<p>1000 rows × 8 columns</p>\n",
       "</div>"
      ],
      "text/plain": [
       "     kills  deaths  assists  gold_earned   cs  wards_placed  wards_killed  \\\n",
       "0       16       6       19        17088  231            11             7   \n",
       "1        8       8        5        14865  259            10             2   \n",
       "2        0      17       11        15919  169            14             5   \n",
       "3       19      11        1        11534  264            14             3   \n",
       "4       12       7        6        18926  124            15             7   \n",
       "..     ...     ...      ...          ...  ...           ...           ...   \n",
       "995      2      15       12        17170  294             8             6   \n",
       "996      5      13        4        19524  236            14             3   \n",
       "997      8       7        8         7961  139            11             7   \n",
       "998      5      17        5         8226  193             9             9   \n",
       "999      8       9        4        18878   55            18             9   \n",
       "\n",
       "     damage_dealt  \n",
       "0           15367  \n",
       "1           38332  \n",
       "2           24642  \n",
       "3           15789  \n",
       "4           40268  \n",
       "..            ...  \n",
       "995         33469  \n",
       "996          8845  \n",
       "997         49650  \n",
       "998         28290  \n",
       "999         35699  \n",
       "\n",
       "[1000 rows x 8 columns]"
      ]
     },
     "metadata": {},
     "output_type": "display_data"
    },
    {
     "data": {
      "text/plain": [
       "0      0\n",
       "1      1\n",
       "2      0\n",
       "3      0\n",
       "4      0\n",
       "      ..\n",
       "995    0\n",
       "996    0\n",
       "997    1\n",
       "998    1\n",
       "999    0\n",
       "Name: win, Length: 1000, dtype: int64"
      ]
     },
     "metadata": {},
     "output_type": "display_data"
    }
   ],
   "source": [
    "data_path = Path(Path.cwd()).resolve().parents[0] / \"project\" / \"league_of_legends_data_large.csv\"\n",
    "\n",
    "\n",
    "df = pd.read_csv(data_path)\n",
    "X = df.drop('win', axis=1)\n",
    "y = df['win']\n",
    "\n",
    "display(X)\n",
    "display(y)"
   ]
  },
  {
   "cell_type": "markdown",
   "id": "43ec1fbf",
   "metadata": {},
   "source": [
    "### Train Test Split"
   ]
  },
  {
   "cell_type": "code",
   "execution_count": 27,
   "id": "41cf5ab0",
   "metadata": {},
   "outputs": [
    {
     "data": {
      "text/plain": [
       "'X_train shape: (800, 8)'"
      ]
     },
     "metadata": {},
     "output_type": "display_data"
    },
    {
     "data": {
      "text/plain": [
       "'y_train shape: (800,)'"
      ]
     },
     "metadata": {},
     "output_type": "display_data"
    },
    {
     "data": {
      "text/plain": [
       "'X_test shape: (200, 8)'"
      ]
     },
     "metadata": {},
     "output_type": "display_data"
    },
    {
     "data": {
      "text/plain": [
       "'y_test shape: (200,)'"
      ]
     },
     "metadata": {},
     "output_type": "display_data"
    }
   ],
   "source": [
    "X_train, X_test, y_train, y_test = train_test_split(\n",
    "    X, y, test_size=0.2, random_state=42, stratify=y\n",
    ")\n",
    "display(f'X_train shape: {X_train.shape}')\n",
    "display(f'y_train shape: {y_train.shape}')\n",
    "display(f'X_test shape: {X_test.shape}')\n",
    "display(f'y_test shape: {y_test.shape}')\n"
   ]
  },
  {
   "cell_type": "markdown",
   "id": "d942c9bc",
   "metadata": {},
   "source": [
    "### Standardize the feature using StandardScaler"
   ]
  },
  {
   "cell_type": "code",
   "execution_count": 28,
   "id": "d430c196",
   "metadata": {},
   "outputs": [],
   "source": [
    "scaler = StandardScaler()\n",
    "# Fit the scaler on the training data and transform it\n",
    "X_train = scaler.fit_transform(X_train)\n",
    "# Transform the test data using the same scaler\n",
    "X_test = scaler.transform(X_test)\n",
    "\n",
    "# Convert to PyTorch tensors\n",
    "X_train = torch.tensor(X_train, dtype=torch.float32)\n",
    "X_test = torch.tensor(X_test, dtype=torch.float32)\n",
    "y_train = torch.tensor(y_train.values, dtype=torch.float32).view(-1, 1)\n",
    "y_test = torch.tensor(y_test.values, dtype=torch.float32).view(-1, 1)\n",
    "\n",
    "\n",
    "# Create DataLoader for training and test sets\n",
    "train_dataset = TensorDataset(X_train, y_train)\n",
    "test_dataset = TensorDataset(X_test, y_test)\n",
    "\n",
    "train_loader = DataLoader(train_dataset, batch_size=32, shuffle=True)\n",
    "test_loader = DataLoader(test_dataset, batch_size=32, shuffle=False)\n",
    "\n"
   ]
  },
  {
   "cell_type": "markdown",
   "id": "ed304deb",
   "metadata": {},
   "source": [
    "### Logistic Regression Model"
   ]
  },
  {
   "cell_type": "code",
   "execution_count": 29,
   "id": "c1ed2ca3",
   "metadata": {},
   "outputs": [],
   "source": [
    "import torch.nn as nn\n",
    "\n",
    "class LogisticRegressionNet(nn.Module):\n",
    "    \n",
    "    # Constructor\n",
    "    def __init__(self, n_inputs):\n",
    "        super(LogisticRegressionNet, self).__init__()\n",
    "        self.linear = nn.Linear(n_inputs, 1)\n",
    "        \n",
    "    # Prediction\n",
    "    def forward(self, x):\n",
    "        yhat = torch.sigmoid(self.linear(x))\n",
    "        return yhat\n",
    "\n",
    "# Instantiate the model\n",
    "\n",
    "input_dim = X_train.shape[1]  # Number of features\n",
    "\n",
    "model = LogisticRegressionNet(n_inputs=input_dim)\n"
   ]
  },
  {
   "cell_type": "code",
   "execution_count": 30,
   "id": "e51cbc9c",
   "metadata": {},
   "outputs": [
    {
     "name": "stdout",
     "output_type": "stream",
     "text": [
      "LogisticRegressionNet(\n",
      "  (linear): Linear(in_features=8, out_features=1, bias=True)\n",
      ")\n"
     ]
    }
   ],
   "source": [
    "print(model)"
   ]
  },
  {
   "cell_type": "code",
   "execution_count": 31,
   "id": "e7f0b9f4",
   "metadata": {},
   "outputs": [],
   "source": [
    "import torch.optim as optim\n",
    "\n",
    "# Define the loss function and optimizer\n",
    "criterion = nn.BCELoss()\n",
    "optimizer = optim.SGD(model.parameters(), lr=0.01)"
   ]
  },
  {
   "cell_type": "code",
   "execution_count": 32,
   "id": "a752b87d",
   "metadata": {},
   "outputs": [],
   "source": [
    "epochs = 1000\n",
    "train_losses = []\n",
    "test_losses = []"
   ]
  },
  {
   "cell_type": "code",
   "execution_count": 33,
   "id": "42073b82",
   "metadata": {},
   "outputs": [
    {
     "name": "stdout",
     "output_type": "stream",
     "text": [
      "Epoch [100/1000], Train Loss: 0.6906, Test Loss: 0.6773, Test Acc: 0.5450\n",
      "Epoch [200/1000], Train Loss: 0.6907, Test Loss: 0.6775, Test Acc: 0.5350\n",
      "Epoch [300/1000], Train Loss: 0.6906, Test Loss: 0.6774, Test Acc: 0.5400\n",
      "Epoch [400/1000], Train Loss: 0.6907, Test Loss: 0.6775, Test Acc: 0.5350\n",
      "Epoch [500/1000], Train Loss: 0.6907, Test Loss: 0.6774, Test Acc: 0.5450\n",
      "Epoch [600/1000], Train Loss: 0.6906, Test Loss: 0.6774, Test Acc: 0.5400\n",
      "Epoch [700/1000], Train Loss: 0.6906, Test Loss: 0.6774, Test Acc: 0.5350\n",
      "Epoch [800/1000], Train Loss: 0.6906, Test Loss: 0.6775, Test Acc: 0.5400\n",
      "Epoch [900/1000], Train Loss: 0.6906, Test Loss: 0.6775, Test Acc: 0.5350\n",
      "Epoch [1000/1000], Train Loss: 0.6906, Test Loss: 0.6774, Test Acc: 0.5350\n"
     ]
    }
   ],
   "source": [
    "\n",
    "\n",
    "for epoch in range(epochs):\n",
    "    # Training phase\n",
    "    model.train()\n",
    "    running_loss = 0.0\n",
    "    for X_batch, y_batch in train_loader:\n",
    "        y_batch = y_batch.view(-1, 1).float()\n",
    "        \n",
    "        optimizer.zero_grad()\n",
    "        outputs = model(X_batch)\n",
    "        loss = criterion(outputs, y_batch)\n",
    "        loss.backward()\n",
    "        optimizer.step()\n",
    "        running_loss += loss.item()\n",
    "\n",
    "    train_loss = running_loss / len(train_loader)\n",
    "    train_losses.append(train_loss)\n",
    "    \n",
    "    # Evaluation phase on test set\n",
    "    model.eval()\n",
    "    test_loss = 0.0\n",
    "    with torch.no_grad():\n",
    "        for X_batch, y_batch in test_loader:\n",
    "            y_batch = y_batch.view(-1, 1).float()\n",
    "            test_outputs = model(X_batch)\n",
    "            loss = criterion(test_outputs, y_batch)\n",
    "            test_loss += loss.item()\n",
    "\n",
    "    test_loss /= len(test_loader)\n",
    "    test_losses.append(test_loss)\n",
    "    \n",
    "    if (epoch + 1) % 100 == 0:\n",
    "        # Optional: calculate accuracy inline\n",
    "        model.eval()\n",
    "        with torch.no_grad():\n",
    "            val_preds = model(X_test)\n",
    "            val_binary = (val_preds > 0.5).float()\n",
    "            val_acc = (val_binary == y_test).float().mean().item()\n",
    "        print(f'Epoch [{epoch + 1}/{epochs}], Train Loss: {train_loss:.4f}, Test Loss: {test_loss:.4f}, Test Acc: {val_acc:.4f}')\n",
    "\n",
    "\n",
    "\n"
   ]
  },
  {
   "cell_type": "code",
   "execution_count": 34,
   "id": "d37f05db",
   "metadata": {},
   "outputs": [
    {
     "data": {
      "image/png": "[encoded data removed]",
      "text/plain": [
       "<Figure size 1000x600 with 1 Axes>"
      ]
     },
     "metadata": {},
     "output_type": "display_data"
    }
   ],
   "source": [
    "import matplotlib.pyplot as plt\n",
    "\n",
    "# Plot the loss curves\n",
    "plt.figure(figsize=(10, 6))\n",
    "plt.plot(range(1, epochs + 1), train_losses, label='Training Loss')\n",
    "plt.plot(range(1, epochs + 1), test_losses, label='Test Loss', linestyle='--')\n",
    "plt.xlabel('Epoch')\n",
    "plt.ylabel('Loss')\n",
    "plt.title('Training and Test Loss Curve')\n",
    "plt.legend()\n",
    "plt.grid(True)\n",
    "plt.show()"
   ]
  },
  {
   "cell_type": "code",
   "execution_count": 35,
   "id": "d50cba51",
   "metadata": {},
   "outputs": [
    {
     "name": "stdout",
     "output_type": "stream",
     "text": [
      "Raw predictions (probabilities):\n",
      "Train predictions shape: torch.Size([800, 1])\n",
      "Test predictions shape: torch.Size([200, 1])\n",
      "Sample train predictions: tensor([0.5684, 0.5011, 0.4865, 0.5669, 0.4956])\n",
      "Sample test predictions: tensor([0.5175, 0.5016, 0.5204, 0.5164, 0.5478])\n",
      "\n",
      "Binary predictions (0 or 1):\n",
      "Sample train binary predictions: tensor([1., 1., 0., 1., 0.])\n",
      "Sample test binary predictions: tensor([1., 1., 1., 1., 1.])\n",
      "\n",
      "Model Performance:\n",
      "Training Accuracy: 0.5238 (52.38%)\n",
      "Test Accuracy: 0.5350 (53.50%)\n"
     ]
    }
   ],
   "source": [
    "\n",
    "model.eval()\n",
    "with torch.no_grad():\n",
    "    # Get predictions on training set\n",
    "    train_predictions = model(X_train)\n",
    "    \n",
    "    # Get predictions on test set  \n",
    "    test_predictions = model(X_test)\n",
    "\n",
    "# The predictions are probabilities (0 to 1) from sigmoid\n",
    "print(\"Raw predictions (probabilities):\")\n",
    "print(f\"Train predictions shape: {train_predictions.shape}\")\n",
    "print(f\"Test predictions shape: {test_predictions.shape}\")\n",
    "print(f\"Sample train predictions: {train_predictions[:5].flatten()}\")\n",
    "print(f\"Sample test predictions: {test_predictions[:5].flatten()}\")\n",
    "\n",
    "# Convert probabilities to binary predictions (0 or 1)\n",
    "# Using threshold of 0.5\n",
    "train_pred_binary = (train_predictions > 0.5).float()\n",
    "test_pred_binary = (test_predictions > 0.5).float()\n",
    "\n",
    "print(f\"\\nBinary predictions (0 or 1):\")\n",
    "print(f\"Sample train binary predictions: {train_pred_binary[:5].flatten()}\")\n",
    "print(f\"Sample test binary predictions: {test_pred_binary[:5].flatten()}\")\n",
    "\n",
    "# Calculate accuracy\n",
    "train_accuracy = (train_pred_binary == y_train).float().mean()\n",
    "test_accuracy = (test_pred_binary == y_test).float().mean()\n",
    "\n",
    "print(f\"\\nModel Performance:\")\n",
    "print(f\"Training Accuracy: {train_accuracy.item():.4f} ({train_accuracy.item()*100:.2f}%)\")\n",
    "print(f\"Test Accuracy: {test_accuracy.item():.4f} ({test_accuracy.item()*100:.2f}%)\")"
   ]
  },
  {
   "cell_type": "markdown",
   "id": "fdf70ad9",
   "metadata": {},
   "source": [
    "### Model Optimization"
   ]
  },
  {
   "cell_type": "code",
   "execution_count": 36,
   "id": "e4141376",
   "metadata": {},
   "outputs": [
    {
     "name": "stdout",
     "output_type": "stream",
     "text": [
      "Epoch [100/1000], Train Loss: 0.6907, Test Loss: 0.6779, Test Acc: 0.5400\n",
      "Epoch [200/1000], Train Loss: 0.6907, Test Loss: 0.6779, Test Acc: 0.5400\n",
      "Epoch [300/1000], Train Loss: 0.6906, Test Loss: 0.6780, Test Acc: 0.5400\n",
      "Epoch [400/1000], Train Loss: 0.6907, Test Loss: 0.6780, Test Acc: 0.5400\n",
      "Epoch [500/1000], Train Loss: 0.6906, Test Loss: 0.6779, Test Acc: 0.5400\n",
      "Epoch [600/1000], Train Loss: 0.6906, Test Loss: 0.6779, Test Acc: 0.5400\n",
      "Epoch [700/1000], Train Loss: 0.6906, Test Loss: 0.6779, Test Acc: 0.5400\n",
      "Epoch [800/1000], Train Loss: 0.6907, Test Loss: 0.6780, Test Acc: 0.5400\n",
      "Epoch [900/1000], Train Loss: 0.6906, Test Loss: 0.6779, Test Acc: 0.5400\n",
      "Epoch [1000/1000], Train Loss: 0.6906, Test Loss: 0.6779, Test Acc: 0.5400\n"
     ]
    }
   ],
   "source": [
    "optimizer = optim.SGD(model.parameters(), lr=0.01, weight_decay=0.01)\n",
    "epochs = 1000\n",
    "train_losses = []\n",
    "test_losses = []\n",
    "\n",
    "\n",
    "\n",
    "for epoch in range(epochs):\n",
    "    # Training phase\n",
    "    model.train()\n",
    "    running_loss = 0.0\n",
    "    for X_batch, y_batch in train_loader:\n",
    "        y_batch = y_batch.view(-1, 1).float()\n",
    "        \n",
    "        optimizer.zero_grad()\n",
    "        outputs = model(X_batch)\n",
    "        loss = criterion(outputs, y_batch)\n",
    "        loss.backward()\n",
    "        optimizer.step()\n",
    "        running_loss += loss.item()\n",
    "\n",
    "    train_loss = running_loss / len(train_loader)\n",
    "    train_losses.append(train_loss)\n",
    "    \n",
    "    # Evaluation phase on test set\n",
    "    model.eval()\n",
    "    test_loss = 0.0\n",
    "    with torch.no_grad():\n",
    "        for X_batch, y_batch in test_loader:\n",
    "            y_batch = y_batch.view(-1, 1).float()\n",
    "            test_outputs = model(X_batch)\n",
    "            loss = criterion(test_outputs, y_batch)\n",
    "            test_loss += loss.item()\n",
    "\n",
    "    test_loss /= len(test_loader)\n",
    "    test_losses.append(test_loss)\n",
    "    \n",
    "    if (epoch + 1) % 100 == 0:\n",
    "        # Optional: calculate accuracy inline\n",
    "        model.eval()\n",
    "        with torch.no_grad():\n",
    "            val_preds = model(X_test)\n",
    "            val_binary = (val_preds > 0.5).float()\n",
    "            val_acc = (val_binary == y_test).float().mean().item()\n",
    "        print(f'Epoch [{epoch + 1}/{epochs}], Train Loss: {train_loss:.4f}, Test Loss: {test_loss:.4f}, Test Acc: {val_acc:.4f}')\n",
    "\n",
    "\n",
    "\n",
    "\n"
   ]
  },
  {
   "cell_type": "markdown",
   "id": "66125022",
   "metadata": {},
   "source": [
    "\n"
   ]
  },
  {
   "cell_type": "code",
   "execution_count": 37,
   "id": "a792c3b9",
   "metadata": {},
   "outputs": [
    {
     "data": {
      "image/png": "[encoded data removed]",
      "text/plain": [
       "<Figure size 1000x600 with 1 Axes>"
      ]
     },
     "metadata": {},
     "output_type": "display_data"
    }
   ],
   "source": [
    "import matplotlib.pyplot as plt\n",
    "\n",
    "# Plot the loss curves\n",
    "plt.figure(figsize=(10, 6))\n",
    "plt.plot(range(1, epochs + 1), train_losses, label='Training Loss')\n",
    "plt.plot(range(1, epochs + 1), test_losses, label='Test Loss', linestyle='--')\n",
    "plt.xlabel('Epoch')\n",
    "plt.ylabel('Loss')\n",
    "plt.title('Training and Test Loss Curve')\n",
    "plt.legend()\n",
    "plt.grid(True)\n",
    "plt.show()"
   ]
  },
  {
   "cell_type": "markdown",
   "id": "12e6441e",
   "metadata": {},
   "source": [
    "### Visualization and Interpretation"
   ]
  },
  {
   "cell_type": "code",
   "execution_count": 38,
   "id": "24c3b494",
   "metadata": {},
   "outputs": [],
   "source": [
    "from sklearn.metrics import confusion_matrix, roc_curve, auc, classification_report\n",
    "import matplotlib.pyplot as plt\n",
    "import seaborn as sns"
   ]
  },
  {
   "cell_type": "code",
   "execution_count": 40,
   "id": "3677d727",
   "metadata": {},
   "outputs": [
    {
     "data": {
      "image/png": "[encoded data removed]",
      "text/plain": [
       "<Figure size 600x400 with 2 Axes>"
      ]
     },
     "metadata": {},
     "output_type": "display_data"
    }
   ],
   "source": [
    "# Confusion Matrix\n",
    "cm = confusion_matrix(y_test, val_binary)\n",
    "plt.figure(figsize=(6, 4))\n",
    "sns.heatmap(cm, annot=True, fmt=\"d\", cmap=\"Blues\", xticklabels=['Predicted 0', 'Predicted 1'], yticklabels=['Actual 0', 'Actual 1'])\n",
    "plt.title(\"Confusion Matrix\")\n",
    "plt.ylabel(\"Actual\")\n",
    "plt.xlabel(\"Predicted\")\n",
    "plt.show()"
   ]
  },
  {
   "cell_type": "code",
   "execution_count": 41,
   "id": "32b85358",
   "metadata": {},
   "outputs": [
    {
     "data": {
      "image/png": "[encoded data removed]",
      "text/plain": [
       "<Figure size 600x400 with 1 Axes>"
      ]
     },
     "metadata": {},
     "output_type": "display_data"
    }
   ],
   "source": [
    "# ROC Curve\n",
    "fpr, tpr, thresholds = roc_curve(y_test, val_binary)\n",
    "roc_auc = auc(fpr, tpr)\n",
    "\n",
    "plt.figure(figsize=(6, 4))\n",
    "plt.plot(fpr, tpr, color='blue', lw=2, label=f'ROC Curve (AUC = {roc_auc:.2f})')\n",
    "plt.plot([0, 1], [0, 1], color='gray', linestyle='--')\n",
    "plt.xlabel('False Positive Rate')\n",
    "plt.ylabel('True Positive Rate')\n",
    "plt.title('ROC Curve')\n",
    "plt.legend(loc=\"lower right\")\n",
    "plt.grid(True)\n",
    "plt.show()\n"
   ]
  },
  {
   "cell_type": "code",
   "execution_count": 42,
   "id": "2f018f62",
   "metadata": {},
   "outputs": [
    {
     "name": "stdout",
     "output_type": "stream",
     "text": [
      "Classification Report:\n",
      "              precision    recall  f1-score   support\n",
      "\n",
      "     Class 0       0.54      0.44      0.48        98\n",
      "     Class 1       0.54      0.64      0.59       102\n",
      "\n",
      "    accuracy                           0.54       200\n",
      "   macro avg       0.54      0.54      0.53       200\n",
      "weighted avg       0.54      0.54      0.54       200\n",
      "\n"
     ]
    }
   ],
   "source": [
    "# Classification Report\n",
    "report = classification_report(y_test, val_binary, target_names=[\"Class 0\", \"Class 1\"])\n",
    "print(\"Classification Report:\")\n",
    "print(report)\n"
   ]
  },
  {
   "cell_type": "markdown",
   "id": "e1c59851",
   "metadata": {},
   "source": [
    "### Save the Model"
   ]
  },
  {
   "cell_type": "code",
   "execution_count": 43,
   "id": "a728e763",
   "metadata": {},
   "outputs": [
    {
     "name": "stdout",
     "output_type": "stream",
     "text": [
      "Model saved successfully.\n"
     ]
    }
   ],
   "source": [
    "# Save the model's learned parameters (state_dict)\n",
    "torch.save(model.state_dict(), 'logistic_model.pth')\n",
    "print(\"Model saved successfully.\")\n"
   ]
  },
  {
   "cell_type": "code",
   "execution_count": 45,
   "id": "f69ea468",
   "metadata": {},
   "outputs": [
    {
     "name": "stdout",
     "output_type": "stream",
     "text": [
      "Model loaded and set to eval mode.\n"
     ]
    }
   ],
   "source": [
    "# Recreate the model structure\n",
    "loaded_model = LogisticRegressionNet(n_inputs=X_train.shape[1])  # Make sure input dim is the same\n",
    "\n",
    "# Load the saved weights into the new model instance\n",
    "loaded_model.load_state_dict(torch.load('logistic_model.pth'))\n",
    "\n",
    "# Set the model to evaluation mode\n",
    "loaded_model.eval()\n",
    "print(\"Model loaded and set to eval mode.\")\n"
   ]
  },
  {
   "cell_type": "code",
   "execution_count": 46,
   "id": "fe06ba97",
   "metadata": {},
   "outputs": [
    {
     "name": "stdout",
     "output_type": "stream",
     "text": [
      "Loaded Model Test Accuracy: 0.5400 (54.00%)\n"
     ]
    }
   ],
   "source": [
    "# Evaluate the loaded model on test data\n",
    "with torch.no_grad():\n",
    "    test_preds = loaded_model(X_test)\n",
    "    test_preds_label = (test_preds > 0.5).float()\n",
    "\n",
    "# Calculate accuracy\n",
    "test_acc = (test_preds_label == y_test).float().mean().item()\n",
    "\n",
    "print(f\"Loaded Model Test Accuracy: {test_acc:.4f} ({test_acc * 100:.2f}%)\")\n"
   ]
  },
  {
   "cell_type": "markdown",
   "id": "27016c77",
   "metadata": {},
   "source": [
    "### Hyperparameter tuning"
   ]
  },
  {
   "cell_type": "code",
   "execution_count": 47,
   "id": "6ee916a5",
   "metadata": {},
   "outputs": [
    {
     "name": "stdout",
     "output_type": "stream",
     "text": [
      "\n",
      "Training with learning rate: 0.01\n",
      "Test Accuracy for lr=0.01: 0.5300\n",
      "\n",
      "Training with learning rate: 0.05\n",
      "Test Accuracy for lr=0.05: 0.5300\n",
      "\n",
      "Training with learning rate: 0.1\n",
      "Test Accuracy for lr=0.1: 0.5300\n",
      "\n",
      "Summary of Results:\n",
      "Learning Rate: 0.01 -> Test Accuracy: 0.5300\n",
      "Learning Rate: 0.05 -> Test Accuracy: 0.5300\n",
      "Learning Rate: 0.1 -> Test Accuracy: 0.5300\n",
      "\n",
      " Best Learning Rate: 0.01 with Accuracy: 0.5300\n"
     ]
    }
   ],
   "source": [
    "learning_rates = [0.01, 0.05, 0.1]\n",
    "num_epochs = 100\n",
    "best_acc = 0\n",
    "best_lr = None\n",
    "results = {}\n",
    "\n",
    "for lr in learning_rates:\n",
    "    print(f\"\\nTraining with learning rate: {lr}\")\n",
    "\n",
    "    \n",
    "    model = LogisticRegressionNet(n_inputs=X_train.shape[1])\n",
    "    criterion = nn.BCELoss()\n",
    "    optimizer = torch.optim.SGD(model.parameters(), lr=lr)\n",
    "\n",
    "   \n",
    "    for epoch in range(num_epochs):\n",
    "        model.train()\n",
    "        for X_batch, y_batch in train_loader:\n",
    "            y_batch = y_batch.view(-1, 1).float()\n",
    "            optimizer.zero_grad()\n",
    "            outputs = model(X_batch)\n",
    "            loss = criterion(outputs, y_batch)\n",
    "            loss.backward()\n",
    "            optimizer.step()\n",
    "\n",
    "    \n",
    "    model.eval()\n",
    "    with torch.no_grad():\n",
    "        test_preds = model(X_test)\n",
    "        test_preds_label = (test_preds > 0.5).float()\n",
    "        test_acc = (test_preds_label == y_test).float().mean().item()\n",
    "        results[lr] = test_acc\n",
    "        print(f\"Test Accuracy for lr={lr}: {test_acc:.4f}\")\n",
    "\n",
    "        if test_acc > best_acc:\n",
    "            best_acc = test_acc\n",
    "            best_lr = lr\n",
    "\n",
    "\n",
    "print(\"\\nSummary of Results:\")\n",
    "for lr, acc in results.items():\n",
    "    print(f\"Learning Rate: {lr} -> Test Accuracy: {acc:.4f}\")\n",
    "\n",
    "print(f\"\\n Best Learning Rate: {best_lr} with Accuracy: {best_acc:.4f}\")\n"
   ]
  },
  {
   "cell_type": "code",
   "execution_count": null,
   "id": "ed5346a2",
   "metadata": {},
   "outputs": [],
   "source": []
  }
 ],
 "metadata": {
  "kernelspec": {
   "display_name": "venv",
   "language": "python",
   "name": "python3"
  },
  "language_info": {
   "codemirror_mode": {
    "name": "ipython",
    "version": 3
   },
   "file_extension": ".py",
   "mimetype": "text/x-python",
   "name": "python",
   "nbconvert_exporter": "python",
   "pygments_lexer": "ipython3",
   "version": "3.13.2"
  }
 },
 "nbformat": 4,
 "nbformat_minor": 5
}
