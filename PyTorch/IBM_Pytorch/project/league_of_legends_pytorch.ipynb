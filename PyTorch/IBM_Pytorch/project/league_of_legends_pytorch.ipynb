{
 "cells": [
  {
   "cell_type": "markdown",
   "id": "567662c2",
   "metadata": {},
   "source": [
    "# League of Legends Match Predictor\n",
    "\n",
    "### Introduction\n",
    "League of Legends, a popular multiplayer online battle arena (MOBA) game, generates extensive data from matches, providing an excellent opportunity to apply machine learning techniques to real-world scenarios. Perform the following steps to build a logistic regression model aimed at predicting the outcomes of League of Legends matches. "
   ]
  },
  {
   "cell_type": "code",
   "execution_count": 2,
   "id": "bddfe73f",
   "metadata": {},
   "outputs": [],
   "source": [
    "from pathlib import Path\n",
    "import pandas as pd\n"
   ]
  },
  {
   "cell_type": "code",
   "execution_count": 5,
   "id": "594be473",
   "metadata": {},
   "outputs": [
    {
     "data": {
      "text/plain": [
       "PosixPath('/Users/ajborbz/Projects/DataScience_AI_ML/PyTorch/project/league_of_legends_data_large.csv')"
      ]
     },
     "execution_count": 5,
     "metadata": {},
     "output_type": "execute_result"
    }
   ],
   "source": [
    "data_path = Path(Path.cwd()).resolve().parents[1] / \"project\" / \"league_of_legends_data_large.csv\"\n",
    "data_path"
   ]
  },
  {
   "cell_type": "markdown",
   "id": "66125022",
   "metadata": {},
   "source": []
  }
 ],
 "metadata": {
  "kernelspec": {
   "display_name": "venv",
   "language": "python",
   "name": "python3"
  },
  "language_info": {
   "codemirror_mode": {
    "name": "ipython",
    "version": 3
   },
   "file_extension": ".py",
   "mimetype": "text/x-python",
   "name": "python",
   "nbconvert_exporter": "python",
   "pygments_lexer": "ipython3",
   "version": "3.13.2"
  }
 },
 "nbformat": 4,
 "nbformat_minor": 5
}
