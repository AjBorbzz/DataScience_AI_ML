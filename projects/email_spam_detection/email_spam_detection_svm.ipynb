{
 "cells": [
  {
   "cell_type": "markdown",
   "metadata": {},
   "source": [
    "# Introduction\n",
    "\n",
    "This project focuses on the detection of email spam using a dataset obtained from Kaggle. Email spam, commonly referred to as \"junk\" mail, is an ever-present issue for both individuals and organizations. Effective identification of spam messages is essential to enhance security and reduce unwanted communications.\n",
    "\n",
    "The objective of this project is to analyze the dataset and build a machine learning model capable of classifying emails as either spam or \"ham\" (non-spam). After experimenting with various models, we have identified the Support Vector Machine (SVM) as the most effective model for this task. Using the `sklearn.svm.SVC` implementation of SVM, the model aims to demonstrate superior performance in distinguishing between spam and legitimate emails, ensuring high accuracy in real-world applications.\n"
   ]
  },
  {
   "cell_type": "code",
   "execution_count": 40,
   "metadata": {},
   "outputs": [
    {
     "name": "stderr",
     "output_type": "stream",
     "text": [
      "[nltk_data] Downloading package stopwords to\n",
      "[nltk_data]     C:\\Users\\AjBorbz\\AppData\\Roaming\\nltk_data...\n",
      "[nltk_data]   Package stopwords is already up-to-date!\n"
     ]
    },
    {
     "data": {
      "text/plain": [
       "True"
      ]
     },
     "execution_count": 40,
     "metadata": {},
     "output_type": "execute_result"
    }
   ],
   "source": [
    "from pathlib import Path\n",
    "import pandas as pd\n",
    "import numpy as np\n",
    "import matplotlib.pyplot as plt\n",
    "import seaborn as sns\n",
    "from sklearn.model_selection import train_test_split\n",
    "from sklearn.naive_bayes import MultinomialNB\n",
    "from sklearn.linear_model import LogisticRegression\n",
    "from sklearn.feature_extraction.text import TfidfVectorizer\n",
    "from sklearn.svm import SVC\n",
    "from sklearn.metrics import accuracy_score, classification_report\n",
    "from nltk.corpus import stopwords\n",
    "from nltk.stem import SnowballStemmer\n",
    "import string\n",
    "import nltk\n",
    "nltk.download('stopwords')\n",
    "\n",
    "\n"
   ]
  },
  {
   "cell_type": "code",
   "execution_count": 23,
   "metadata": {},
   "outputs": [
    {
     "data": {
      "text/html": [
       "<div>\n",
       "<style scoped>\n",
       "    .dataframe tbody tr th:only-of-type {\n",
       "        vertical-align: middle;\n",
       "    }\n",
       "\n",
       "    .dataframe tbody tr th {\n",
       "        vertical-align: top;\n",
       "    }\n",
       "\n",
       "    .dataframe thead th {\n",
       "        text-align: right;\n",
       "    }\n",
       "</style>\n",
       "<table border=\"1\" class=\"dataframe\">\n",
       "  <thead>\n",
       "    <tr style=\"text-align: right;\">\n",
       "      <th></th>\n",
       "      <th>Unnamed: 0</th>\n",
       "      <th>label</th>\n",
       "      <th>text</th>\n",
       "      <th>label_num</th>\n",
       "    </tr>\n",
       "  </thead>\n",
       "  <tbody>\n",
       "    <tr>\n",
       "      <th>0</th>\n",
       "      <td>605</td>\n",
       "      <td>ham</td>\n",
       "      <td>Subject: enron methanol ; meter # : 988291\\r\\n...</td>\n",
       "      <td>0</td>\n",
       "    </tr>\n",
       "    <tr>\n",
       "      <th>1</th>\n",
       "      <td>2349</td>\n",
       "      <td>ham</td>\n",
       "      <td>Subject: hpl nom for january 9 , 2001\\r\\n( see...</td>\n",
       "      <td>0</td>\n",
       "    </tr>\n",
       "    <tr>\n",
       "      <th>2</th>\n",
       "      <td>3624</td>\n",
       "      <td>ham</td>\n",
       "      <td>Subject: neon retreat\\r\\nho ho ho , we ' re ar...</td>\n",
       "      <td>0</td>\n",
       "    </tr>\n",
       "    <tr>\n",
       "      <th>3</th>\n",
       "      <td>4685</td>\n",
       "      <td>spam</td>\n",
       "      <td>Subject: photoshop , windows , office . cheap ...</td>\n",
       "      <td>1</td>\n",
       "    </tr>\n",
       "    <tr>\n",
       "      <th>4</th>\n",
       "      <td>2030</td>\n",
       "      <td>ham</td>\n",
       "      <td>Subject: re : indian springs\\r\\nthis deal is t...</td>\n",
       "      <td>0</td>\n",
       "    </tr>\n",
       "    <tr>\n",
       "      <th>...</th>\n",
       "      <td>...</td>\n",
       "      <td>...</td>\n",
       "      <td>...</td>\n",
       "      <td>...</td>\n",
       "    </tr>\n",
       "    <tr>\n",
       "      <th>5166</th>\n",
       "      <td>1518</td>\n",
       "      <td>ham</td>\n",
       "      <td>Subject: put the 10 on the ft\\r\\nthe transport...</td>\n",
       "      <td>0</td>\n",
       "    </tr>\n",
       "    <tr>\n",
       "      <th>5167</th>\n",
       "      <td>404</td>\n",
       "      <td>ham</td>\n",
       "      <td>Subject: 3 / 4 / 2000 and following noms\\r\\nhp...</td>\n",
       "      <td>0</td>\n",
       "    </tr>\n",
       "    <tr>\n",
       "      <th>5168</th>\n",
       "      <td>2933</td>\n",
       "      <td>ham</td>\n",
       "      <td>Subject: calpine daily gas nomination\\r\\n&gt;\\r\\n...</td>\n",
       "      <td>0</td>\n",
       "    </tr>\n",
       "    <tr>\n",
       "      <th>5169</th>\n",
       "      <td>1409</td>\n",
       "      <td>ham</td>\n",
       "      <td>Subject: industrial worksheets for august 2000...</td>\n",
       "      <td>0</td>\n",
       "    </tr>\n",
       "    <tr>\n",
       "      <th>5170</th>\n",
       "      <td>4807</td>\n",
       "      <td>spam</td>\n",
       "      <td>Subject: important online banking alert\\r\\ndea...</td>\n",
       "      <td>1</td>\n",
       "    </tr>\n",
       "  </tbody>\n",
       "</table>\n",
       "<p>5171 rows × 4 columns</p>\n",
       "</div>"
      ],
      "text/plain": [
       "      Unnamed: 0 label                                               text  \\\n",
       "0            605   ham  Subject: enron methanol ; meter # : 988291\\r\\n...   \n",
       "1           2349   ham  Subject: hpl nom for january 9 , 2001\\r\\n( see...   \n",
       "2           3624   ham  Subject: neon retreat\\r\\nho ho ho , we ' re ar...   \n",
       "3           4685  spam  Subject: photoshop , windows , office . cheap ...   \n",
       "4           2030   ham  Subject: re : indian springs\\r\\nthis deal is t...   \n",
       "...          ...   ...                                                ...   \n",
       "5166        1518   ham  Subject: put the 10 on the ft\\r\\nthe transport...   \n",
       "5167         404   ham  Subject: 3 / 4 / 2000 and following noms\\r\\nhp...   \n",
       "5168        2933   ham  Subject: calpine daily gas nomination\\r\\n>\\r\\n...   \n",
       "5169        1409   ham  Subject: industrial worksheets for august 2000...   \n",
       "5170        4807  spam  Subject: important online banking alert\\r\\ndea...   \n",
       "\n",
       "      label_num  \n",
       "0             0  \n",
       "1             0  \n",
       "2             0  \n",
       "3             1  \n",
       "4             0  \n",
       "...         ...  \n",
       "5166          0  \n",
       "5167          0  \n",
       "5168          0  \n",
       "5169          0  \n",
       "5170          1  \n",
       "\n",
       "[5171 rows x 4 columns]"
      ]
     },
     "execution_count": 23,
     "metadata": {},
     "output_type": "execute_result"
    }
   ],
   "source": [
    "p = Path(Path.cwd()).resolve().parents[1] / \"sample_datasets\" / \"spam_ham_dataset.csv\"\n",
    "\n",
    "df = pd.read_csv(p)\n",
    "df"
   ]
  },
  {
   "cell_type": "code",
   "execution_count": 24,
   "metadata": {},
   "outputs": [
    {
     "data": {
      "text/plain": [
       "(5171, 4)"
      ]
     },
     "execution_count": 24,
     "metadata": {},
     "output_type": "execute_result"
    }
   ],
   "source": [
    "df.shape"
   ]
  },
  {
   "cell_type": "code",
   "execution_count": 25,
   "metadata": {},
   "outputs": [
    {
     "name": "stdout",
     "output_type": "stream",
     "text": [
      "<class 'pandas.core.frame.DataFrame'>\n",
      "RangeIndex: 5171 entries, 0 to 5170\n",
      "Data columns (total 4 columns):\n",
      " #   Column      Non-Null Count  Dtype \n",
      "---  ------      --------------  ----- \n",
      " 0   Unnamed: 0  5171 non-null   int64 \n",
      " 1   label       5171 non-null   object\n",
      " 2   text        5171 non-null   object\n",
      " 3   label_num   5171 non-null   int64 \n",
      "dtypes: int64(2), object(2)\n",
      "memory usage: 161.7+ KB\n"
     ]
    }
   ],
   "source": [
    "df.info()"
   ]
  },
  {
   "cell_type": "code",
   "execution_count": 26,
   "metadata": {},
   "outputs": [
    {
     "data": {
      "text/html": [
       "<div>\n",
       "<style scoped>\n",
       "    .dataframe tbody tr th:only-of-type {\n",
       "        vertical-align: middle;\n",
       "    }\n",
       "\n",
       "    .dataframe tbody tr th {\n",
       "        vertical-align: top;\n",
       "    }\n",
       "\n",
       "    .dataframe thead th {\n",
       "        text-align: right;\n",
       "    }\n",
       "</style>\n",
       "<table border=\"1\" class=\"dataframe\">\n",
       "  <thead>\n",
       "    <tr style=\"text-align: right;\">\n",
       "      <th></th>\n",
       "      <th>count</th>\n",
       "      <th>mean</th>\n",
       "      <th>std</th>\n",
       "      <th>min</th>\n",
       "      <th>25%</th>\n",
       "      <th>50%</th>\n",
       "      <th>75%</th>\n",
       "      <th>max</th>\n",
       "    </tr>\n",
       "  </thead>\n",
       "  <tbody>\n",
       "    <tr>\n",
       "      <th>Unnamed: 0</th>\n",
       "      <td>5171.0</td>\n",
       "      <td>2585.000000</td>\n",
       "      <td>1492.883452</td>\n",
       "      <td>0.0</td>\n",
       "      <td>1292.5</td>\n",
       "      <td>2585.0</td>\n",
       "      <td>3877.5</td>\n",
       "      <td>5170.0</td>\n",
       "    </tr>\n",
       "    <tr>\n",
       "      <th>label_num</th>\n",
       "      <td>5171.0</td>\n",
       "      <td>0.289886</td>\n",
       "      <td>0.453753</td>\n",
       "      <td>0.0</td>\n",
       "      <td>0.0</td>\n",
       "      <td>0.0</td>\n",
       "      <td>1.0</td>\n",
       "      <td>1.0</td>\n",
       "    </tr>\n",
       "  </tbody>\n",
       "</table>\n",
       "</div>"
      ],
      "text/plain": [
       "             count         mean          std  min     25%     50%     75%  \\\n",
       "Unnamed: 0  5171.0  2585.000000  1492.883452  0.0  1292.5  2585.0  3877.5   \n",
       "label_num   5171.0     0.289886     0.453753  0.0     0.0     0.0     1.0   \n",
       "\n",
       "               max  \n",
       "Unnamed: 0  5170.0  \n",
       "label_num      1.0  "
      ]
     },
     "execution_count": 26,
     "metadata": {},
     "output_type": "execute_result"
    }
   ],
   "source": [
    "df.describe().T"
   ]
  },
  {
   "cell_type": "markdown",
   "metadata": {},
   "source": [
    "### Check if the dataset has null values"
   ]
  },
  {
   "cell_type": "code",
   "execution_count": 27,
   "metadata": {},
   "outputs": [
    {
     "data": {
      "text/plain": [
       "Unnamed: 0    0\n",
       "label         0\n",
       "text          0\n",
       "label_num     0\n",
       "dtype: int64"
      ]
     },
     "execution_count": 27,
     "metadata": {},
     "output_type": "execute_result"
    }
   ],
   "source": [
    "df.isnull().sum()"
   ]
  },
  {
   "cell_type": "markdown",
   "metadata": {},
   "source": [
    "### Check the dataset's SPAM and HAM distribution"
   ]
  },
  {
   "cell_type": "code",
   "execution_count": 28,
   "metadata": {},
   "outputs": [
    {
     "data": {
      "text/plain": [
       "label\n",
       "ham     0.710114\n",
       "spam    0.289886\n",
       "Name: proportion, dtype: float64"
      ]
     },
     "execution_count": 28,
     "metadata": {},
     "output_type": "execute_result"
    }
   ],
   "source": [
    "df['label'].value_counts(normalize=True)"
   ]
  },
  {
   "cell_type": "code",
   "execution_count": 29,
   "metadata": {},
   "outputs": [
    {
     "data": {
      "image/png": "[encoded data removed]",
      "text/plain": [
       "<Figure size 640x480 with 1 Axes>"
      ]
     },
     "metadata": {},
     "output_type": "display_data"
    }
   ],
   "source": [
    "sns.histplot(data=df, x=\"label_num\", hue=\"label\")\n",
    "plt.title(\"Distribution of SPAM and HAM\")\n",
    "plt.xlabel(\"Label Numbers\")\n",
    "plt.ylabel(\"\")\n",
    "plt.show(\"Count\")"
   ]
  },
  {
   "cell_type": "markdown",
   "metadata": {},
   "source": [
    "## Data Preprocessing\n",
    "\n",
    "To ensure the dataset is clean and ready for modeling, several preprocessing steps were undertaken:\n",
    "\n",
    "1. **Dropping Unnecessary Columns**: The dataset initially contained an \"Unnamed: 0\" column, which represented a masked version of the email sender. This column is irrelevant to the classification task and was removed to simplify the dataset.\n",
    "\n",
    "2. **Text Cleaning**: A custom `clean_email_text` function was created to remove non-string punctuation and other irrelevant characters from the email content. This step ensures that only meaningful words are retained for further analysis.\n",
    "\n",
    "3. **Stopwords Removal**: Stopwords, or common words that do not contribute significant meaning (e.g., \"the\", \"is\"), were removed using the `stopwords` list from the sklearn library. This reduces noise in the data and helps the model focus on more important features.\n",
    "\n",
    "4. **Stemming**: To normalize the text and reduce words to their base forms, the Snowball Stemmer from sklearn was applied. This step reduces word variations and improves the model's ability to generalize patterns in the dataset.\n"
   ]
  },
  {
   "cell_type": "code",
   "execution_count": 30,
   "metadata": {},
   "outputs": [],
   "source": [
    "# Remove \"Unnamed: 0\" column. This is a masked column containing the email sender.\n",
    "df.drop([\"Unnamed: 0\"], axis=1, inplace=True)\n"
   ]
  },
  {
   "cell_type": "code",
   "execution_count": 31,
   "metadata": {},
   "outputs": [
    {
     "data": {
      "text/html": [
       "<div>\n",
       "<style scoped>\n",
       "    .dataframe tbody tr th:only-of-type {\n",
       "        vertical-align: middle;\n",
       "    }\n",
       "\n",
       "    .dataframe tbody tr th {\n",
       "        vertical-align: top;\n",
       "    }\n",
       "\n",
       "    .dataframe thead th {\n",
       "        text-align: right;\n",
       "    }\n",
       "</style>\n",
       "<table border=\"1\" class=\"dataframe\">\n",
       "  <thead>\n",
       "    <tr style=\"text-align: right;\">\n",
       "      <th></th>\n",
       "      <th>label</th>\n",
       "      <th>text</th>\n",
       "      <th>label_num</th>\n",
       "    </tr>\n",
       "  </thead>\n",
       "  <tbody>\n",
       "    <tr>\n",
       "      <th>0</th>\n",
       "      <td>ham</td>\n",
       "      <td>Subject: enron methanol ; meter # : 988291\\r\\n...</td>\n",
       "      <td>0</td>\n",
       "    </tr>\n",
       "    <tr>\n",
       "      <th>1</th>\n",
       "      <td>ham</td>\n",
       "      <td>Subject: hpl nom for january 9 , 2001\\r\\n( see...</td>\n",
       "      <td>0</td>\n",
       "    </tr>\n",
       "    <tr>\n",
       "      <th>2</th>\n",
       "      <td>ham</td>\n",
       "      <td>Subject: neon retreat\\r\\nho ho ho , we ' re ar...</td>\n",
       "      <td>0</td>\n",
       "    </tr>\n",
       "    <tr>\n",
       "      <th>3</th>\n",
       "      <td>spam</td>\n",
       "      <td>Subject: photoshop , windows , office . cheap ...</td>\n",
       "      <td>1</td>\n",
       "    </tr>\n",
       "    <tr>\n",
       "      <th>4</th>\n",
       "      <td>ham</td>\n",
       "      <td>Subject: re : indian springs\\r\\nthis deal is t...</td>\n",
       "      <td>0</td>\n",
       "    </tr>\n",
       "  </tbody>\n",
       "</table>\n",
       "</div>"
      ],
      "text/plain": [
       "  label                                               text  label_num\n",
       "0   ham  Subject: enron methanol ; meter # : 988291\\r\\n...          0\n",
       "1   ham  Subject: hpl nom for january 9 , 2001\\r\\n( see...          0\n",
       "2   ham  Subject: neon retreat\\r\\nho ho ho , we ' re ar...          0\n",
       "3  spam  Subject: photoshop , windows , office . cheap ...          1\n",
       "4   ham  Subject: re : indian springs\\r\\nthis deal is t...          0"
      ]
     },
     "execution_count": 31,
     "metadata": {},
     "output_type": "execute_result"
    }
   ],
   "source": [
    "df.head()"
   ]
  },
  {
   "cell_type": "code",
   "execution_count": 35,
   "metadata": {},
   "outputs": [],
   "source": [
    "def clean_email_text(text):\n",
    "    text = ''.join([char for char in text if char not in string.punctuation])\n",
    "    words = text.split()\n",
    "    stop_words = stopwords.words('english')\n",
    "    stemmer=SnowballStemmer('english')\n",
    "    words = [stemmer.stem(word) for word in words if word.lower() not in stop_words]\n",
    "    final_words = [word for word in words if word != \"subject\"]\n",
    "    return ' '.join(final_words)"
   ]
  },
  {
   "cell_type": "markdown",
   "metadata": {},
   "source": [
    "### Apply the clean_email_text function to the column 'clean_text'"
   ]
  },
  {
   "cell_type": "code",
   "execution_count": 36,
   "metadata": {},
   "outputs": [],
   "source": [
    "df['clean_text'] = df['text'].apply(clean_email_text)"
   ]
  },
  {
   "cell_type": "markdown",
   "metadata": {},
   "source": [
    "#### Check clean_text column"
   ]
  },
  {
   "cell_type": "code",
   "execution_count": 37,
   "metadata": {},
   "outputs": [
    {
     "data": {
      "text/plain": [
       "0       enron methanol meter 988291 follow note gave m...\n",
       "1       hpl nom januari 9 2001 see attach file hplnol ...\n",
       "2       neon retreat ho ho ho around wonder time year ...\n",
       "3       photoshop window offic cheap main trend abas d...\n",
       "4       indian spring deal book teco pvr revenu unders...\n",
       "                              ...                        \n",
       "5166    put 10 ft transport volum decreas 25000 10000 ...\n",
       "5167    3 4 2000 follow nom hpl take extra 15 mmcf wee...\n",
       "5168    calpin daili gas nomin juli mention earlier ho...\n",
       "5169    industri worksheet august 2000 activ attach wo...\n",
       "5170    import onlin bank alert dear valu citizensr ba...\n",
       "Name: clean_text, Length: 5171, dtype: object"
      ]
     },
     "execution_count": 37,
     "metadata": {},
     "output_type": "execute_result"
    }
   ],
   "source": [
    "df['clean_text']"
   ]
  },
  {
   "cell_type": "markdown",
   "metadata": {},
   "source": [
    "### TfidfVectorizer\n",
    "The TfidfVectorizer is a tool from the sklearn.feature_extraction.text module in Python, commonly used for transforming text data into numerical features that machine learning models can understand. It is based on TF-IDF (Term Frequency-Inverse Document Frequency), a popular technique for text representation."
   ]
  },
  {
   "cell_type": "markdown",
   "metadata": {},
   "source": [
    "# Importance of TfidfVectorizer in Email Spam Detection\n",
    "\n",
    "The `TfidfVectorizer` is a crucial component in this email spam detection project as it transforms raw email text into numerical features that machine learning models can process. Below are the key reasons why it plays a vital role:\n",
    "\n",
    "### 1. **Feature Extraction**\n",
    "- **Text to Numbers**: Emails are unstructured text, which needs to be converted into numerical data for model training. The `TfidfVectorizer` assigns each word in the email a weight based on its importance (TF-IDF score).\n",
    "- **Meaningful Representation**: It emphasizes words that help distinguish between spam and ham (non-spam) emails. Words like \"free\", \"win\", or \"offer\" in spam emails get higher weights, while common words like \"the\", \"is\" are given less importance.\n",
    "\n",
    "### 2. **Handling Noise**\n",
    "- **Reduction of Common Words**: Both spam and ham emails share many common words (e.g., \"and\", \"the\"). The vectorizer assigns lower scores to such words, reducing their influence, which allows the model to focus on more informative words.\n",
    "- **Improved Signal-to-Noise Ratio**: By emphasizing relevant words, `TfidfVectorizer` filters out noise, ensuring that only meaningful terms remain for model training.\n",
    "\n",
    "### 3. **Improved Model Performance**\n",
    "- **Spam and Ham Differentiation**: Certain keywords are strong indicators of spam (e.g., \"win\", \"prize\"), while others are typical of non-spam emails (e.g., \"work\", \"meeting\"). The vectorizer ensures that the model understands the relative importance of these terms.\n",
    "- **Balanced Word Frequency**: By balancing word frequency across documents, the model is better at generalizing to new email data and improving classification accuracy.\n",
    "\n",
    "### 4. **Dimensionality Reduction**\n",
    "- The vectorizer reduces the dataset to only important words, ignoring terms common to all emails. This prevents overfitting and ensures that the model remains generalizable to new email datasets.\n",
    "\n",
    "### Example in Email Spam Detection:\n",
    "In spam detection, words like \"free\", \"urgent\", and \"winner\" are more likely to occur in spam emails. The `TfidfVectorizer` assigns higher scores to these terms in spam emails, while down-weighting common words such as \"the\" and \"and\", making it easier for the model to identify spam.\n",
    "\n",
    "### Conclusion:\n",
    "The `TfidfVectorizer` is essential for:\n",
    "- Converting raw email text into numerical data for the model.\n",
    "- Highlighting words that are relevant for distinguishing spam from ham.\n",
    "- Reducing the impact of non-informative words.\n",
    "- Enhancing the overall accuracy of spam detection by improving the feature representation.\n"
   ]
  },
  {
   "cell_type": "markdown",
   "metadata": {},
   "source": [
    "# Importance of Naive Bayes in Email Spam Detection\n",
    "\n",
    "Naive Bayes is a simple yet powerful probabilistic machine learning algorithm, widely used for text classification, especially in email spam detection. It applies Bayes' Theorem with the assumption that features are conditionally independent given the class label (this is known as the **Naive** assumption). \n",
    "\n",
    "Here’s why Naive Bayes is important for email spam detection:\n",
    "\n",
    "### 1. **Suitability for Text Classification**:\n",
    "   - **High-Dimensional Data**: Naive Bayes handles high-dimensional data well, such as the text data processed using `TfidfVectorizer`. It performs efficiently even when there are thousands of words (features) in each email.\n",
    "   - **Binary Classification**: Email spam detection is a binary classification problem, where the goal is to classify emails as either spam or ham (non-spam). Naive Bayes is particularly good for binary classification, making it an excellent fit for this task.\n",
    "\n",
    "### 2. **Interpretability**:\n",
    "   - **Clear Probabilistic Output**: Naive Bayes provides clear probability scores for each class (spam or ham). For example, it gives a probability that a given email belongs to the \"spam\" class, helping users understand the model’s decision-making process.\n",
    "   - **Handling of Word Frequencies**: Since it is a word-frequency-based model, Naive Bayes assigns probabilities based on how often certain words (features) appear in spam or ham emails. For example, words like \"free\", \"win\", or \"click\" might have a higher probability of occurring in spam emails.\n",
    "\n",
    "### 3. **Efficient and Fast**:\n",
    "   - **Low Computational Cost**: Naive Bayes is computationally efficient and requires fewer resources compared to more complex algorithms. This makes it a great option when processing large datasets or when quick model training is needed.\n",
    "   - **Real-Time Predictions**: The model makes predictions quickly, which is advantageous in real-time email filtering systems where fast classification is critical.\n",
    "\n",
    "### 4. **Good Performance with Limited Data**:\n",
    "   - **Robust with Small Datasets**: Naive Bayes can perform surprisingly well even with small amounts of training data, making it useful in situations where only a limited set of spam and ham emails are available for training.\n",
    "   - **Works Well with Noisy Data**: Email datasets can be noisy (containing misspellings, formatting errors, etc.), and Naive Bayes is capable of handling such imperfections without a significant drop in performance.\n",
    "\n",
    "### 5. **Common Naive Bayes Variants**:\n",
    "   - **Multinomial Naive Bayes**: This is the most common version of Naive Bayes used for text classification, including email spam detection. It assumes that the features (words) are multinomially distributed, which is suitable for text data where we count occurrences of words.\n",
    "   - **Bernoulli Naive Bayes**: This variant works well when the features are binary, i.e., the presence or absence of certain words (instead of their frequency). It's less commonly used in text classification but may still be useful depending on the dataset.\n",
    "\n",
    "### Example of Naive Bayes in Email Spam Detection:\n",
    "Naive Bayes calculates the probability that an email belongs to either the spam or ham class based on the words it contains. For example, if an email contains words like \"winner\", \"lottery\", or \"urgent\", the model might assign a higher probability to the spam class. On the other hand, if the email contains words like \"meeting\", \"project\", or \"team\", it might lean towards the ham class.\n",
    "\n",
    "### Conclusion:\n",
    "Naive Bayes is ideal for email spam detection due to its:\n",
    "- **Efficiency** with large, high-dimensional datasets.\n",
    "- **Interpretability**, providing probabilistic scores for each classification.\n",
    "- **Speed** in training and making real-time predictions.\n",
    "- **Strong performance** with limited or noisy data.\n",
    "\n"
   ]
  },
  {
   "cell_type": "code",
   "execution_count": 43,
   "metadata": {},
   "outputs": [],
   "source": [
    "tfidf_vectorizer = TfidfVectorizer()\n",
    "X = tfidf_vectorizer.fit_transform(df['clean_text'])\n",
    "y = df['label_num']\n"
   ]
  },
  {
   "cell_type": "markdown",
   "metadata": {},
   "source": [
    "#### Train Test Split"
   ]
  },
  {
   "cell_type": "code",
   "execution_count": 44,
   "metadata": {},
   "outputs": [],
   "source": [
    "X_train, X_test, y_train, y_test = train_test_split(X,y,test_size=.20, random_state=42)"
   ]
  },
  {
   "cell_type": "code",
   "execution_count": 46,
   "metadata": {},
   "outputs": [
    {
     "name": "stdout",
     "output_type": "stream",
     "text": [
      "Naive Bayes Accuracy: 0.92\n",
      "\n",
      "Classification Report: \n",
      "\t              precision    recall  f1-score   support\n",
      "\n",
      "           0       0.90      1.00      0.95       742\n",
      "           1       1.00      0.72      0.84       293\n",
      "\n",
      "    accuracy                           0.92      1035\n",
      "   macro avg       0.95      0.86      0.89      1035\n",
      "weighted avg       0.93      0.92      0.92      1035\n",
      "\n",
      "SVM Accuracy: 0.99\n",
      "\n",
      "Classification Report: \n",
      "\t              precision    recall  f1-score   support\n",
      "\n",
      "           0       1.00      0.98      0.99       742\n",
      "           1       0.96      0.99      0.97       293\n",
      "\n",
      "    accuracy                           0.99      1035\n",
      "   macro avg       0.98      0.99      0.98      1035\n",
      "weighted avg       0.99      0.99      0.99      1035\n",
      "\n",
      "Logistic Regression Accuracy: 0.98\n",
      "\n",
      "Classification Report: \n",
      "\t              precision    recall  f1-score   support\n",
      "\n",
      "           0       1.00      0.98      0.99       742\n",
      "           1       0.96      0.99      0.97       293\n",
      "\n",
      "    accuracy                           0.98      1035\n",
      "   macro avg       0.98      0.99      0.98      1035\n",
      "weighted avg       0.98      0.98      0.98      1035\n",
      "\n",
      "Best Model: \n",
      "SVM with Accuracy: 0.99\n",
      "\n"
     ]
    }
   ],
   "source": [
    "models = {\n",
    "    \"Naive Bayes\": MultinomialNB(),\n",
    "    \"SVM\": SVC(),\n",
    "    \"Logistic Regression\": LogisticRegression(max_iter=10000)\n",
    "}\n",
    "\n",
    "best_result = {}\n",
    "best_model_name = None\n",
    "best_accuracy = 0.0\n",
    "\n",
    "for name, model in models.items():\n",
    "    model.fit(X_train, y_train)\n",
    "    y_pred = model.predict(X_test)\n",
    "\n",
    "    accuracy = accuracy_score(y_test, y_pred)\n",
    "    best_result[name] = accuracy\n",
    "\n",
    "    print(f\"{name} Accuracy: {accuracy:.2f}\\n\")\n",
    "    print(f\"Classification Report: \\n\\t{classification_report(y_test, y_pred)}\")\n",
    "\n",
    "    if accuracy > best_accuracy:\n",
    "        best_accuracy = accuracy\n",
    "        best_model_name = name\n",
    "\n",
    "print(f\"Best Model: \\n{best_model_name} with Accuracy: {best_accuracy:.2f}\")\n",
    "print()"
   ]
  },
  {
   "cell_type": "code",
   "execution_count": 48,
   "metadata": {},
   "outputs": [
    {
     "data": {
      "image/png": "[encoded data removed]",
      "text/plain": [
       "<Figure size 1200x600 with 1 Axes>"
      ]
     },
     "metadata": {},
     "output_type": "display_data"
    }
   ],
   "source": [
    "\n",
    "plt.figure(figsize=(12, 6))\n",
    "bars = plt.bar(best_result.keys(), best_result.values())\n",
    "plt.title('Model Comparison', fontsize=16, fontweight='bold')\n",
    "plt.xlabel('Model', fontsize=14)\n",
    "plt.ylabel('Accuracy', fontsize=14)\n",
    "plt.ylim(0.9, 1.0)\n",
    "\n",
    "# Add value labels on top of bars\n",
    "for bar in bars:\n",
    "    height = bar.get_height()\n",
    "    plt.text(bar.get_x() + bar.get_width() / 2, height + 0.01, f'{height:.2f}', \n",
    "             ha='center', va='bottom', fontsize=12, fontweight='bold')\n",
    "\n",
    "plt.grid(axis='y', linestyle='--', alpha=0.7)\n",
    "plt.show()"
   ]
  },
  {
   "cell_type": "code",
   "execution_count": null,
   "metadata": {},
   "outputs": [],
   "source": []
  }
 ],
 "metadata": {
  "kernelspec": {
   "display_name": "venv",
   "language": "python",
   "name": "python3"
  },
  "language_info": {
   "codemirror_mode": {
    "name": "ipython",
    "version": 3
   },
   "file_extension": ".py",
   "mimetype": "text/x-python",
   "name": "python",
   "nbconvert_exporter": "python",
   "pygments_lexer": "ipython3",
   "version": "3.12.0"
  }
 },
 "nbformat": 4,
 "nbformat_minor": 2
}
