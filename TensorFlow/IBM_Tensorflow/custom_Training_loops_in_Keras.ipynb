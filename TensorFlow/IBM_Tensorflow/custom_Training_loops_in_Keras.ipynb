{
 "cells": [
  {
   "cell_type": "markdown",
   "id": "490061d4",
   "metadata": {},
   "source": [
    "implement a basic custom training loop in Keras."
   ]
  },
  {
   "cell_type": "code",
   "execution_count": 1,
   "id": "cbd2a2ec",
   "metadata": {},
   "outputs": [],
   "source": [
    "import os\n",
    "import warnings\n",
    "import tensorflow as tf \n",
    "from tensorflow.keras.models import Sequential, Model\n",
    "from tensorflow.keras.layers import Dense, Flatten, Input\n",
    "from tensorflow.keras.callbacks import Callback\n",
    "import numpy as np"
   ]
  },
  {
   "cell_type": "code",
   "execution_count": 4,
   "id": "915ffd77",
   "metadata": {},
   "outputs": [],
   "source": [
    "# Suppress all Python warnings\n",
    "warnings.filterwarnings('ignore')\n",
    "\n",
    "# Set TensorFlow log level to suppress warnings and info messages\n",
    "os.environ['TF_CPP_MIN_LOG_LEVEL'] = '2'\n",
    "\n",
    "# Step 1: Set Up the Environment\n",
    "(x_train, y_train), (x_test, y_test) = tf.keras.datasets.mnist.load_data() \n",
    "x_train, x_test = x_train / 255.0, x_test / 255.0 \n",
    "train_dataset = tf.data.Dataset.from_tensor_slices((x_train, y_train)).batch(32)\n"
   ]
  },
  {
   "cell_type": "markdown",
   "id": "f2764874",
   "metadata": {},
   "source": [
    "### Define the model"
   ]
  },
  {
   "cell_type": "code",
   "execution_count": 5,
   "id": "ed026c55",
   "metadata": {},
   "outputs": [],
   "source": [
    "model = Sequential([\n",
    "    Flatten(input_shape=(28, 28)),\n",
    "    Dense(128, activation='relu'),\n",
    "    Dense(10)\n",
    "])\n"
   ]
  },
  {
   "cell_type": "markdown",
   "id": "7fb0c72d",
   "metadata": {},
   "source": [
    "### Define loss function and optimizer\n",
    "\n",
    "- Use Sparse Categorical Crossentropy for the loss function. \n",
    "- Use the Adam optimizer. "
   ]
  },
  {
   "cell_type": "code",
   "execution_count": 6,
   "id": "4db7c092",
   "metadata": {},
   "outputs": [],
   "source": [
    "loss_fn = tf.keras.losses.SparseCategoricalCrossentropy(from_logits=True) \n",
    "optimizer = tf.keras.optimizers.Adam()"
   ]
  },
  {
   "cell_type": "markdown",
   "id": "6b51c85d",
   "metadata": {},
   "source": [
    "### Implement custom training loop"
   ]
  },
  {
   "cell_type": "code",
   "execution_count": 7,
   "id": "c2bc18ca",
   "metadata": {},
   "outputs": [
    {
     "name": "stdout",
     "output_type": "stream",
     "text": [
      "Start of epoch 1\n",
      "Epoch 1 Step 0: Loss = 2.3339295387268066\n",
      "Epoch 1 Step 200: Loss = 0.4200586676597595\n",
      "Epoch 1 Step 400: Loss = 0.18353486061096191\n",
      "Epoch 1 Step 600: Loss = 0.16809335350990295\n",
      "Epoch 1 Step 800: Loss = 0.15435132384300232\n",
      "Epoch 1 Step 1000: Loss = 0.5205732583999634\n",
      "Epoch 1 Step 1200: Loss = 0.18945136666297913\n",
      "Epoch 1 Step 1400: Loss = 0.24824224412441254\n",
      "Epoch 1 Step 1600: Loss = 0.17942407727241516\n",
      "Epoch 1 Step 1800: Loss = 0.1575031876564026\n",
      "Start of epoch 2\n",
      "Epoch 2 Step 0: Loss = 0.05862722545862198\n",
      "Epoch 2 Step 200: Loss = 0.21767151355743408\n",
      "Epoch 2 Step 400: Loss = 0.12814423441886902\n",
      "Epoch 2 Step 600: Loss = 0.04776795953512192\n",
      "Epoch 2 Step 800: Loss = 0.0879962220788002\n",
      "Epoch 2 Step 1000: Loss = 0.346660315990448\n",
      "Epoch 2 Step 1200: Loss = 0.08232636004686356\n",
      "Epoch 2 Step 1400: Loss = 0.15419481694698334\n",
      "Epoch 2 Step 1600: Loss = 0.1385653018951416\n",
      "Epoch 2 Step 1800: Loss = 0.10450499504804611\n"
     ]
    }
   ],
   "source": [
    "epochs = 2\n",
    "# train_dataset = train_dataset.repeat(epochs)\n",
    "train_dataset = tf.data.Dataset.from_tensor_slices((x_train, y_train)).batch(32)\n",
    "for epoch in range(epochs):\n",
    "    print(f'Start of epoch {epoch + 1}')\n",
    "\n",
    "    for step, (x_batch_train, y_batch_train) in enumerate(train_dataset):\n",
    "        with tf.GradientTape() as tape:\n",
    "            logits = model(x_batch_train, training=True)  # Forward pass\n",
    "            loss_value = loss_fn(y_batch_train, logits)  # Compute loss\n",
    "\n",
    "        # Compute gradients and update weights\n",
    "        grads = tape.gradient(loss_value, model.trainable_weights)\n",
    "        optimizer.apply_gradients(zip(grads, model.trainable_weights))\n",
    "\n",
    "        # Logging the loss every 200 steps\n",
    "        if step % 200 == 0:\n",
    "            print(f'Epoch {epoch + 1} Step {step}: Loss = {loss_value.numpy()}')\n"
   ]
  },
  {
   "cell_type": "markdown",
   "id": "359be8a2",
   "metadata": {},
   "source": []
  }
 ],
 "metadata": {
  "kernelspec": {
   "display_name": "venv",
   "language": "python",
   "name": "python3"
  },
  "language_info": {
   "codemirror_mode": {
    "name": "ipython",
    "version": 3
   },
   "file_extension": ".py",
   "mimetype": "text/x-python",
   "name": "python",
   "nbconvert_exporter": "python",
   "pygments_lexer": "ipython3",
   "version": "3.12.9"
  }
 },
 "nbformat": 4,
 "nbformat_minor": 5
}
