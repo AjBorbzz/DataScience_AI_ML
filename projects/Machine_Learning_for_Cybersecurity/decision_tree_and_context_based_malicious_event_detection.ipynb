{
 "cells": [
  {
   "cell_type": "markdown",
   "id": "d961333c",
   "metadata": {},
   "source": [
    "# Malicious Event Detection using Decision Tree and Context-Based"
   ]
  },
  {
   "cell_type": "markdown",
   "id": "f546b4a7",
   "metadata": {},
   "source": [
    "Use KDD Cup 1999 computer network intrusion detection dataset. \n",
    "The goal of this notebook is to distinguish the good and bad network connections.\n",
    "\n",
    "### About the dataset\n",
    "The data sources are primarily sourced from the 1998 DARPA Intrusion Detection Evaluation Program by MIT Lincoln Labs. \n",
    "The Dataset conntains a variety of network events that have been simulated in the military network environment. \n",
    "The data is a TCP dump that has been accumulatedfrom the local network of an Air Force environment.\n"
   ]
  },
  {
   "cell_type": "markdown",
   "id": "9fbd4c9e",
   "metadata": {},
   "source": []
  }
 ],
 "metadata": {
  "kernelspec": {
   "display_name": "venv",
   "language": "python",
   "name": "python3"
  },
  "language_info": {
   "name": "python",
   "version": "3.13.2"
  }
 },
 "nbformat": 4,
 "nbformat_minor": 5
}
