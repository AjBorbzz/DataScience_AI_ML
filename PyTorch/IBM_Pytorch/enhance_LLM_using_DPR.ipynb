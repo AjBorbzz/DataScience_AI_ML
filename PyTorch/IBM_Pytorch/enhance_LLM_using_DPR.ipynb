{
 "cells": [
  {
   "cell_type": "markdown",
   "id": "b1c84d06",
   "metadata": {},
   "source": [
    "# Enhance LLMs using RAG and Hugging Face"
   ]
  }
 ],
 "metadata": {
  "kernelspec": {
   "display_name": "3.11.9",
   "language": "python",
   "name": "python3"
  },
  "language_info": {
   "name": "python",
   "version": "3.11.9"
  }
 },
 "nbformat": 4,
 "nbformat_minor": 5
}
