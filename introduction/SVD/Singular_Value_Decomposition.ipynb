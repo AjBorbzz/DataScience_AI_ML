{
 "cells": [
  {
   "cell_type": "markdown",
   "metadata": {},
   "source": [
    "In this mini project, we will use `Background Subtraction in Dynamic DataSet` from `Statistical Visual Computing Laboratory (SVCL)` at UCSD to experiment data to remove objects other than the street from several security videos using `Singular Value Decomposition` to help test their vision system.\n"
   ]
  },
  {
   "cell_type": "markdown",
   "metadata": {},
   "source": [
    "** This exercise is a revision from IBM Unsupervised learning Hands-on project **"
   ]
  },
  {
   "cell_type": "code",
   "execution_count": 34,
   "metadata": {},
   "outputs": [
    {
     "data": {
      "application/vnd.jupyter.widget-view+json": {
       "model_id": "834db265bb994825afc50a57a082140c",
       "version_major": 2,
       "version_minor": 0
      },
      "text/plain": [
       "Downloading peds.tar.gz:   0%|          | 0/4350112 [00:00<?, ?it/s]"
      ]
     },
     "metadata": {},
     "output_type": "display_data"
    },
    {
     "name": "stdout",
     "output_type": "stream",
     "text": [
      "Saved as 'peds.tar.gz'\n"
     ]
    },
    {
     "data": {
      "application/vnd.jupyter.widget-view+json": {
       "model_id": "f729326c98b54eefbba92ab3857da89d",
       "version_major": 2,
       "version_minor": 0
      },
      "text/plain": [
       "Downloading boats.tar.gz:   0%|          | 0/1552239 [00:00<?, ?it/s]"
      ]
     },
     "metadata": {},
     "output_type": "display_data"
    },
    {
     "name": "stdout",
     "output_type": "stream",
     "text": [
      "Saved as 'boats.tar.gz'\n"
     ]
    }
   ],
   "source": [
    "import skillsnetwork\n",
    "# print(skillsnetwork.read.__doc__)\n",
    "# print(dir(skillsnetwork))\n",
    "base_path = \"E:\\\\Python\\\\2024_machine_learning_projects\\\\introduction\\\\SVD\"\n",
    "path=\"E:\\\\Python\\\\2024_machine_learning_projects\\\\introduction\\\\SVD\\\\traffic.tar.gz\"\n",
    "# await skillsnetwork.prepare(f\"{path}\")\n",
    "await skillsnetwork.download(\"https://cf-courses-data.s3.us.cloud-object-storage.appdomain.cloud/IBM-ML0187EN-SkillsNetwork/labs/module%203/data/peds.tar.gz\", path=base_path)\n",
    "await skillsnetwork.download(\"https://cf-courses-data.s3.us.cloud-object-storage.appdomain.cloud/IBM-ML0187EN-SkillsNetwork/labs/module%203/data/boats.tar.gz\", path=base_path)\n"
   ]
  },
  {
   "cell_type": "code",
   "execution_count": 39,
   "metadata": {},
   "outputs": [
    {
     "name": "stdout",
     "output_type": "stream",
     "text": [
      "['boats.tar.gz', 'peds.tar.gz', 'traffic.tar.gz']\n"
     ]
    }
   ],
   "source": [
    "import tarfile\n",
    "import os\n",
    "\n",
    "def extract_tar_gz(file_path, extract_path='.'):\n",
    "    \"\"\" Extract a .tar.gz file to the specified directory.\n",
    "     Params:\n",
    "     file_path (str) : the path to the .tar.gz file.\n",
    "     extract_path (str): The directory where files should be extracted. Default is the current directory.\n",
    "    \"\"\"\n",
    "    try:\n",
    "        with tarfile.open(file_path, 'r:gz') as tar:\n",
    "            tar.extractall(path=extract_path)\n",
    "        print(f\"Extracted {file_path} to {extract_path}\")\n",
    "    except Exception as e:\n",
    "        print(f\"An error occured: {e}\")\n",
    "\n",
    "list_tar_files = [os.path.join(os.getcwd(), f) for f in os.listdir() if \"tar\" in f.split(\".\")[1]]\n",
    "print(list_tar_files)\n",
    "# traffic_files = os.path.join(os.getcwd(), 'traffic.tar.gz')\n",
    "# boats_files = os.path.join(os.getcwd(), 'boats.tar.gz')\n",
    "# peds_files = os.path.join(os.getcwd(), 'peds.tar.gz')\n",
    "# extract_tar_gz()\n"
   ]
  },
  {
   "cell_type": "code",
   "execution_count": null,
   "metadata": {},
   "outputs": [],
   "source": []
  }
 ],
 "metadata": {
  "kernelspec": {
   "display_name": "venv",
   "language": "python",
   "name": "python3"
  },
  "language_info": {
   "codemirror_mode": {
    "name": "ipython",
    "version": 3
   },
   "file_extension": ".py",
   "mimetype": "text/x-python",
   "name": "python",
   "nbconvert_exporter": "python",
   "pygments_lexer": "ipython3",
   "version": "3.12.0"
  }
 },
 "nbformat": 4,
 "nbformat_minor": 2
}
