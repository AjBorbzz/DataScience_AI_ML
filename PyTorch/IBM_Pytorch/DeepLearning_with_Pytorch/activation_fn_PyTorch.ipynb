{
 "cells": [
  {
   "cell_type": "markdown",
   "id": "066ec80b",
   "metadata": {},
   "source": [
    "# Activation Functions in PyTorch"
   ]
  },
  {
   "cell_type": "markdown",
   "id": "57742023",
   "metadata": {},
   "source": [
    "Apply different activation functions in Neural Network."
   ]
  },
  {
   "cell_type": "code",
   "execution_count": 1,
   "id": "54eabbd1",
   "metadata": {},
   "outputs": [
    {
     "data": {
      "text/plain": [
       "<torch._C.Generator at 0x118a65630>"
      ]
     },
     "execution_count": 1,
     "metadata": {},
     "output_type": "execute_result"
    }
   ],
   "source": [
    "import torch.nn as nn\n",
    "import torch\n",
    "\n",
    "import matplotlib.pyplot as plt\n",
    "torch.manual_seed(2)"
   ]
  },
  {
   "cell_type": "markdown",
   "id": "7f2b8074",
   "metadata": {},
   "source": [
    "### Create a tensor ranging from -10 to 10"
   ]
  },
  {
   "cell_type": "code",
   "execution_count": 4,
   "id": "ebfa5888",
   "metadata": {},
   "outputs": [
    {
     "name": "stderr",
     "output_type": "stream",
     "text": [
      "/var/folders/h0/1qbsqb5s27qgqgpdmd83xrx00000gn/T/ipykernel_3270/2656723452.py:1: UserWarning: torch.range is deprecated and will be removed in a future release because its behavior is inconsistent with Python's range builtin. Instead, use torch.arange, which produces values in [start, end).\n",
      "  z = torch.range(-10, 10, 0.1).view(-1, 1)\n"
     ]
    }
   ],
   "source": [
    "z = torch.range(-10, 10, 0.1).view(-1, 1)"
   ]
  },
  {
   "cell_type": "markdown",
   "id": "9fc68a8c",
   "metadata": {},
   "source": [
    "### Create sigmoid object\n"
   ]
  },
  {
   "cell_type": "code",
   "execution_count": 6,
   "id": "f286903f",
   "metadata": {},
   "outputs": [],
   "source": [
    "sig = nn.Sigmoid()\n",
    "yhat = sig(z)\n"
   ]
  },
  {
   "cell_type": "code",
   "execution_count": null,
   "id": "5c56ff24",
   "metadata": {},
   "outputs": [],
   "source": []
  }
 ],
 "metadata": {
  "kernelspec": {
   "display_name": "venv",
   "language": "python",
   "name": "python3"
  },
  "language_info": {
   "codemirror_mode": {
    "name": "ipython",
    "version": 3
   },
   "file_extension": ".py",
   "mimetype": "text/x-python",
   "name": "python",
   "nbconvert_exporter": "python",
   "pygments_lexer": "ipython3",
   "version": "3.13.2"
  }
 },
 "nbformat": 4,
 "nbformat_minor": 5
}
