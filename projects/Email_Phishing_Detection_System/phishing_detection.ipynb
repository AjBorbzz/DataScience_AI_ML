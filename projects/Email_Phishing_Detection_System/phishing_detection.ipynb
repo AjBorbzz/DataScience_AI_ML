{
 "cells": [
  {
   "cell_type": "code",
   "execution_count": 1,
   "metadata": {},
   "outputs": [
    {
     "name": "stderr",
     "output_type": "stream",
     "text": [
      "Device set to use cpu\n"
     ]
    }
   ],
   "source": [
    "from transformers import pipeline \n",
    "\n",
    "phishing_detector = pipeline(\"text-classification\", model=\"ealvaradob/bert-finetuned-phishing\")\n"
   ]
  },
  {
   "cell_type": "code",
   "execution_count": 2,
   "metadata": {},
   "outputs": [],
   "source": [
    "import asyncio\n",
    "import aioimaplib \n",
    "import email\n",
    "from email.header import decode_header \n",
    "\n",
    "IMAP_SERVER = \"imap.gmail.com\"\n",
    "EMAIL_USER = \"ajbitheaddhz@gmail.com\"\n",
    "EMAIL_PASSWORD = \"**Password**\"\n",
    "\n",
    "async def fetch_unread_emails():\n",
    "    imap_client = aioimaplib.IMAP4_SSL(IMAP_SERVER)\n",
    "    await imap_client.wait_hello_from_server()\n",
    "\n",
    "    await imap_client.login(EMAIL_USER, EMAIL_PASSWORD)\n",
    "    await imap_client.select(\"INBOX\")\n",
    "\n",
    "    _, email_ids = await imap_client.search(\"UNSEEN\")\n",
    "    emails = []\n",
    "    for email_id in email_ids[0].split():\n",
    "        _, data = await imap_client.fetch(email_id, \"(RFC822)\")\n",
    "        raw_email = data[1][0][1]\n",
    "        emails.append(raw_email)\n",
    "\n",
    "    await imap_client.logout()\n",
    "    return emails"
   ]
  },
  {
   "cell_type": "markdown",
   "metadata": {},
   "source": [
    "### Process Emails Asynchronously\n"
   ]
  },
  {
   "cell_type": "code",
   "execution_count": null,
   "metadata": {},
   "outputs": [],
   "source": [
    "async def process_email(raw_email):\n",
    "    msg = email.message_from_bytes(raw_email)\n",
    "    subject, encoding = decode_header(msg[\"Subject\"])[0]\n",
    "    subject = subject.decode(encoding or \"utf-8\") if isinstance(subject, bytes)\n",
    "\n",
    "    body = \"\"\n",
    "    if msg.is_multipart():\n",
    "        for part in msg.walk():\n",
    "            if part.get_content_type() == \"text/plain\":\n",
    "                body = part.get_payload(decode=True).decode()\n",
    "                break\n",
    "    else:\n",
    "        body = msg.get_payload(decode=True).decode()\n",
    "\n",
    "    prediction = phishing_detector(body)\n",
    "    is_phishing = prediction[0][\"label\"] == \"phishing\"\n",
    "\n",
    "    if is_phishing:\n",
    "        print(f\"! Phishing Email Detected! Subject: {subject}\")\n",
    "\n",
    "    return is_phishing"
   ]
  },
  {
   "cell_type": "markdown",
   "metadata": {},
   "source": [
    "### Run Concurrently\n"
   ]
  },
  {
   "cell_type": "code",
   "execution_count": null,
   "metadata": {},
   "outputs": [],
   "source": [
    "async def main():\n",
    "    print(\"Fetching emails...\")\n",
    "    emails = await fetch_unread_emails()\n",
    "\n",
    "    print(f\"Processing {len(emails)} emails concurrently\")\n",
    "    tasks = [process_email(email) for email in emails]\n",
    "    await asyncio.gather(*tasks)\n",
    "\n",
    "    print(\"Phishing Detection completed.\")\n",
    "\n",
    "asyncio.run(main())"
   ]
  }
 ],
 "metadata": {
  "kernelspec": {
   "display_name": "venv",
   "language": "python",
   "name": "python3"
  },
  "language_info": {
   "codemirror_mode": {
    "name": "ipython",
    "version": 3
   },
   "file_extension": ".py",
   "mimetype": "text/x-python",
   "name": "python",
   "nbconvert_exporter": "python",
   "pygments_lexer": "ipython3",
   "version": "3.11.4"
  }
 },
 "nbformat": 4,
 "nbformat_minor": 2
}
