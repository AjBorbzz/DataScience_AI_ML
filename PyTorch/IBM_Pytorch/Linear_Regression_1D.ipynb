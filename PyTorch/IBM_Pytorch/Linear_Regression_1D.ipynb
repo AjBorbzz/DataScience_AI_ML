{
 "cells": [
  {
   "cell_type": "markdown",
   "id": "771194ff",
   "metadata": {},
   "source": [
    "# Linear Regression 1D: Prediction"
   ]
  },
  {
   "cell_type": "code",
   "execution_count": 1,
   "id": "013f3d42",
   "metadata": {},
   "outputs": [],
   "source": [
    "import torch\n"
   ]
  },
  {
   "cell_type": "markdown",
   "id": "45b42431",
   "metadata": {},
   "source": [
    "#### Create the following expressions:"
   ]
  },
  {
   "cell_type": "markdown",
   "id": "aeb2fd07",
   "metadata": {},
   "source": [
    "$b=-1,w=2$\n",
    "\n",
    "$\\hat{y}=-1+2x$"
   ]
  },
  {
   "cell_type": "markdown",
   "id": "2c79c8a2",
   "metadata": {},
   "source": [
    "### Define w = 2 and b = -1 for y = wx + b\n",
    "\n",
    "w = torch.tensor(2.0, requires_grad = True)\n",
    "b = torch.tensor(-1.0, requires_grad = True)"
   ]
  },
  {
   "cell_type": "markdown",
   "id": "ab7991b8",
   "metadata": {},
   "source": []
  },
  {
   "cell_type": "code",
   "execution_count": 2,
   "id": "551da3bc",
   "metadata": {},
   "outputs": [],
   "source": [
    "w = torch.tensor(2.0, requires_grad = True)\n",
    "b = torch.tensor(-1.0, requires_grad = True)"
   ]
  },
  {
   "cell_type": "code",
   "execution_count": null,
   "id": "73efe6a6",
   "metadata": {},
   "outputs": [],
   "source": []
  }
 ],
 "metadata": {
  "kernelspec": {
   "display_name": "venv",
   "language": "python",
   "name": "python3"
  },
  "language_info": {
   "codemirror_mode": {
    "name": "ipython",
    "version": 3
   },
   "file_extension": ".py",
   "mimetype": "text/x-python",
   "name": "python",
   "nbconvert_exporter": "python",
   "pygments_lexer": "ipython3",
   "version": "3.13.2"
  }
 },
 "nbformat": 4,
 "nbformat_minor": 5
}
