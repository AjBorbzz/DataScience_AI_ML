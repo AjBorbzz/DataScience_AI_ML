{
 "cells": [
  {
   "cell_type": "markdown",
   "id": "44bfa160",
   "metadata": {},
   "source": [
    "# BLIP from Hugging Face Transformers\n"
   ]
  },
  {
   "cell_type": "code",
   "execution_count": null,
   "id": "3bcf74b7",
   "metadata": {},
   "outputs": [],
   "source": [
    "# Install the transformers library\n",
    "!pip install transformers Pillow torch torchvision torchaudio"
   ]
  },
  {
   "cell_type": "markdown",
   "id": "a1e1b851",
   "metadata": {},
   "source": [
    "### Automated Photo Captioning"
   ]
  },
  {
   "cell_type": "code",
   "execution_count": 2,
   "id": "07b3e3d7",
   "metadata": {},
   "outputs": [
    {
     "name": "stderr",
     "output_type": "stream",
     "text": [
      "/Users/ajborbz/.local/lib/python3.11/site-packages/tqdm/auto.py:21: TqdmWarning: IProgress not found. Please update jupyter and ipywidgets. See https://ipywidgets.readthedocs.io/en/stable/user_install.html\n",
      "  from .autonotebook import tqdm as notebook_tqdm\n"
     ]
    }
   ],
   "source": [
    "from transformers import BlipProcessor, BlipForConditionalGeneration\n",
    "from PIL import Image"
   ]
  },
  {
   "cell_type": "code",
   "execution_count": 11,
   "id": "a495febe",
   "metadata": {},
   "outputs": [],
   "source": [
    "# Initialize the processor and model from Hugging Face\n",
    "processor = BlipProcessor.from_pretrained(\"Salesforce/blip-image-captioning-base\")\n",
    "model = BlipForConditionalGeneration.from_pretrained(\"Salesforce/blip-image-captioning-base\")"
   ]
  },
  {
   "cell_type": "code",
   "execution_count": 12,
   "id": "9620e31c",
   "metadata": {},
   "outputs": [],
   "source": [
    "\n",
    "# Load an image\n",
    "image = Image.open(\"cat.png\")"
   ]
  },
  {
   "cell_type": "code",
   "execution_count": 13,
   "id": "eeeb4141",
   "metadata": {},
   "outputs": [],
   "source": [
    "# Prepare the image\n",
    "inputs = processor(image, return_tensors=\"pt\")"
   ]
  },
  {
   "cell_type": "code",
   "execution_count": 14,
   "id": "d0533e19",
   "metadata": {},
   "outputs": [
    {
     "name": "stdout",
     "output_type": "stream",
     "text": [
      "Generated Caption: a cat is sitting on the beach with a cup of coffee\n"
     ]
    }
   ],
   "source": [
    "# Generate captions\n",
    "outputs = model.generate(**inputs)\n",
    "caption = processor.decode(outputs[0],skip_special_tokens=True)\n",
    " \n",
    "print(\"Generated Caption:\", caption)"
   ]
  },
  {
   "cell_type": "markdown",
   "id": "c3cdcb22",
   "metadata": {},
   "source": [
    "### Visual Question and Answering\n"
   ]
  },
  {
   "cell_type": "code",
   "execution_count": 15,
   "id": "160ea03b",
   "metadata": {},
   "outputs": [],
   "source": [
    "import requests\n",
    "from PIL import Image\n",
    "from transformers import BlipProcessor, BlipForConditionalGeneration"
   ]
  },
  {
   "cell_type": "code",
   "execution_count": 16,
   "id": "6984ecb5",
   "metadata": {},
   "outputs": [],
   "source": [
    "# Load BLIP processor and model\n",
    "processor = BlipProcessor.from_pretrained(\"Salesforce/blip-image-captioning-large\")\n",
    "model = BlipForConditionalGeneration.from_pretrained(\"Salesforce/blip-image-captioning-large\")"
   ]
  },
  {
   "cell_type": "code",
   "execution_count": 17,
   "id": "8bc7e40e",
   "metadata": {},
   "outputs": [],
   "source": [
    "# Image URL \n",
    "img_url = 'https://storage.googleapis.com/sfr-vision-language-research/BLIP/demo.jpg'\n",
    "raw_image = Image.open(requests.get(img_url, stream=True).raw).convert('RGB')"
   ]
  },
  {
   "cell_type": "code",
   "execution_count": 18,
   "id": "4d7dd0e1",
   "metadata": {},
   "outputs": [],
   "source": [
    "# Specify the question you want to ask about the image\n",
    "question = \"What is in the image?\"\n",
    "\n",
    "# Use the processor to prepare inputs for VQA (image + question)\n",
    "inputs = processor(raw_image, question, return_tensors=\"pt\")"
   ]
  },
  {
   "cell_type": "code",
   "execution_count": 19,
   "id": "9de5b8f8",
   "metadata": {},
   "outputs": [],
   "source": [
    "# Generate the answer from the model\n",
    "out = model.generate(**inputs)"
   ]
  },
  {
   "cell_type": "code",
   "execution_count": 20,
   "id": "5366f330",
   "metadata": {},
   "outputs": [
    {
     "name": "stdout",
     "output_type": "stream",
     "text": [
      "Answer: what is in the image? a woman and her dog on the beach\n"
     ]
    }
   ],
   "source": [
    "# Decode and print the answer to the question\n",
    "answer = processor.decode(out[0], skip_special_tokens=True)\n",
    "print(f\"Answer: {answer}\")"
   ]
  },
  {
   "cell_type": "code",
   "execution_count": null,
   "id": "35e9a061",
   "metadata": {},
   "outputs": [],
   "source": []
  }
 ],
 "metadata": {
  "kernelspec": {
   "display_name": "3.11.9",
   "language": "python",
   "name": "python3"
  },
  "language_info": {
   "codemirror_mode": {
    "name": "ipython",
    "version": 3
   },
   "file_extension": ".py",
   "mimetype": "text/x-python",
   "name": "python",
   "nbconvert_exporter": "python",
   "pygments_lexer": "ipython3",
   "version": "3.11.9"
  }
 },
 "nbformat": 4,
 "nbformat_minor": 5
}
